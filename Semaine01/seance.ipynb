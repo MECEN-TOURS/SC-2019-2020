{
 "cells": [
  {
   "cell_type": "markdown",
   "metadata": {},
   "source": [
    "# Plan Semestre\n",
    "\n",
    "1. Graphe I, Python brut\n",
    "2. Programmation linéaire, numpy scipy (numérique), sympy (symbolique)\n",
    "3. Graphe II/ordonnancement, networkx ..."
   ]
  },
  {
   "cell_type": "markdown",
   "metadata": {},
   "source": [
    "# Problème\n",
    "\n",
    "Un berger avec un loup, un mouton et des choux veut traverser une rivière.\n",
    "Sa barque ne contient qu'une place en plus de la sienne.\n",
    "Il ne peut laisser ni loup et mouton, ni mouton et choux sans surveillance.\n",
    "Comment s'y prend-il?"
   ]
  },
  {
   "cell_type": "markdown",
   "metadata": {},
   "source": [
    "# Définition mathématiques des graphes\n",
    "\n",
    "- Un graphe est un couple $(V,E)$ où $V$ est un ensemble fini et $E$ un sous-ensemble de $V\\times V$.\n",
    "- Un graphe $(V, E)$ est dit non orienté lorsque \n",
    "$$\\forall a, b \\in V,\\qquad (a,b) \\in E \\Rightarrow (b, a) \\in E.$$"
   ]
  },
  {
   "cell_type": "markdown",
   "metadata": {},
   "source": [
    "# Code"
   ]
  },
  {
   "cell_type": "markdown",
   "metadata": {},
   "source": [
    "## Modélisation des états\n",
    "\n",
    "4-uplet pour berger, loup, mouton, choux, avec 0 pour rive gauche et 1 pour rive droite"
   ]
  },
  {
   "cell_type": "code",
   "execution_count": 1,
   "metadata": {},
   "outputs": [],
   "source": [
    "def  generation_etats():\n",
    "    \"\"\"Génère la liste des tous les états pas forcément valides.\"\"\"\n",
    "    resultat = list()\n",
    "    for berger in (0, 1):\n",
    "        for loup in (0, 1):\n",
    "            for mouton in (0, 1):\n",
    "                for choux in (0, 1):\n",
    "                    resultat.append((berger, loup, mouton, choux))\n",
    "    return resultat"
   ]
  },
  {
   "cell_type": "code",
   "execution_count": 2,
   "metadata": {},
   "outputs": [
    {
     "data": {
      "text/plain": [
       "[(0, 0, 0, 0),\n",
       " (0, 0, 0, 1),\n",
       " (0, 0, 1, 0),\n",
       " (0, 0, 1, 1),\n",
       " (0, 1, 0, 0),\n",
       " (0, 1, 0, 1),\n",
       " (0, 1, 1, 0),\n",
       " (0, 1, 1, 1),\n",
       " (1, 0, 0, 0),\n",
       " (1, 0, 0, 1),\n",
       " (1, 0, 1, 0),\n",
       " (1, 0, 1, 1),\n",
       " (1, 1, 0, 0),\n",
       " (1, 1, 0, 1),\n",
       " (1, 1, 1, 0),\n",
       " (1, 1, 1, 1)]"
      ]
     },
     "execution_count": 2,
     "metadata": {},
     "output_type": "execute_result"
    }
   ],
   "source": [
    "generation_etats()"
   ]
  },
  {
   "cell_type": "code",
   "execution_count": 3,
   "metadata": {},
   "outputs": [],
   "source": [
    "def est_valide(etat):\n",
    "    \"\"\"Teste de la règle sur les états.\"\"\"\n",
    "    if etat[1] == etat[2] and etat[0] != etat[1]:\n",
    "        return False\n",
    "    if etat[3] == etat[2] and etat[0] != etat[3]:\n",
    "        return False\n",
    "    return True"
   ]
  },
  {
   "cell_type": "code",
   "execution_count": 4,
   "metadata": {},
   "outputs": [],
   "source": [
    "def  generation_sommets():\n",
    "    etats = generation_etats()\n",
    "    return [etat for etat in etats if est_valide(etat)]"
   ]
  },
  {
   "cell_type": "markdown",
   "metadata": {},
   "source": [
    "**Remarque lisibilité** : on a ici des nombres magiques pour la correspondance entre berger, loup ... et 0 1 2 3, de même entre rive gauche/droite et 0 1\n",
    "\n",
    "**Alternative** `NamedTuple`"
   ]
  },
  {
   "cell_type": "code",
   "execution_count": 5,
   "metadata": {},
   "outputs": [],
   "source": [
    "from collections import namedtuple"
   ]
  },
  {
   "cell_type": "code",
   "execution_count": 6,
   "metadata": {},
   "outputs": [],
   "source": [
    "Etat = namedtuple(\"Etat\", [\"berger\", \"loup\", \"mouton\", \"choux\"])"
   ]
  },
  {
   "cell_type": "code",
   "execution_count": 7,
   "metadata": {},
   "outputs": [
    {
     "name": "stdout",
     "output_type": "stream",
     "text": [
      "Etat(berger='gauche', loup='gauche', mouton='gauche', choux='gauche')\n"
     ]
    }
   ],
   "source": [
    "depart = Etat(\n",
    "    berger=\"gauche\", \n",
    "    loup=\"gauche\", \n",
    "    mouton=\"gauche\", \n",
    "    choux=\"gauche\"\n",
    ")\n",
    "print(depart)"
   ]
  },
  {
   "cell_type": "code",
   "execution_count": 8,
   "metadata": {},
   "outputs": [
    {
     "name": "stdout",
     "output_type": "stream",
     "text": [
      "Etat(berger='droite', loup='droite', mouton='droite', choux='droite')\n"
     ]
    }
   ],
   "source": [
    "arrivee = Etat(\n",
    "    berger=\"droite\", \n",
    "    loup=\"droite\", \n",
    "    mouton=\"droite\", \n",
    "    choux=\"droite\"\n",
    ")\n",
    "print(arrivee)"
   ]
  },
  {
   "cell_type": "code",
   "execution_count": 9,
   "metadata": {},
   "outputs": [
    {
     "data": {
      "text/plain": [
       "'gauche'"
      ]
     },
     "execution_count": 9,
     "metadata": {},
     "output_type": "execute_result"
    }
   ],
   "source": [
    "depart[0]"
   ]
  },
  {
   "cell_type": "code",
   "execution_count": 10,
   "metadata": {},
   "outputs": [
    {
     "data": {
      "text/plain": [
       "'gauche'"
      ]
     },
     "execution_count": 10,
     "metadata": {},
     "output_type": "execute_result"
    }
   ],
   "source": [
    "depart.berger"
   ]
  },
  {
   "cell_type": "code",
   "execution_count": 11,
   "metadata": {},
   "outputs": [],
   "source": [
    "def  generation_etats():\n",
    "    \"\"\"Génère la liste des tous les états pas forcément valides.\"\"\"\n",
    "    resultat = list()\n",
    "    for berger in (\"gauche\", \"droite\"):\n",
    "        for loup in (\"gauche\", \"droite\"):\n",
    "            for mouton in (\"gauche\", \"droite\"):\n",
    "                for choux in (\"gauche\", \"droite\"):\n",
    "                    resultat.append(Etat(berger, loup, mouton, choux))\n",
    "    return resultat"
   ]
  },
  {
   "cell_type": "code",
   "execution_count": 12,
   "metadata": {},
   "outputs": [
    {
     "data": {
      "text/plain": [
       "[Etat(berger='gauche', loup='gauche', mouton='gauche', choux='gauche'),\n",
       " Etat(berger='gauche', loup='gauche', mouton='gauche', choux='droite'),\n",
       " Etat(berger='gauche', loup='gauche', mouton='droite', choux='gauche'),\n",
       " Etat(berger='gauche', loup='gauche', mouton='droite', choux='droite'),\n",
       " Etat(berger='gauche', loup='droite', mouton='gauche', choux='gauche'),\n",
       " Etat(berger='gauche', loup='droite', mouton='gauche', choux='droite'),\n",
       " Etat(berger='gauche', loup='droite', mouton='droite', choux='gauche'),\n",
       " Etat(berger='gauche', loup='droite', mouton='droite', choux='droite'),\n",
       " Etat(berger='droite', loup='gauche', mouton='gauche', choux='gauche'),\n",
       " Etat(berger='droite', loup='gauche', mouton='gauche', choux='droite'),\n",
       " Etat(berger='droite', loup='gauche', mouton='droite', choux='gauche'),\n",
       " Etat(berger='droite', loup='gauche', mouton='droite', choux='droite'),\n",
       " Etat(berger='droite', loup='droite', mouton='gauche', choux='gauche'),\n",
       " Etat(berger='droite', loup='droite', mouton='gauche', choux='droite'),\n",
       " Etat(berger='droite', loup='droite', mouton='droite', choux='gauche'),\n",
       " Etat(berger='droite', loup='droite', mouton='droite', choux='droite')]"
      ]
     },
     "execution_count": 12,
     "metadata": {},
     "output_type": "execute_result"
    }
   ],
   "source": [
    "generation_etats()"
   ]
  },
  {
   "cell_type": "code",
   "execution_count": 13,
   "metadata": {},
   "outputs": [],
   "source": [
    "def est_valide(etat):\n",
    "    \"\"\"Teste de la règle sur les états.\"\"\"\n",
    "    if etat.loup == etat.mouton and etat.berger != etat.loup:\n",
    "        return False\n",
    "    if etat.choux == etat.mouton and etat.berger != etat.mouton:\n",
    "        return False\n",
    "    return True"
   ]
  },
  {
   "cell_type": "code",
   "execution_count": 14,
   "metadata": {},
   "outputs": [],
   "source": [
    "def  generation_sommets():\n",
    "    etats = generation_etats()\n",
    "    return [etat for etat in etats if est_valide(etat)]"
   ]
  },
  {
   "cell_type": "code",
   "execution_count": 15,
   "metadata": {},
   "outputs": [
    {
     "data": {
      "text/plain": [
       "[Etat(berger='gauche', loup='gauche', mouton='gauche', choux='gauche'),\n",
       " Etat(berger='gauche', loup='gauche', mouton='gauche', choux='droite'),\n",
       " Etat(berger='gauche', loup='gauche', mouton='droite', choux='gauche'),\n",
       " Etat(berger='gauche', loup='droite', mouton='gauche', choux='gauche'),\n",
       " Etat(berger='gauche', loup='droite', mouton='gauche', choux='droite'),\n",
       " Etat(berger='droite', loup='gauche', mouton='droite', choux='gauche'),\n",
       " Etat(berger='droite', loup='gauche', mouton='droite', choux='droite'),\n",
       " Etat(berger='droite', loup='droite', mouton='gauche', choux='droite'),\n",
       " Etat(berger='droite', loup='droite', mouton='droite', choux='gauche'),\n",
       " Etat(berger='droite', loup='droite', mouton='droite', choux='droite')]"
      ]
     },
     "execution_count": 15,
     "metadata": {},
     "output_type": "execute_result"
    }
   ],
   "source": [
    "generation_sommets()"
   ]
  },
  {
   "cell_type": "code",
   "execution_count": 16,
   "metadata": {},
   "outputs": [],
   "source": [
    "def sont_relies(sommet1, sommet2):\n",
    "    \"\"\"Teste si une arrêtes relie les sommets.\"\"\"\n",
    "    nb_changement = 0\n",
    "    for cote1, cote2 in zip(sommet1, sommet2):\n",
    "        if cote1 != cote2:\n",
    "            nb_changement = nb_changement + 1\n",
    "    return sommet1.berger != sommet2.berger and nb_changement <= 2"
   ]
  },
  {
   "cell_type": "code",
   "execution_count": 17,
   "metadata": {},
   "outputs": [
    {
     "data": {
      "text/plain": [
       "False"
      ]
     },
     "execution_count": 17,
     "metadata": {},
     "output_type": "execute_result"
    }
   ],
   "source": [
    "sont_relies(depart, arrivee)"
   ]
  },
  {
   "cell_type": "code",
   "execution_count": 18,
   "metadata": {},
   "outputs": [],
   "source": [
    "def generation_arretes(sommets):\n",
    "    \"\"\"Génération des arrêtes du graphe à partir d'une liste de sommets\"\"\"\n",
    "    resultat = list()\n",
    "    for sommet1 in sommets:\n",
    "        for sommet2 in sommets:\n",
    "            if sont_relies(sommet1, sommet2):\n",
    "                resultat.append((sommet1, sommet2))\n",
    "    return resultat"
   ]
  },
  {
   "cell_type": "markdown",
   "metadata": {},
   "source": [
    "## Exercice\n",
    "Coder une fonction qui vérifie si le graphe est non orienté."
   ]
  },
  {
   "cell_type": "code",
   "execution_count": 19,
   "metadata": {},
   "outputs": [],
   "source": [
    "def est_non_oriente(arretes):\n",
    "    for sommet1, sommet2 in arretes:\n",
    "        if not (sommet2, sommet1) in arretes:\n",
    "            return False\n",
    "    return True"
   ]
  },
  {
   "cell_type": "code",
   "execution_count": 20,
   "metadata": {},
   "outputs": [
    {
     "data": {
      "text/plain": [
       "True"
      ]
     },
     "execution_count": 20,
     "metadata": {},
     "output_type": "execute_result"
    }
   ],
   "source": [
    "sommets = generation_sommets()\n",
    "arretes = generation_arretes(sommets)\n",
    "est_non_oriente(arretes)"
   ]
  },
  {
   "cell_type": "markdown",
   "metadata": {},
   "source": [
    "## Représentation alternative\n",
    "\n",
    "- Définition mathématique\n",
    "$$V=\\{1, 2, 3, 4\\},\\qquad E=\\{(1,2), (2,3), (3,1), (2,4),(4,3)\\}$$\n",
    "- table de voisinage\n",
    "$$\\{(1,\\{2\\}), (2,\\{3,4\\}), (3,\\{1\\}), (4,\\{3\\})\\}$$\n",
    "- matrice d'incidence\n",
    "$$\n",
    "\\begin{pmatrix}\n",
    "0 & 1 & 0 & 0\\\\\n",
    "0 & 0 & 1 & 1\\\\\n",
    "1 & 0 & 0 & 0\\\\\n",
    "0 & 0 & 1 & 0\n",
    "\\end{pmatrix}\n",
    "$$"
   ]
  },
  {
   "cell_type": "code",
   "execution_count": 21,
   "metadata": {},
   "outputs": [],
   "source": [
    "def transformation_voisinage(sommets, arretes):\n",
    "    resultat = dict()\n",
    "    for sommet in sommets:\n",
    "        resultat[sommet] = list()\n",
    "    for sommet1, sommet2 in arretes:\n",
    "        resultat[sommet1].append(sommet2)\n",
    "    return resultat"
   ]
  },
  {
   "cell_type": "code",
   "execution_count": 22,
   "metadata": {},
   "outputs": [
    {
     "data": {
      "text/plain": [
       "{1: [2], 2: [3, 4], 3: [1], 4: [3]}"
      ]
     },
     "execution_count": 22,
     "metadata": {},
     "output_type": "execute_result"
    }
   ],
   "source": [
    "vs = [1, 2, 3, 4]\n",
    "es = [(1, 2), (2, 3), (3, 1), (2, 4), (4, 3)]\n",
    "vois = transformation_voisinage(vs, es)\n",
    "vois"
   ]
  },
  {
   "cell_type": "code",
   "execution_count": 23,
   "metadata": {},
   "outputs": [],
   "source": [
    "def transformation_ensembles(voisinage):\n",
    "    sommets = list()\n",
    "    arretes = list()\n",
    "    for sommet, voisins in voisinage.items():\n",
    "        sommets.append(sommet)\n",
    "        for voisin in voisins:\n",
    "            arretes.append((sommet, voisin))\n",
    "    \n",
    "    return sommets, arretes"
   ]
  },
  {
   "cell_type": "code",
   "execution_count": 24,
   "metadata": {},
   "outputs": [
    {
     "data": {
      "text/plain": [
       "([1, 2, 3, 4], [(1, 2), (2, 3), (2, 4), (3, 1), (4, 3)])"
      ]
     },
     "execution_count": 24,
     "metadata": {},
     "output_type": "execute_result"
    }
   ],
   "source": [
    "transformation_ensembles(vois)"
   ]
  },
  {
   "cell_type": "markdown",
   "metadata": {},
   "source": [
    "# Problème\n",
    "\n",
    "- A partir d'un graphe et de 2 sommets comment décider s'ils sont reliés par un chemin.\n",
    "- Soit $(V,E)$ un graphe. Soit $(D, A) \\in V^2$. \n",
    "$$\\exists ? n\\geq 1,\\quad \\exists?(v_0,\\ldots, v_n)\\in V^{n+1},\\quad \\forall i\\in\\{1,\\ldots,n\\},\\quad (v_{i-1},v_i)\\in E,\\quad v_0=D,\\quad v_n=A.$$"
   ]
  },
  {
   "cell_type": "code",
   "execution_count": 64,
   "metadata": {},
   "outputs": [],
   "source": [
    "def dfs(voisinage, depart, arrivee):\n",
    "    \"\"\"Depth First Search\"\"\"\n",
    "    visites = list()\n",
    "    vus = list()\n",
    "    vus.append(depart)\n",
    "    while vus:\n",
    "        noeud_courant = vus.pop()\n",
    "        if not noeud_courant in visites:\n",
    "            visites.append(noeud_courant)\n",
    "            vus.extend(voisinage[noeud_courant])\n",
    "            if noeud_courant == arrivee:\n",
    "                return True\n",
    "    return False\n",
    "            \n",
    "        "
   ]
  },
  {
   "cell_type": "code",
   "execution_count": 55,
   "metadata": {},
   "outputs": [
    {
     "data": {
      "text/plain": [
       "[1, 3, 4, 5, 6]"
      ]
     },
     "execution_count": 55,
     "metadata": {},
     "output_type": "execute_result"
    }
   ],
   "source": [
    "vs = list(range(1, 7))\n",
    "ars = [(1, 2), (1, 3), (3, 2), (2, 4), (3, 4), (4, 5), (5, 6)]\n",
    "voisinage = transformation_voisinage(vs, ars)\n",
    "dfs(voisinage, 1, 6)"
   ]
  },
  {
   "cell_type": "code",
   "execution_count": 56,
   "metadata": {},
   "outputs": [
    {
     "ename": "ValueError",
     "evalue": "Pas de chemin",
     "output_type": "error",
     "traceback": [
      "\u001b[1;31m---------------------------------------------------------------------------\u001b[0m",
      "\u001b[1;31mValueError\u001b[0m                                Traceback (most recent call last)",
      "\u001b[1;32m<ipython-input-56-f0d1ef0bb050>\u001b[0m in \u001b[0;36m<module>\u001b[1;34m()\u001b[0m\n\u001b[0;32m      2\u001b[0m \u001b[0mars\u001b[0m \u001b[1;33m=\u001b[0m \u001b[1;33m[\u001b[0m\u001b[1;33m(\u001b[0m\u001b[1;36m1\u001b[0m\u001b[1;33m,\u001b[0m \u001b[1;36m2\u001b[0m\u001b[1;33m)\u001b[0m\u001b[1;33m,\u001b[0m \u001b[1;33m(\u001b[0m\u001b[1;36m1\u001b[0m\u001b[1;33m,\u001b[0m \u001b[1;36m3\u001b[0m\u001b[1;33m)\u001b[0m\u001b[1;33m,\u001b[0m \u001b[1;33m(\u001b[0m\u001b[1;36m3\u001b[0m\u001b[1;33m,\u001b[0m \u001b[1;36m2\u001b[0m\u001b[1;33m)\u001b[0m\u001b[1;33m,\u001b[0m \u001b[1;33m(\u001b[0m\u001b[1;36m2\u001b[0m\u001b[1;33m,\u001b[0m \u001b[1;36m4\u001b[0m\u001b[1;33m)\u001b[0m\u001b[1;33m,\u001b[0m \u001b[1;33m(\u001b[0m\u001b[1;36m3\u001b[0m\u001b[1;33m,\u001b[0m \u001b[1;36m4\u001b[0m\u001b[1;33m)\u001b[0m\u001b[1;33m,\u001b[0m \u001b[1;33m(\u001b[0m\u001b[1;36m4\u001b[0m\u001b[1;33m,\u001b[0m \u001b[1;36m5\u001b[0m\u001b[1;33m)\u001b[0m\u001b[1;33m]\u001b[0m\u001b[1;33m\u001b[0m\u001b[0m\n\u001b[0;32m      3\u001b[0m \u001b[0mvoisinage\u001b[0m \u001b[1;33m=\u001b[0m \u001b[0mtransformation_voisinage\u001b[0m\u001b[1;33m(\u001b[0m\u001b[0mvs\u001b[0m\u001b[1;33m,\u001b[0m \u001b[0mars\u001b[0m\u001b[1;33m)\u001b[0m\u001b[1;33m\u001b[0m\u001b[0m\n\u001b[1;32m----> 4\u001b[1;33m \u001b[0mdfs\u001b[0m\u001b[1;33m(\u001b[0m\u001b[0mvoisinage\u001b[0m\u001b[1;33m,\u001b[0m \u001b[1;36m1\u001b[0m\u001b[1;33m,\u001b[0m \u001b[1;36m6\u001b[0m\u001b[1;33m)\u001b[0m\u001b[1;33m\u001b[0m\u001b[0m\n\u001b[0m",
      "\u001b[1;32m<ipython-input-54-52206c29752f>\u001b[0m in \u001b[0;36mdfs\u001b[1;34m(voisinage, depart, arrivee)\u001b[0m\n\u001b[0;32m     15\u001b[0m                     \u001b[0mvus_part\u001b[0m\u001b[1;33m[\u001b[0m\u001b[0mvoisin\u001b[0m\u001b[1;33m]\u001b[0m \u001b[1;33m=\u001b[0m \u001b[0mnoeud_courant\u001b[0m\u001b[1;33m\u001b[0m\u001b[0m\n\u001b[0;32m     16\u001b[0m \u001b[1;33m\u001b[0m\u001b[0m\n\u001b[1;32m---> 17\u001b[1;33m     \u001b[1;32mreturn\u001b[0m \u001b[0mremonte_arbre\u001b[0m\u001b[1;33m(\u001b[0m\u001b[0mvus_part\u001b[0m\u001b[1;33m,\u001b[0m \u001b[0mdepart\u001b[0m\u001b[1;33m,\u001b[0m \u001b[0marrivee\u001b[0m\u001b[1;33m)\u001b[0m\u001b[1;33m\u001b[0m\u001b[0m\n\u001b[0m\u001b[0;32m     18\u001b[0m \u001b[1;33m\u001b[0m\u001b[0m\n\u001b[0;32m     19\u001b[0m \u001b[1;33m\u001b[0m\u001b[0m\n",
      "\u001b[1;32m<ipython-input-52-5d2f1ea3e9ee>\u001b[0m in \u001b[0;36mremonte_arbre\u001b[1;34m(arbre, depart, arrivee)\u001b[0m\n\u001b[0;32m      8\u001b[0m             \u001b[1;32mreturn\u001b[0m \u001b[0mresultat\u001b[0m\u001b[1;33m\u001b[0m\u001b[0m\n\u001b[0;32m      9\u001b[0m         \u001b[0mnoeud_courant\u001b[0m \u001b[1;33m=\u001b[0m \u001b[0marbre\u001b[0m\u001b[1;33m[\u001b[0m\u001b[0mnoeud_courant\u001b[0m\u001b[1;33m]\u001b[0m\u001b[1;33m\u001b[0m\u001b[0m\n\u001b[1;32m---> 10\u001b[1;33m     \u001b[1;32mraise\u001b[0m \u001b[0mValueError\u001b[0m\u001b[1;33m(\u001b[0m\u001b[1;34m\"Pas de chemin\"\u001b[0m\u001b[1;33m)\u001b[0m\u001b[1;33m\u001b[0m\u001b[0m\n\u001b[0m",
      "\u001b[1;31mValueError\u001b[0m: Pas de chemin"
     ]
    }
   ],
   "source": [
    "vs = list(range(1, 7))\n",
    "ars = [(1, 2), (1, 3), (3, 2), (2, 4), (3, 4), (4, 5)]\n",
    "voisinage = transformation_voisinage(vs, ars)\n",
    "dfs(voisinage, 1, 6)"
   ]
  },
  {
   "cell_type": "markdown",
   "metadata": {},
   "source": [
    "# Exercice\n",
    "\n",
    "- tester sur le graphe du problème de départ\n",
    "- adapter l'algorithme pour fournir le chemin"
   ]
  },
  {
   "cell_type": "code",
   "execution_count": 52,
   "metadata": {},
   "outputs": [],
   "source": [
    "def remonte_arbre(arbre, depart, arrivee):\n",
    "    resultat = list()\n",
    "    noeud_courant = arrivee\n",
    "    while noeud_courant in arbre:\n",
    "        resultat.append(noeud_courant)\n",
    "        if noeud_courant == depart:\n",
    "            resultat.reverse()\n",
    "            return resultat\n",
    "        noeud_courant = arbre[noeud_courant]\n",
    "    raise ValueError(\"Pas de chemin\")"
   ]
  },
  {
   "cell_type": "code",
   "execution_count": 54,
   "metadata": {},
   "outputs": [],
   "source": [
    "def dfs(voisinage, depart, arrivee):\n",
    "    \"\"\"Depth First Search\"\"\"\n",
    "    visites = list()\n",
    "    vus = list()\n",
    "    vus.append(depart)\n",
    "    vus_part = dict()\n",
    "    vus_part[depart] = None\n",
    "    while vus:\n",
    "        noeud_courant = vus.pop()\n",
    "        if not noeud_courant in visites:\n",
    "            visites.append(noeud_courant)\n",
    "            for voisin in voisinage[noeud_courant]:\n",
    "                vus.append(voisin)\n",
    "                if not voisin in vus_part:\n",
    "                    vus_part[voisin] = noeud_courant\n",
    "\n",
    "    return remonte_arbre(vus_part, depart, arrivee)\n",
    "            \n",
    "        "
   ]
  },
  {
   "cell_type": "code",
   "execution_count": 55,
   "metadata": {},
   "outputs": [
    {
     "data": {
      "text/plain": [
       "[1, 3, 4, 5, 6]"
      ]
     },
     "execution_count": 55,
     "metadata": {},
     "output_type": "execute_result"
    }
   ],
   "source": [
    "vs = list(range(1, 7))\n",
    "ars = [(1, 2), (1, 3), (3, 2), (2, 4), (3, 4), (4, 5), (5, 6)]\n",
    "voisinage = transformation_voisinage(vs, ars)\n",
    "dfs(voisinage, 1, 6)"
   ]
  },
  {
   "cell_type": "code",
   "execution_count": 56,
   "metadata": {},
   "outputs": [
    {
     "ename": "ValueError",
     "evalue": "Pas de chemin",
     "output_type": "error",
     "traceback": [
      "\u001b[1;31m---------------------------------------------------------------------------\u001b[0m",
      "\u001b[1;31mValueError\u001b[0m                                Traceback (most recent call last)",
      "\u001b[1;32m<ipython-input-56-f0d1ef0bb050>\u001b[0m in \u001b[0;36m<module>\u001b[1;34m()\u001b[0m\n\u001b[0;32m      2\u001b[0m \u001b[0mars\u001b[0m \u001b[1;33m=\u001b[0m \u001b[1;33m[\u001b[0m\u001b[1;33m(\u001b[0m\u001b[1;36m1\u001b[0m\u001b[1;33m,\u001b[0m \u001b[1;36m2\u001b[0m\u001b[1;33m)\u001b[0m\u001b[1;33m,\u001b[0m \u001b[1;33m(\u001b[0m\u001b[1;36m1\u001b[0m\u001b[1;33m,\u001b[0m \u001b[1;36m3\u001b[0m\u001b[1;33m)\u001b[0m\u001b[1;33m,\u001b[0m \u001b[1;33m(\u001b[0m\u001b[1;36m3\u001b[0m\u001b[1;33m,\u001b[0m \u001b[1;36m2\u001b[0m\u001b[1;33m)\u001b[0m\u001b[1;33m,\u001b[0m \u001b[1;33m(\u001b[0m\u001b[1;36m2\u001b[0m\u001b[1;33m,\u001b[0m \u001b[1;36m4\u001b[0m\u001b[1;33m)\u001b[0m\u001b[1;33m,\u001b[0m \u001b[1;33m(\u001b[0m\u001b[1;36m3\u001b[0m\u001b[1;33m,\u001b[0m \u001b[1;36m4\u001b[0m\u001b[1;33m)\u001b[0m\u001b[1;33m,\u001b[0m \u001b[1;33m(\u001b[0m\u001b[1;36m4\u001b[0m\u001b[1;33m,\u001b[0m \u001b[1;36m5\u001b[0m\u001b[1;33m)\u001b[0m\u001b[1;33m]\u001b[0m\u001b[1;33m\u001b[0m\u001b[0m\n\u001b[0;32m      3\u001b[0m \u001b[0mvoisinage\u001b[0m \u001b[1;33m=\u001b[0m \u001b[0mtransformation_voisinage\u001b[0m\u001b[1;33m(\u001b[0m\u001b[0mvs\u001b[0m\u001b[1;33m,\u001b[0m \u001b[0mars\u001b[0m\u001b[1;33m)\u001b[0m\u001b[1;33m\u001b[0m\u001b[0m\n\u001b[1;32m----> 4\u001b[1;33m \u001b[0mdfs\u001b[0m\u001b[1;33m(\u001b[0m\u001b[0mvoisinage\u001b[0m\u001b[1;33m,\u001b[0m \u001b[1;36m1\u001b[0m\u001b[1;33m,\u001b[0m \u001b[1;36m6\u001b[0m\u001b[1;33m)\u001b[0m\u001b[1;33m\u001b[0m\u001b[0m\n\u001b[0m",
      "\u001b[1;32m<ipython-input-54-52206c29752f>\u001b[0m in \u001b[0;36mdfs\u001b[1;34m(voisinage, depart, arrivee)\u001b[0m\n\u001b[0;32m     15\u001b[0m                     \u001b[0mvus_part\u001b[0m\u001b[1;33m[\u001b[0m\u001b[0mvoisin\u001b[0m\u001b[1;33m]\u001b[0m \u001b[1;33m=\u001b[0m \u001b[0mnoeud_courant\u001b[0m\u001b[1;33m\u001b[0m\u001b[0m\n\u001b[0;32m     16\u001b[0m \u001b[1;33m\u001b[0m\u001b[0m\n\u001b[1;32m---> 17\u001b[1;33m     \u001b[1;32mreturn\u001b[0m \u001b[0mremonte_arbre\u001b[0m\u001b[1;33m(\u001b[0m\u001b[0mvus_part\u001b[0m\u001b[1;33m,\u001b[0m \u001b[0mdepart\u001b[0m\u001b[1;33m,\u001b[0m \u001b[0marrivee\u001b[0m\u001b[1;33m)\u001b[0m\u001b[1;33m\u001b[0m\u001b[0m\n\u001b[0m\u001b[0;32m     18\u001b[0m \u001b[1;33m\u001b[0m\u001b[0m\n\u001b[0;32m     19\u001b[0m \u001b[1;33m\u001b[0m\u001b[0m\n",
      "\u001b[1;32m<ipython-input-52-5d2f1ea3e9ee>\u001b[0m in \u001b[0;36mremonte_arbre\u001b[1;34m(arbre, depart, arrivee)\u001b[0m\n\u001b[0;32m      8\u001b[0m             \u001b[1;32mreturn\u001b[0m \u001b[0mresultat\u001b[0m\u001b[1;33m\u001b[0m\u001b[0m\n\u001b[0;32m      9\u001b[0m         \u001b[0mnoeud_courant\u001b[0m \u001b[1;33m=\u001b[0m \u001b[0marbre\u001b[0m\u001b[1;33m[\u001b[0m\u001b[0mnoeud_courant\u001b[0m\u001b[1;33m]\u001b[0m\u001b[1;33m\u001b[0m\u001b[0m\n\u001b[1;32m---> 10\u001b[1;33m     \u001b[1;32mraise\u001b[0m \u001b[0mValueError\u001b[0m\u001b[1;33m(\u001b[0m\u001b[1;34m\"Pas de chemin\"\u001b[0m\u001b[1;33m)\u001b[0m\u001b[1;33m\u001b[0m\u001b[0m\n\u001b[0m",
      "\u001b[1;31mValueError\u001b[0m: Pas de chemin"
     ]
    }
   ],
   "source": [
    "vs = list(range(1, 7))\n",
    "ars = [(1, 2), (1, 3), (3, 2), (2, 4), (3, 4), (4, 5)]\n",
    "voisinage = transformation_voisinage(vs, ars)\n",
    "dfs(voisinage, 1, 6)"
   ]
  },
  {
   "cell_type": "code",
   "execution_count": 59,
   "metadata": {},
   "outputs": [
    {
     "name": "stdout",
     "output_type": "stream",
     "text": [
      "Depart :  Etat(berger='gauche', loup='gauche', mouton='gauche', choux='gauche')\n",
      "Arrivee :  Etat(berger='droite', loup='droite', mouton='droite', choux='droite')\n"
     ]
    }
   ],
   "source": [
    "sommets = generation_sommets()\n",
    "arretes = generation_arretes(sommets)\n",
    "voisinage = transformation_voisinage(sommets, arretes)\n",
    "depart = Etat(\n",
    "    berger=\"gauche\", \n",
    "    loup=\"gauche\", \n",
    "    mouton=\"gauche\", \n",
    "    choux=\"gauche\"\n",
    ")\n",
    "print(\"Depart : \", depart)\n",
    "arrivee = Etat(\n",
    "    berger=\"droite\", \n",
    "    loup=\"droite\", \n",
    "    mouton=\"droite\", \n",
    "    choux=\"droite\"\n",
    ")\n",
    "print(\"Arrivee : \", arrivee)\n",
    "chemin = dfs(voisinage, depart, arrivee)"
   ]
  },
  {
   "cell_type": "markdown",
   "metadata": {},
   "source": [
    "# Exercice\n",
    "A partir du chemin faire l'affichage des mouvements."
   ]
  },
  {
   "cell_type": "code",
   "execution_count": 61,
   "metadata": {},
   "outputs": [],
   "source": [
    "def traversee(etat1, etat2):\n",
    "    message = \"Le berger traverse avec {}\"\n",
    "    if etat1.loup != etat2.loup:\n",
    "        return message.format(\"le loup\")\n",
    "    if etat1.mouton != etat2.mouton:\n",
    "        return message.format(\"le mouton\")\n",
    "    if etat1.choux != etat2.choux:\n",
    "        return message.format(\"les choux\")\n",
    "    return \"Le berger traverse seul\""
   ]
  },
  {
   "cell_type": "code",
   "execution_count": 63,
   "metadata": {},
   "outputs": [
    {
     "name": "stdout",
     "output_type": "stream",
     "text": [
      "Le berger traverse avec le mouton\n",
      "Le berger traverse seul\n",
      "Le berger traverse avec le loup\n",
      "Le berger traverse avec le mouton\n",
      "Le berger traverse avec les choux\n",
      "Le berger traverse seul\n",
      "Le berger traverse avec le mouton\n"
     ]
    }
   ],
   "source": [
    "for etat1, etat2 in zip(chemin[:-1], chemin[1:]):\n",
    "    print(traversee(etat1, etat2))"
   ]
  },
  {
   "cell_type": "markdown",
   "metadata": {},
   "source": [
    "# Exercice \n",
    "\n",
    "- Coder la résolution des tours de Hanoï à 3 tiges n disques\n",
    "- Coder la résolution d'un Sudoku 4x4"
   ]
  },
  {
   "cell_type": "code",
   "execution_count": null,
   "metadata": {},
   "outputs": [],
   "source": []
  }
 ],
 "metadata": {
  "kernelspec": {
   "display_name": "Python 3",
   "language": "python",
   "name": "python3"
  },
  "language_info": {
   "codemirror_mode": {
    "name": "ipython",
    "version": 3
   },
   "file_extension": ".py",
   "mimetype": "text/x-python",
   "name": "python",
   "nbconvert_exporter": "python",
   "pygments_lexer": "ipython3",
   "version": "3.6.5"
  }
 },
 "nbformat": 4,
 "nbformat_minor": 2
}
