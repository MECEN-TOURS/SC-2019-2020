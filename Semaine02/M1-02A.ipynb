{
 "cells": [
  {
   "cell_type": "markdown",
   "metadata": {},
   "source": [
    "# Tours de Hanoï"
   ]
  },
  {
   "cell_type": "markdown",
   "metadata": {},
   "source": [
    "## Version 1\n",
    "\n",
    "- les disques sont numérotés de $0$ à $n-1$ par ordre de taille croissant.\n",
    "- un etat est alors un $n$-uplet de coordonnées 'G', 'M', 'D' pour indiquer si le disque d'indice $i$ est sur la tige gauche, milieu ou droite."
   ]
  },
  {
   "cell_type": "code",
   "execution_count": 1,
   "metadata": {},
   "outputs": [],
   "source": [
    "def genere_etats(nb_disques):\n",
    "    \"\"\"Renvoit la liste des uplets\"\"\"\n",
    "    tiges = (\"G\", \"M\", \"D\")\n",
    "    resultat = list()\n",
    "    resultat.append([])\n",
    "    for _ in range(nb_disques):\n",
    "        resultat = [\n",
    "            temporaire + [tige] \n",
    "            for temporaire in resultat \n",
    "            for tige in tiges\n",
    "        ]\n",
    "        \n",
    "    return [tuple(etat) for etat in resultat]"
   ]
  },
  {
   "cell_type": "code",
   "execution_count": 2,
   "metadata": {},
   "outputs": [
    {
     "data": {
      "text/plain": [
       "[('G', 'G'),\n",
       " ('G', 'M'),\n",
       " ('G', 'D'),\n",
       " ('M', 'G'),\n",
       " ('M', 'M'),\n",
       " ('M', 'D'),\n",
       " ('D', 'G'),\n",
       " ('D', 'M'),\n",
       " ('D', 'D')]"
      ]
     },
     "execution_count": 2,
     "metadata": {},
     "output_type": "execute_result"
    }
   ],
   "source": [
    "genere_etats(2)"
   ]
  },
  {
   "cell_type": "markdown",
   "metadata": {},
   "source": [
    "### Rappel compréhension de liste"
   ]
  },
  {
   "cell_type": "code",
   "execution_count": 3,
   "metadata": {},
   "outputs": [],
   "source": [
    "nombres = [1, 2, 3]\n",
    "carres = [nombre ** 2 for nombre in nombres]\n",
    "cubes = list()\n",
    "for nombre in nombres:\n",
    "    cubes.append(nombre ** 3)"
   ]
  },
  {
   "cell_type": "code",
   "execution_count": 4,
   "metadata": {},
   "outputs": [],
   "source": [
    "def sont_relies(etat1, etat2):\n",
    "    \"\"\"Teste si les deux états sont connectés par un mouvement valide\"\"\"\n",
    "    nbr_modif = 0\n",
    "    disque_bouge = None\n",
    "    for num_disque, (tige1, tige2) in enumerate(zip(etat1, etat2)):\n",
    "        if tige1 != tige2:\n",
    "            nbr_modif += 1\n",
    "            disque_bouge = num_disque\n",
    "    if nbr_modif != 1:\n",
    "        return False\n",
    "    for disque, tige in enumerate(etat1):\n",
    "        if tige == etat1[disque_bouge] and disque < disque_bouge:\n",
    "            return False\n",
    "        \n",
    "    for disque, tige in enumerate(etat2):\n",
    "        if tige == etat2[disque_bouge] and disque < disque_bouge:\n",
    "            return False\n",
    "        \n",
    "    return True\n",
    "            "
   ]
  },
  {
   "cell_type": "markdown",
   "metadata": {},
   "source": [
    "**Tester sur des cas particuliers.**"
   ]
  },
  {
   "cell_type": "code",
   "execution_count": 5,
   "metadata": {},
   "outputs": [
    {
     "name": "stdout",
     "output_type": "stream",
     "text": [
      "Vrai :  True\n",
      "Faux :  False\n",
      "Faux :  False\n",
      "Vrai :  True\n"
     ]
    }
   ],
   "source": [
    "e1 = (\"G\", \"G\", \"G\", \"G\")\n",
    "e2 = (\"M\", \"G\", \"G\", \"G\")\n",
    "e3 = (\"G\", \"G\", \"G\", \"D\")\n",
    "e4 = (\"M\", \"D\", \"G\", \"G\")\n",
    "print(\"Vrai : \", sont_relies(e1, e2))\n",
    "print(\"Faux : \", sont_relies(e1, e3))\n",
    "print(\"Faux : \", sont_relies(e1, e4))\n",
    "print(\"Vrai : \", sont_relies(e2, e4))"
   ]
  },
  {
   "cell_type": "code",
   "execution_count": 6,
   "metadata": {},
   "outputs": [],
   "source": [
    "def genere_arretes(sommets):\n",
    "    \"\"\"Génère la liste des toutes les arrêtes\"\"\"\n",
    "    resultat = list()\n",
    "    for sommet1 in sommets:\n",
    "        for sommet2 in sommets:\n",
    "            if sont_relies(sommet1, sommet2):\n",
    "                resultat.append((sommet1, sommet2))\n",
    "    return resultat"
   ]
  },
  {
   "cell_type": "code",
   "execution_count": 7,
   "metadata": {},
   "outputs": [],
   "source": [
    "def genere_arretes_bis(sommets):\n",
    "    \"\"\"Implémentation alternative avec un compréhension de liste\"\"\"\n",
    "    return [\n",
    "        (s1, s2) \n",
    "        for s1 in sommets \n",
    "        for s2 in sommets \n",
    "        if sont_relies(s1, s2)\n",
    "    ]"
   ]
  },
  {
   "cell_type": "markdown",
   "metadata": {},
   "source": [
    "**Finir la résolution.**"
   ]
  },
  {
   "cell_type": "code",
   "execution_count": 11,
   "metadata": {},
   "outputs": [],
   "source": [
    "from abstrait import transformation_voisinage, dfs"
   ]
  },
  {
   "cell_type": "code",
   "execution_count": 12,
   "metadata": {},
   "outputs": [],
   "source": [
    "def resolution1(nb_disques):\n",
    "    \"\"\"Fonction de résolution du problème de Hanoi à n disques\"\"\"\n",
    "    sommets = genere_etats(nb_disques)\n",
    "    arretes = genere_arretes(sommets)\n",
    "    voisinage = transformation_voisinage(sommets, arretes)\n",
    "    depart = tuple(\"G\" for _ in range(nb_disques))\n",
    "    arrivee = tuple(\"D\" for _ in range(nb_disques))\n",
    "    return dfs(voisinage, depart, arrivee)"
   ]
  },
  {
   "cell_type": "code",
   "execution_count": 13,
   "metadata": {},
   "outputs": [
    {
     "data": {
      "text/plain": [
       "[('G',), ('D',)]"
      ]
     },
     "execution_count": 13,
     "metadata": {},
     "output_type": "execute_result"
    }
   ],
   "source": [
    "resolution1(1)"
   ]
  },
  {
   "cell_type": "code",
   "execution_count": 14,
   "metadata": {},
   "outputs": [
    {
     "data": {
      "text/plain": [
       "[('G', 'G'), ('D', 'G'), ('D', 'M'), ('G', 'M'), ('G', 'D'), ('D', 'D')]"
      ]
     },
     "execution_count": 14,
     "metadata": {},
     "output_type": "execute_result"
    }
   ],
   "source": [
    "resolution1(2)"
   ]
  },
  {
   "cell_type": "code",
   "execution_count": 15,
   "metadata": {},
   "outputs": [
    {
     "data": {
      "text/plain": [
       "[('G', 'G', 'G'),\n",
       " ('D', 'G', 'G'),\n",
       " ('D', 'M', 'G'),\n",
       " ('M', 'M', 'G'),\n",
       " ('M', 'M', 'D'),\n",
       " ('D', 'M', 'D'),\n",
       " ('D', 'G', 'D'),\n",
       " ('M', 'G', 'D'),\n",
       " ('M', 'D', 'D'),\n",
       " ('D', 'D', 'D')]"
      ]
     },
     "execution_count": 15,
     "metadata": {},
     "output_type": "execute_result"
    }
   ],
   "source": [
    "resolution1(3)"
   ]
  },
  {
   "cell_type": "markdown",
   "metadata": {},
   "source": [
    "**Coder une fonction affichage pour visualiser le résultat**"
   ]
  },
  {
   "cell_type": "code",
   "execution_count": 16,
   "metadata": {},
   "outputs": [],
   "source": [
    "def affichage(chemin):\n",
    "    \"\"\"Fonction auxiliaire pour débuguer une solution\"\"\"\n",
    "    for e1, e2 in zip(chemin[:-1], chemin[1:]):\n",
    "        for indice, (t1, t2) in enumerate(zip(e1, e2)):\n",
    "            if t1 != t2:\n",
    "                print(\n",
    "                    \"disque {} de la tige {} à la tige {}\".format(\n",
    "                        indice, \n",
    "                        t1, \n",
    "                        t2\n",
    "                    )\n",
    "                )\n",
    "                continue"
   ]
  },
  {
   "cell_type": "code",
   "execution_count": 17,
   "metadata": {},
   "outputs": [
    {
     "name": "stdout",
     "output_type": "stream",
     "text": [
      "disque 0 de la tige G à la tige D\n",
      "disque 1 de la tige G à la tige M\n",
      "disque 0 de la tige D à la tige M\n",
      "disque 2 de la tige G à la tige D\n",
      "disque 0 de la tige M à la tige D\n",
      "disque 1 de la tige M à la tige G\n",
      "disque 0 de la tige D à la tige M\n",
      "disque 1 de la tige G à la tige D\n",
      "disque 0 de la tige M à la tige D\n"
     ]
    }
   ],
   "source": [
    "affichage(resolution1(3))"
   ]
  },
  {
   "cell_type": "markdown",
   "metadata": {},
   "source": [
    "## Exercice\n",
    "\n",
    "Coder une fonction `ascii_art` pour visualister les états par chaines de caractères"
   ]
  }
 ],
 "metadata": {
  "kernelspec": {
   "display_name": "Python 3",
   "language": "python",
   "name": "python3"
  },
  "language_info": {
   "codemirror_mode": {
    "name": "ipython",
    "version": 3
   },
   "file_extension": ".py",
   "mimetype": "text/x-python",
   "name": "python",
   "nbconvert_exporter": "python",
   "pygments_lexer": "ipython3",
   "version": "3.6.5"
  }
 },
 "nbformat": 4,
 "nbformat_minor": 2
}
