{
 "cells": [
  {
   "cell_type": "markdown",
   "metadata": {},
   "source": [
    "# Version 2\n",
    "\n",
    "on code un état en associant à une tige le tuple des disques qui sont positionnés dessus (par ordre croissant)."
   ]
  },
  {
   "cell_type": "code",
   "execution_count": 1,
   "metadata": {},
   "outputs": [],
   "source": [
    "def genere_piles(nb_disques):\n",
    "    \"\"\"Genere la liste de tous les uplets à valeurs dans 0...n-1\"\"\"\n",
    "    resultat = [[]]\n",
    "    for disque in reversed(range(nb_disques)):\n",
    "        resultat = [\n",
    "            temporaire + ajout \n",
    "            for temporaire in resultat\n",
    "            for ajout in [[], [disque]]\n",
    "        ]\n",
    "    return [tuple(pile) for pile in resultat]"
   ]
  },
  {
   "cell_type": "code",
   "execution_count": 2,
   "metadata": {},
   "outputs": [
    {
     "data": {
      "text/plain": [
       "[(), (0,), (1,), (1, 0)]"
      ]
     },
     "execution_count": 2,
     "metadata": {},
     "output_type": "execute_result"
    }
   ],
   "source": [
    "genere_piles(2)"
   ]
  },
  {
   "cell_type": "code",
   "execution_count": 3,
   "metadata": {},
   "outputs": [
    {
     "data": {
      "text/plain": [
       "[(), (0,), (1,), (1, 0), (2,), (2, 0), (2, 1), (2, 1, 0)]"
      ]
     },
     "execution_count": 3,
     "metadata": {},
     "output_type": "execute_result"
    }
   ],
   "source": [
    "genere_piles(3)"
   ]
  },
  {
   "cell_type": "code",
   "execution_count": 4,
   "metadata": {},
   "outputs": [],
   "source": [
    "from collections import namedtuple"
   ]
  },
  {
   "cell_type": "code",
   "execution_count": 5,
   "metadata": {},
   "outputs": [],
   "source": [
    "Etat = namedtuple(\"Etat\", [\"gauche\", \"milieu\", \"droite\"])"
   ]
  },
  {
   "cell_type": "code",
   "execution_count": 6,
   "metadata": {},
   "outputs": [],
   "source": [
    "def genere_etats(nb_disques):\n",
    "    resultat = list()\n",
    "    piles = genere_piles(nb_disques)\n",
    "    for pile_gauche in piles:\n",
    "        for pile_milieu in piles:\n",
    "            for pile_droite in piles:\n",
    "                resultat.append(\n",
    "                    Etat(\n",
    "                        pile_gauche, \n",
    "                        pile_milieu, \n",
    "                        pile_droite\n",
    "                    )\n",
    "                )\n",
    "    return resultat"
   ]
  },
  {
   "cell_type": "code",
   "execution_count": 7,
   "metadata": {},
   "outputs": [
    {
     "data": {
      "text/plain": [
       "[Etat(gauche=(), milieu=(), droite=()),\n",
       " Etat(gauche=(), milieu=(), droite=(0,)),\n",
       " Etat(gauche=(), milieu=(), droite=(1,)),\n",
       " Etat(gauche=(), milieu=(), droite=(1, 0)),\n",
       " Etat(gauche=(), milieu=(0,), droite=()),\n",
       " Etat(gauche=(), milieu=(0,), droite=(0,)),\n",
       " Etat(gauche=(), milieu=(0,), droite=(1,)),\n",
       " Etat(gauche=(), milieu=(0,), droite=(1, 0)),\n",
       " Etat(gauche=(), milieu=(1,), droite=()),\n",
       " Etat(gauche=(), milieu=(1,), droite=(0,)),\n",
       " Etat(gauche=(), milieu=(1,), droite=(1,)),\n",
       " Etat(gauche=(), milieu=(1,), droite=(1, 0)),\n",
       " Etat(gauche=(), milieu=(1, 0), droite=()),\n",
       " Etat(gauche=(), milieu=(1, 0), droite=(0,)),\n",
       " Etat(gauche=(), milieu=(1, 0), droite=(1,)),\n",
       " Etat(gauche=(), milieu=(1, 0), droite=(1, 0)),\n",
       " Etat(gauche=(0,), milieu=(), droite=()),\n",
       " Etat(gauche=(0,), milieu=(), droite=(0,)),\n",
       " Etat(gauche=(0,), milieu=(), droite=(1,)),\n",
       " Etat(gauche=(0,), milieu=(), droite=(1, 0)),\n",
       " Etat(gauche=(0,), milieu=(0,), droite=()),\n",
       " Etat(gauche=(0,), milieu=(0,), droite=(0,)),\n",
       " Etat(gauche=(0,), milieu=(0,), droite=(1,)),\n",
       " Etat(gauche=(0,), milieu=(0,), droite=(1, 0)),\n",
       " Etat(gauche=(0,), milieu=(1,), droite=()),\n",
       " Etat(gauche=(0,), milieu=(1,), droite=(0,)),\n",
       " Etat(gauche=(0,), milieu=(1,), droite=(1,)),\n",
       " Etat(gauche=(0,), milieu=(1,), droite=(1, 0)),\n",
       " Etat(gauche=(0,), milieu=(1, 0), droite=()),\n",
       " Etat(gauche=(0,), milieu=(1, 0), droite=(0,)),\n",
       " Etat(gauche=(0,), milieu=(1, 0), droite=(1,)),\n",
       " Etat(gauche=(0,), milieu=(1, 0), droite=(1, 0)),\n",
       " Etat(gauche=(1,), milieu=(), droite=()),\n",
       " Etat(gauche=(1,), milieu=(), droite=(0,)),\n",
       " Etat(gauche=(1,), milieu=(), droite=(1,)),\n",
       " Etat(gauche=(1,), milieu=(), droite=(1, 0)),\n",
       " Etat(gauche=(1,), milieu=(0,), droite=()),\n",
       " Etat(gauche=(1,), milieu=(0,), droite=(0,)),\n",
       " Etat(gauche=(1,), milieu=(0,), droite=(1,)),\n",
       " Etat(gauche=(1,), milieu=(0,), droite=(1, 0)),\n",
       " Etat(gauche=(1,), milieu=(1,), droite=()),\n",
       " Etat(gauche=(1,), milieu=(1,), droite=(0,)),\n",
       " Etat(gauche=(1,), milieu=(1,), droite=(1,)),\n",
       " Etat(gauche=(1,), milieu=(1,), droite=(1, 0)),\n",
       " Etat(gauche=(1,), milieu=(1, 0), droite=()),\n",
       " Etat(gauche=(1,), milieu=(1, 0), droite=(0,)),\n",
       " Etat(gauche=(1,), milieu=(1, 0), droite=(1,)),\n",
       " Etat(gauche=(1,), milieu=(1, 0), droite=(1, 0)),\n",
       " Etat(gauche=(1, 0), milieu=(), droite=()),\n",
       " Etat(gauche=(1, 0), milieu=(), droite=(0,)),\n",
       " Etat(gauche=(1, 0), milieu=(), droite=(1,)),\n",
       " Etat(gauche=(1, 0), milieu=(), droite=(1, 0)),\n",
       " Etat(gauche=(1, 0), milieu=(0,), droite=()),\n",
       " Etat(gauche=(1, 0), milieu=(0,), droite=(0,)),\n",
       " Etat(gauche=(1, 0), milieu=(0,), droite=(1,)),\n",
       " Etat(gauche=(1, 0), milieu=(0,), droite=(1, 0)),\n",
       " Etat(gauche=(1, 0), milieu=(1,), droite=()),\n",
       " Etat(gauche=(1, 0), milieu=(1,), droite=(0,)),\n",
       " Etat(gauche=(1, 0), milieu=(1,), droite=(1,)),\n",
       " Etat(gauche=(1, 0), milieu=(1,), droite=(1, 0)),\n",
       " Etat(gauche=(1, 0), milieu=(1, 0), droite=()),\n",
       " Etat(gauche=(1, 0), milieu=(1, 0), droite=(0,)),\n",
       " Etat(gauche=(1, 0), milieu=(1, 0), droite=(1,)),\n",
       " Etat(gauche=(1, 0), milieu=(1, 0), droite=(1, 0))]"
      ]
     },
     "execution_count": 7,
     "metadata": {},
     "output_type": "execute_result"
    }
   ],
   "source": [
    "genere_etats(2)"
   ]
  },
  {
   "cell_type": "code",
   "execution_count": 8,
   "metadata": {},
   "outputs": [],
   "source": [
    "def est_valide(etat, nb_disques):\n",
    "    \"\"\"Teste si l'état est valide \n",
    "    chaque disque est présent sur exactement une tige\n",
    "    \"\"\"\n",
    "    for disque in range(nb_disques):\n",
    "        #nb_present =  sum(1 for tige in etat if disque in tige)\n",
    "        nb_present = 0\n",
    "        for tige in etat:\n",
    "            if disque in tige:\n",
    "                nb_present += 1\n",
    "        if nb_present != 1:\n",
    "            return False\n",
    "    return True\n",
    "            "
   ]
  },
  {
   "cell_type": "code",
   "execution_count": 9,
   "metadata": {},
   "outputs": [],
   "source": [
    "def genere_sommets(nb_disques):\n",
    "    \"\"\"Genere la liste des sommets du graphe\"\"\"\n",
    "    etats = genere_etats(nb_disques)\n",
    "    resultat = list()\n",
    "    for etat in etats:\n",
    "        if est_valide(etat, nb_disques):\n",
    "            resultat.append(etat)\n",
    "    return resultat"
   ]
  },
  {
   "cell_type": "code",
   "execution_count": 10,
   "metadata": {},
   "outputs": [
    {
     "data": {
      "text/plain": [
       "[Etat(gauche=(), milieu=(), droite=(0,)),\n",
       " Etat(gauche=(), milieu=(0,), droite=()),\n",
       " Etat(gauche=(0,), milieu=(), droite=())]"
      ]
     },
     "execution_count": 10,
     "metadata": {},
     "output_type": "execute_result"
    }
   ],
   "source": [
    "genere_sommets(1)"
   ]
  },
  {
   "cell_type": "code",
   "execution_count": 11,
   "metadata": {},
   "outputs": [
    {
     "data": {
      "text/plain": [
       "[Etat(gauche=(), milieu=(), droite=(1, 0)),\n",
       " Etat(gauche=(), milieu=(0,), droite=(1,)),\n",
       " Etat(gauche=(), milieu=(1,), droite=(0,)),\n",
       " Etat(gauche=(), milieu=(1, 0), droite=()),\n",
       " Etat(gauche=(0,), milieu=(), droite=(1,)),\n",
       " Etat(gauche=(0,), milieu=(1,), droite=()),\n",
       " Etat(gauche=(1,), milieu=(), droite=(0,)),\n",
       " Etat(gauche=(1,), milieu=(0,), droite=()),\n",
       " Etat(gauche=(1, 0), milieu=(), droite=())]"
      ]
     },
     "execution_count": 11,
     "metadata": {},
     "output_type": "execute_result"
    }
   ],
   "source": [
    "genere_sommets(2)"
   ]
  },
  {
   "cell_type": "code",
   "execution_count": 12,
   "metadata": {},
   "outputs": [
    {
     "name": "stdout",
     "output_type": "stream",
     "text": [
      "27\n"
     ]
    }
   ],
   "source": [
    "print(len(genere_sommets(3)))"
   ]
  },
  {
   "cell_type": "markdown",
   "metadata": {},
   "source": [
    "## Exercice\n",
    "\n",
    "- Coder `sont_relies`, `genere_arretes`\n",
    "- Finir l'implémentation"
   ]
  },
  {
   "cell_type": "code",
   "execution_count": 13,
   "metadata": {},
   "outputs": [],
   "source": [
    "def sont_relies(sommet1, sommet2):\n",
    "    \"\"\"Teste si les deux sommets sont reliés par un mouvement.\n",
    "    Seul un disque doit bouger, il doit être le plus petit de la tige de départ,\n",
    "    et le plus petit de la tige d'arrivée.\n",
    "    \"\"\"\n",
    "    # identification de la tige fixe\n",
    "    nb_inchangees = 0\n",
    "    for indice, (tige1, tige2) in enumerate(zip(sommet1, sommet2)):\n",
    "        if tige1 == tige2:\n",
    "            nb_inchangees = nb_inchangees + 1\n",
    "            indice_fixe = indice\n",
    "    if nb_inchangees != 1:\n",
    "        return False\n",
    "    # identification des tiges départ arrivée de sommet1\n",
    "    if indice_fixe == 0:\n",
    "        if len(sommet1[1]) == len(sommet2[1]) - 1:\n",
    "            depart, arrivee = 2, 1\n",
    "        elif len(sommet1[1]) == len(sommet2[1]) + 1:\n",
    "            depart, arrivee = 1, 2\n",
    "        else:\n",
    "            return False\n",
    "    \n",
    "    elif indice_fixe == 1:\n",
    "        if len(sommet1[0]) == len(sommet2[0]) - 1:\n",
    "            depart, arrivee = 2, 0\n",
    "        elif len(sommet1[0]) == len(sommet2[0]) + 1:\n",
    "            depart, arrivee = 0, 2\n",
    "        else:\n",
    "            return False\n",
    "    else:\n",
    "        if len(sommet1[1]) == len(sommet2[1]) - 1:\n",
    "            depart, arrivee = 0, 1\n",
    "        elif len(sommet1[1]) == len(sommet2[1]) + 1:\n",
    "            depart, arrivee = 1, 0\n",
    "        else:\n",
    "            return False\n",
    "    # vérification d'un mouvement valide entre sommet1 et sommet2\n",
    "    \n",
    "    tige1_depart = list(sommet1[depart])\n",
    "    tige1_arrivee = list(sommet1[arrivee])\n",
    "    tige1_arrivee.append(tige1_depart.pop())\n",
    "    if tuple(tige1_depart) != sommet2[depart] or tuple(tige1_arrivee) != sommet2[arrivee]:\n",
    "        return False\n",
    "    return True\n",
    "    "
   ]
  },
  {
   "cell_type": "markdown",
   "metadata": {},
   "source": [
    "## Remarque\n",
    "\n",
    "On a plusieurs \"problèmes\" dans la version précédente\n",
    "- le if len(... devrait être isolé dans une fonction auxiliaire pour éviter de copier/coller du code et donc d'introduire des bugs facilement à chaque modification\n",
    "- le if elif else devrait être isolé dans un dictionnaire de choix. \n",
    "- La nécessité d'introduire des commentaires pour séparer les différentes étapes montrent qu'il faudrait scinder la fonction en sous taches correspondant à d'autres fonctions."
   ]
  },
  {
   "cell_type": "code",
   "execution_count": 14,
   "metadata": {},
   "outputs": [],
   "source": [
    "a = Etat(gauche=(2, 1, 0), milieu=(), droite=())\n",
    "b = Etat(gauche=(2, 1), milieu=(0,), droite=())\n",
    "c = Etat(gauche=(2,), milieu=(0,), droite=(1, ))"
   ]
  },
  {
   "cell_type": "code",
   "execution_count": 15,
   "metadata": {},
   "outputs": [
    {
     "name": "stdout",
     "output_type": "stream",
     "text": [
      "True :  True\n",
      "False :  False\n",
      "True :  True\n"
     ]
    }
   ],
   "source": [
    "print(\"True : \", sont_relies(a, b))\n",
    "print(\"False : \", sont_relies(a, c))\n",
    "print(\"True : \", sont_relies(b, c))"
   ]
  },
  {
   "cell_type": "code",
   "execution_count": 16,
   "metadata": {},
   "outputs": [],
   "source": [
    "def genere_arretes(sommets):\n",
    "    \"\"\"Renvoit la liste des arretes\"\"\"\n",
    "    resultat = list()\n",
    "    for sommet1 in sommets:\n",
    "        for sommet2 in sommets:\n",
    "            if sont_relies(sommet1, sommet2):\n",
    "                resultat.append((sommet1, sommet2))\n",
    "    return resultat"
   ]
  },
  {
   "cell_type": "code",
   "execution_count": 17,
   "metadata": {},
   "outputs": [],
   "source": [
    "from abstrait import transformation_voisinage, dfs, bfs"
   ]
  },
  {
   "cell_type": "code",
   "execution_count": 18,
   "metadata": {},
   "outputs": [],
   "source": [
    "def solution_dfs(nb_disques):\n",
    "    sommets = genere_sommets(nb_disques)\n",
    "    arretes = genere_arretes(sommets)\n",
    "    voisinage = transformation_voisinage(sommets, arretes)\n",
    "    complet = list(range(nb_disques))\n",
    "    complet.reverse()\n",
    "    depart = Etat(tuple(complet), tuple(), tuple())\n",
    "    arrivee = Etat(tuple(), tuple(), tuple(complet))\n",
    "    return dfs(voisinage, depart, arrivee)"
   ]
  },
  {
   "cell_type": "code",
   "execution_count": 19,
   "metadata": {},
   "outputs": [
    {
     "data": {
      "text/plain": [
       "[Etat(gauche=(0,), milieu=(), droite=()),\n",
       " Etat(gauche=(), milieu=(), droite=(0,))]"
      ]
     },
     "execution_count": 19,
     "metadata": {},
     "output_type": "execute_result"
    }
   ],
   "source": [
    "solution_dfs(1)"
   ]
  },
  {
   "cell_type": "code",
   "execution_count": 20,
   "metadata": {},
   "outputs": [
    {
     "data": {
      "text/plain": [
       "[Etat(gauche=(1, 0), milieu=(), droite=()),\n",
       " Etat(gauche=(1,), milieu=(), droite=(0,)),\n",
       " Etat(gauche=(), milieu=(1,), droite=(0,)),\n",
       " Etat(gauche=(0,), milieu=(1,), droite=()),\n",
       " Etat(gauche=(0,), milieu=(), droite=(1,)),\n",
       " Etat(gauche=(), milieu=(), droite=(1, 0))]"
      ]
     },
     "execution_count": 20,
     "metadata": {},
     "output_type": "execute_result"
    }
   ],
   "source": [
    "solution_dfs(2)"
   ]
  },
  {
   "cell_type": "code",
   "execution_count": 21,
   "metadata": {},
   "outputs": [
    {
     "data": {
      "text/plain": [
       "[Etat(gauche=(2, 1, 0), milieu=(), droite=()),\n",
       " Etat(gauche=(2, 1), milieu=(), droite=(0,)),\n",
       " Etat(gauche=(2,), milieu=(1,), droite=(0,)),\n",
       " Etat(gauche=(2, 0), milieu=(1,), droite=()),\n",
       " Etat(gauche=(2, 0), milieu=(), droite=(1,)),\n",
       " Etat(gauche=(2,), milieu=(), droite=(1, 0)),\n",
       " Etat(gauche=(), milieu=(2,), droite=(1, 0)),\n",
       " Etat(gauche=(0,), milieu=(2,), droite=(1,)),\n",
       " Etat(gauche=(0,), milieu=(2, 1), droite=()),\n",
       " Etat(gauche=(), milieu=(2, 1), droite=(0,)),\n",
       " Etat(gauche=(1,), milieu=(2,), droite=(0,)),\n",
       " Etat(gauche=(1, 0), milieu=(2,), droite=()),\n",
       " Etat(gauche=(1, 0), milieu=(), droite=(2,)),\n",
       " Etat(gauche=(1,), milieu=(), droite=(2, 0)),\n",
       " Etat(gauche=(), milieu=(1,), droite=(2, 0)),\n",
       " Etat(gauche=(0,), milieu=(1,), droite=(2,)),\n",
       " Etat(gauche=(0,), milieu=(), droite=(2, 1)),\n",
       " Etat(gauche=(), milieu=(), droite=(2, 1, 0))]"
      ]
     },
     "execution_count": 21,
     "metadata": {},
     "output_type": "execute_result"
    }
   ],
   "source": [
    "solution_dfs(3)"
   ]
  },
  {
   "cell_type": "markdown",
   "metadata": {},
   "source": [
    "## Remarque\n",
    "\n",
    "L'algorithme de dfs ne trouve clairement pas le chemin le plus court on va donc essayer d'utiliser l'algorithme bfs."
   ]
  },
  {
   "cell_type": "code",
   "execution_count": 27,
   "metadata": {},
   "outputs": [],
   "source": [
    "def solution_bfs(nb_disques):\n",
    "    sommets = genere_sommets(nb_disques)\n",
    "    arretes = genere_arretes(sommets)\n",
    "    voisinage = transformation_voisinage(sommets, arretes)\n",
    "    complet = list(range(nb_disques))\n",
    "    complet.reverse()\n",
    "    depart = Etat(tuple(complet), tuple(), tuple())\n",
    "    arrivee = Etat(tuple(), tuple(), tuple(complet))\n",
    "    return bfs(voisinage, depart, arrivee)"
   ]
  },
  {
   "cell_type": "code",
   "execution_count": 28,
   "metadata": {},
   "outputs": [
    {
     "data": {
      "text/plain": [
       "[Etat(gauche=(0,), milieu=(), droite=()),\n",
       " Etat(gauche=(), milieu=(), droite=(0,))]"
      ]
     },
     "execution_count": 28,
     "metadata": {},
     "output_type": "execute_result"
    }
   ],
   "source": [
    "solution_bfs(1)"
   ]
  },
  {
   "cell_type": "code",
   "execution_count": 29,
   "metadata": {},
   "outputs": [
    {
     "data": {
      "text/plain": [
       "[Etat(gauche=(1, 0), milieu=(), droite=()),\n",
       " Etat(gauche=(1,), milieu=(0,), droite=()),\n",
       " Etat(gauche=(), milieu=(0,), droite=(1,)),\n",
       " Etat(gauche=(), milieu=(), droite=(1, 0))]"
      ]
     },
     "execution_count": 29,
     "metadata": {},
     "output_type": "execute_result"
    }
   ],
   "source": [
    "solution_bfs(2)"
   ]
  },
  {
   "cell_type": "code",
   "execution_count": 30,
   "metadata": {},
   "outputs": [
    {
     "data": {
      "text/plain": [
       "[Etat(gauche=(2, 1, 0), milieu=(), droite=()),\n",
       " Etat(gauche=(2, 1), milieu=(), droite=(0,)),\n",
       " Etat(gauche=(2,), milieu=(1,), droite=(0,)),\n",
       " Etat(gauche=(2,), milieu=(1, 0), droite=()),\n",
       " Etat(gauche=(), milieu=(1, 0), droite=(2,)),\n",
       " Etat(gauche=(0,), milieu=(1,), droite=(2,)),\n",
       " Etat(gauche=(0,), milieu=(), droite=(2, 1)),\n",
       " Etat(gauche=(), milieu=(), droite=(2, 1, 0))]"
      ]
     },
     "execution_count": 30,
     "metadata": {},
     "output_type": "execute_result"
    }
   ],
   "source": [
    "solution_bfs(3)"
   ]
  },
  {
   "cell_type": "markdown",
   "metadata": {},
   "source": [
    "## Exercice : alternative\n",
    "\n",
    "On peut essayer d'implémenter une fonction `genere_voisins` qui a un sommet associe la liste de tous ses voisins et à partir delà on construit directement la table de voisinage."
   ]
  },
  {
   "cell_type": "code",
   "execution_count": 26,
   "metadata": {},
   "outputs": [],
   "source": [
    "def genere_voisins(sommet):\n",
    "    \"\"\"Renvoit la liste de tous les sommets accessibles depuis sommet en un mouvement valide\"\"\"\n",
    "    ..."
   ]
  },
  {
   "cell_type": "markdown",
   "metadata": {},
   "source": [
    "# Remarque : timing\n",
    "\n",
    "Comment évolue le temps de calcul en fonction du nombre de disques"
   ]
  },
  {
   "cell_type": "code",
   "execution_count": 33,
   "metadata": {},
   "outputs": [
    {
     "name": "stdout",
     "output_type": "stream",
     "text": [
      "Wall time: 0 ns\n"
     ]
    }
   ],
   "source": [
    "%%time\n",
    "resultat = solution_bfs(2)"
   ]
  },
  {
   "cell_type": "code",
   "execution_count": 34,
   "metadata": {},
   "outputs": [
    {
     "name": "stdout",
     "output_type": "stream",
     "text": [
      "Wall time: 15.6 ms\n"
     ]
    }
   ],
   "source": [
    "%%time\n",
    "resultat = solution_bfs(4)"
   ]
  },
  {
   "cell_type": "code",
   "execution_count": 35,
   "metadata": {},
   "outputs": [
    {
     "name": "stdout",
     "output_type": "stream",
     "text": [
      "Wall time: 55.9 s\n"
     ]
    }
   ],
   "source": [
    "%%time\n",
    "resultat = solution_bfs(8)"
   ]
  },
  {
   "cell_type": "markdown",
   "metadata": {},
   "source": [
    "# Remarque\n",
    "\n",
    "L'approche par graphe est générale mais pour des problèmes particulier on peut avoir des solutions beaucoup plus efficace."
   ]
  },
  {
   "cell_type": "code",
   "execution_count": 36,
   "metadata": {},
   "outputs": [],
   "source": [
    "choix = {\n",
    "    (0, 1) : 2,\n",
    "    (1, 0) : 2,\n",
    "    (0, 2) : 1,\n",
    "    (2, 0) : 1,\n",
    "    (1, 2) : 0,\n",
    "    (2, 1) : 0,\n",
    "}"
   ]
  },
  {
   "cell_type": "code",
   "execution_count": 41,
   "metadata": {},
   "outputs": [],
   "source": [
    "def hanoi(nb_disques, depart, arrivee):\n",
    "    if nb_disques == 1:\n",
    "        print(\"On bouge le disque {} de la tige {} à la tige {}\".format(nb_disques - 1, depart, arrivee))\n",
    "    else:\n",
    "        stockage = choix[(depart, arrivee)]\n",
    "        hanoi(nb_disques - 1, depart, stockage)\n",
    "        print(\"On bouge le disque {} de la tige {} à la tige {}\".format(nb_disques - 1, depart, arrivee))\n",
    "        hanoi(nb_disques - 1, stockage, arrivee)"
   ]
  },
  {
   "cell_type": "code",
   "execution_count": 42,
   "metadata": {},
   "outputs": [
    {
     "name": "stdout",
     "output_type": "stream",
     "text": [
      "On bouge le disque 0 de la tige 0 à la tige 2\n",
      "On bouge le disque 1 de la tige 0 à la tige 1\n",
      "On bouge le disque 0 de la tige 2 à la tige 1\n",
      "On bouge le disque 2 de la tige 0 à la tige 2\n",
      "On bouge le disque 0 de la tige 1 à la tige 0\n",
      "On bouge le disque 1 de la tige 1 à la tige 2\n",
      "On bouge le disque 0 de la tige 0 à la tige 2\n"
     ]
    }
   ],
   "source": [
    "hanoi(3, 0, 2)"
   ]
  },
  {
   "cell_type": "code",
   "execution_count": null,
   "metadata": {},
   "outputs": [],
   "source": []
  }
 ],
 "metadata": {
  "kernelspec": {
   "display_name": "Python 3",
   "language": "python",
   "name": "python3"
  },
  "language_info": {
   "codemirror_mode": {
    "name": "ipython",
    "version": 3
   },
   "file_extension": ".py",
   "mimetype": "text/x-python",
   "name": "python",
   "nbconvert_exporter": "python",
   "pygments_lexer": "ipython3",
   "version": "3.6.5"
  }
 },
 "nbformat": 4,
 "nbformat_minor": 2
}
