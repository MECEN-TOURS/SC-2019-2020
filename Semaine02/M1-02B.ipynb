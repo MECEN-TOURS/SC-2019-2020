{
 "cells": [
  {
   "cell_type": "markdown",
   "metadata": {},
   "source": [
    "# Version 2\n",
    "\n",
    "on code un état en associant à une tige le tuple des disques qui sont positionnés dessus (par ordre croissant)."
   ]
  },
  {
   "cell_type": "code",
   "execution_count": 1,
   "metadata": {},
   "outputs": [],
   "source": [
    "def genere_piles(nb_disques):\n",
    "    \"\"\"Genere la liste de tous les uplets à valeurs dans 0...n-1\"\"\"\n",
    "    resultat = [[]]\n",
    "    for disque in reversed(range(nb_disques)):\n",
    "        resultat = [\n",
    "            temporaire + ajout \n",
    "            for temporaire in resultat\n",
    "            for ajout in [[], [disque]]\n",
    "        ]\n",
    "    return [tuple(pile) for pile in resultat]"
   ]
  },
  {
   "cell_type": "code",
   "execution_count": 2,
   "metadata": {},
   "outputs": [
    {
     "data": {
      "text/plain": [
       "[(), (0,), (1,), (1, 0)]"
      ]
     },
     "execution_count": 2,
     "metadata": {},
     "output_type": "execute_result"
    }
   ],
   "source": [
    "genere_piles(2)"
   ]
  },
  {
   "cell_type": "code",
   "execution_count": 3,
   "metadata": {},
   "outputs": [
    {
     "data": {
      "text/plain": [
       "[(), (0,), (1,), (1, 0), (2,), (2, 0), (2, 1), (2, 1, 0)]"
      ]
     },
     "execution_count": 3,
     "metadata": {},
     "output_type": "execute_result"
    }
   ],
   "source": [
    "genere_piles(3)"
   ]
  },
  {
   "cell_type": "code",
   "execution_count": 4,
   "metadata": {},
   "outputs": [],
   "source": [
    "from collections import namedtuple"
   ]
  },
  {
   "cell_type": "code",
   "execution_count": 5,
   "metadata": {},
   "outputs": [],
   "source": [
    "Etat = namedtuple(\"Etat\", [\"gauche\", \"milieu\", \"droite\"])"
   ]
  },
  {
   "cell_type": "code",
   "execution_count": 6,
   "metadata": {},
   "outputs": [],
   "source": [
    "def genere_etats(nb_disques):\n",
    "    resultat = list()\n",
    "    piles = genere_piles(nb_disques)\n",
    "    for pile_gauche in piles:\n",
    "        for pile_milieu in piles:\n",
    "            for pile_droite in piles:\n",
    "                resultat.append(\n",
    "                    Etat(\n",
    "                        pile_gauche, \n",
    "                        pile_milieu, \n",
    "                        pile_droite\n",
    "                    )\n",
    "                )\n",
    "    return resultat"
   ]
  },
  {
   "cell_type": "code",
   "execution_count": 7,
   "metadata": {},
   "outputs": [
    {
     "data": {
      "text/plain": [
       "[Etat(gauche=(), milieu=(), droite=()),\n",
       " Etat(gauche=(), milieu=(), droite=(0,)),\n",
       " Etat(gauche=(), milieu=(), droite=(1,)),\n",
       " Etat(gauche=(), milieu=(), droite=(1, 0)),\n",
       " Etat(gauche=(), milieu=(0,), droite=()),\n",
       " Etat(gauche=(), milieu=(0,), droite=(0,)),\n",
       " Etat(gauche=(), milieu=(0,), droite=(1,)),\n",
       " Etat(gauche=(), milieu=(0,), droite=(1, 0)),\n",
       " Etat(gauche=(), milieu=(1,), droite=()),\n",
       " Etat(gauche=(), milieu=(1,), droite=(0,)),\n",
       " Etat(gauche=(), milieu=(1,), droite=(1,)),\n",
       " Etat(gauche=(), milieu=(1,), droite=(1, 0)),\n",
       " Etat(gauche=(), milieu=(1, 0), droite=()),\n",
       " Etat(gauche=(), milieu=(1, 0), droite=(0,)),\n",
       " Etat(gauche=(), milieu=(1, 0), droite=(1,)),\n",
       " Etat(gauche=(), milieu=(1, 0), droite=(1, 0)),\n",
       " Etat(gauche=(0,), milieu=(), droite=()),\n",
       " Etat(gauche=(0,), milieu=(), droite=(0,)),\n",
       " Etat(gauche=(0,), milieu=(), droite=(1,)),\n",
       " Etat(gauche=(0,), milieu=(), droite=(1, 0)),\n",
       " Etat(gauche=(0,), milieu=(0,), droite=()),\n",
       " Etat(gauche=(0,), milieu=(0,), droite=(0,)),\n",
       " Etat(gauche=(0,), milieu=(0,), droite=(1,)),\n",
       " Etat(gauche=(0,), milieu=(0,), droite=(1, 0)),\n",
       " Etat(gauche=(0,), milieu=(1,), droite=()),\n",
       " Etat(gauche=(0,), milieu=(1,), droite=(0,)),\n",
       " Etat(gauche=(0,), milieu=(1,), droite=(1,)),\n",
       " Etat(gauche=(0,), milieu=(1,), droite=(1, 0)),\n",
       " Etat(gauche=(0,), milieu=(1, 0), droite=()),\n",
       " Etat(gauche=(0,), milieu=(1, 0), droite=(0,)),\n",
       " Etat(gauche=(0,), milieu=(1, 0), droite=(1,)),\n",
       " Etat(gauche=(0,), milieu=(1, 0), droite=(1, 0)),\n",
       " Etat(gauche=(1,), milieu=(), droite=()),\n",
       " Etat(gauche=(1,), milieu=(), droite=(0,)),\n",
       " Etat(gauche=(1,), milieu=(), droite=(1,)),\n",
       " Etat(gauche=(1,), milieu=(), droite=(1, 0)),\n",
       " Etat(gauche=(1,), milieu=(0,), droite=()),\n",
       " Etat(gauche=(1,), milieu=(0,), droite=(0,)),\n",
       " Etat(gauche=(1,), milieu=(0,), droite=(1,)),\n",
       " Etat(gauche=(1,), milieu=(0,), droite=(1, 0)),\n",
       " Etat(gauche=(1,), milieu=(1,), droite=()),\n",
       " Etat(gauche=(1,), milieu=(1,), droite=(0,)),\n",
       " Etat(gauche=(1,), milieu=(1,), droite=(1,)),\n",
       " Etat(gauche=(1,), milieu=(1,), droite=(1, 0)),\n",
       " Etat(gauche=(1,), milieu=(1, 0), droite=()),\n",
       " Etat(gauche=(1,), milieu=(1, 0), droite=(0,)),\n",
       " Etat(gauche=(1,), milieu=(1, 0), droite=(1,)),\n",
       " Etat(gauche=(1,), milieu=(1, 0), droite=(1, 0)),\n",
       " Etat(gauche=(1, 0), milieu=(), droite=()),\n",
       " Etat(gauche=(1, 0), milieu=(), droite=(0,)),\n",
       " Etat(gauche=(1, 0), milieu=(), droite=(1,)),\n",
       " Etat(gauche=(1, 0), milieu=(), droite=(1, 0)),\n",
       " Etat(gauche=(1, 0), milieu=(0,), droite=()),\n",
       " Etat(gauche=(1, 0), milieu=(0,), droite=(0,)),\n",
       " Etat(gauche=(1, 0), milieu=(0,), droite=(1,)),\n",
       " Etat(gauche=(1, 0), milieu=(0,), droite=(1, 0)),\n",
       " Etat(gauche=(1, 0), milieu=(1,), droite=()),\n",
       " Etat(gauche=(1, 0), milieu=(1,), droite=(0,)),\n",
       " Etat(gauche=(1, 0), milieu=(1,), droite=(1,)),\n",
       " Etat(gauche=(1, 0), milieu=(1,), droite=(1, 0)),\n",
       " Etat(gauche=(1, 0), milieu=(1, 0), droite=()),\n",
       " Etat(gauche=(1, 0), milieu=(1, 0), droite=(0,)),\n",
       " Etat(gauche=(1, 0), milieu=(1, 0), droite=(1,)),\n",
       " Etat(gauche=(1, 0), milieu=(1, 0), droite=(1, 0))]"
      ]
     },
     "execution_count": 7,
     "metadata": {},
     "output_type": "execute_result"
    }
   ],
   "source": [
    "genere_etats(2)"
   ]
  },
  {
   "cell_type": "code",
   "execution_count": 8,
   "metadata": {},
   "outputs": [],
   "source": [
    "def est_valide(etat, nb_disques):\n",
    "    \"\"\"Teste si l'état est valide \n",
    "    chaque disque est présent sur exactement une tige\n",
    "    \"\"\"\n",
    "    for disque in range(nb_disques):\n",
    "        #nb_present =  sum(1 for tige in etat if disque in tige)\n",
    "        nb_present = 0\n",
    "        for tige in etat:\n",
    "            if disque in tige:\n",
    "                nb_present += 1\n",
    "        if nb_present != 1:\n",
    "            return False\n",
    "    return True\n",
    "            "
   ]
  },
  {
   "cell_type": "code",
   "execution_count": 10,
   "metadata": {},
   "outputs": [],
   "source": [
    "def genere_sommets(nb_disques):\n",
    "    \"\"\"Genere la liste des sommets du graphe\"\"\"\n",
    "    etats = genere_etats(nb_disques)\n",
    "    resultat = list()\n",
    "    for etat in etats:\n",
    "        if est_valide(etat, nb_disques):\n",
    "            resultat.append(etat)\n",
    "    return resultat"
   ]
  },
  {
   "cell_type": "code",
   "execution_count": 12,
   "metadata": {},
   "outputs": [
    {
     "data": {
      "text/plain": [
       "[Etat(gauche=(), milieu=(), droite=(0,)),\n",
       " Etat(gauche=(), milieu=(0,), droite=()),\n",
       " Etat(gauche=(0,), milieu=(), droite=())]"
      ]
     },
     "execution_count": 12,
     "metadata": {},
     "output_type": "execute_result"
    }
   ],
   "source": [
    "genere_sommets(1)"
   ]
  },
  {
   "cell_type": "code",
   "execution_count": 11,
   "metadata": {},
   "outputs": [
    {
     "data": {
      "text/plain": [
       "[Etat(gauche=(), milieu=(), droite=(1, 0)),\n",
       " Etat(gauche=(), milieu=(0,), droite=(1,)),\n",
       " Etat(gauche=(), milieu=(1,), droite=(0,)),\n",
       " Etat(gauche=(), milieu=(1, 0), droite=()),\n",
       " Etat(gauche=(0,), milieu=(), droite=(1,)),\n",
       " Etat(gauche=(0,), milieu=(1,), droite=()),\n",
       " Etat(gauche=(1,), milieu=(), droite=(0,)),\n",
       " Etat(gauche=(1,), milieu=(0,), droite=()),\n",
       " Etat(gauche=(1, 0), milieu=(), droite=())]"
      ]
     },
     "execution_count": 11,
     "metadata": {},
     "output_type": "execute_result"
    }
   ],
   "source": [
    "genere_sommets(2)"
   ]
  },
  {
   "cell_type": "code",
   "execution_count": 14,
   "metadata": {},
   "outputs": [
    {
     "name": "stdout",
     "output_type": "stream",
     "text": [
      "27\n"
     ]
    }
   ],
   "source": [
    "print(len(genere_sommets(3)))"
   ]
  },
  {
   "cell_type": "markdown",
   "metadata": {},
   "source": [
    "## Exercice\n",
    "\n",
    "- Coder `sont_relies`, `genere_arretes`\n",
    "- Finir l'implémentation"
   ]
  },
  {
   "cell_type": "code",
   "execution_count": null,
   "metadata": {},
   "outputs": [],
   "source": []
  }
 ],
 "metadata": {
  "kernelspec": {
   "display_name": "Python 3",
   "language": "python",
   "name": "python3"
  },
  "language_info": {
   "codemirror_mode": {
    "name": "ipython",
    "version": 3
   },
   "file_extension": ".py",
   "mimetype": "text/x-python",
   "name": "python",
   "nbconvert_exporter": "python",
   "pygments_lexer": "ipython3",
   "version": "3.6.5"
  }
 },
 "nbformat": 4,
 "nbformat_minor": 2
}
