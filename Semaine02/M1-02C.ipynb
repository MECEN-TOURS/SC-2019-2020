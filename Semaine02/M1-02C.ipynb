{
 "cells": [
  {
   "cell_type": "markdown",
   "metadata": {},
   "source": [
    "# Résolution des sudokus 4x4"
   ]
  },
  {
   "cell_type": "markdown",
   "metadata": {},
   "source": [
    "## Modélisation\n",
    "\n",
    "- Une grille (potentiellement incomplète) va être représentée par une liste de 16 nombres.\n",
    "- On stocke les cases par ligne puis colonne.\n",
    "- Si une case est remplie on stocke son nombre\n",
    "- Sinon on stocke l'opposé de son indice."
   ]
  },
  {
   "cell_type": "markdown",
   "metadata": {},
   "source": [
    "**Remarque** on utilise l'opposé des indices pour que si une répétition a lieu sur une ligne/colonne/cellule on est sûr que le problème viennent de nombre déjà rempli et pas de case vide."
   ]
  },
  {
   "cell_type": "markdown",
   "metadata": {},
   "source": [
    "## Exercice\n",
    "\n",
    "- implémenter une fonction `verification_lignes`\n",
    "- implémenter une fonction `verification_colonnes`\n",
    "- implémenter une fonction `verification_cellules`\n",
    "- implémenter une fonction `grille_suivante` (prenant une liste de grilles progressivement remplies).\n",
    "- implémenter une fonction `grille_complete`"
   ]
  },
  {
   "cell_type": "code",
   "execution_count": null,
   "metadata": {},
   "outputs": [],
   "source": []
  }
 ],
 "metadata": {
  "kernelspec": {
   "display_name": "Python 3",
   "language": "python",
   "name": "python3"
  },
  "language_info": {
   "codemirror_mode": {
    "name": "ipython",
    "version": 3
   },
   "file_extension": ".py",
   "mimetype": "text/x-python",
   "name": "python",
   "nbconvert_exporter": "python",
   "pygments_lexer": "ipython3",
   "version": "3.6.5"
  }
 },
 "nbformat": 4,
 "nbformat_minor": 2
}
