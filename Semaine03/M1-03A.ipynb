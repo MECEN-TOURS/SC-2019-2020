{
 "cells": [
  {
   "cell_type": "markdown",
   "metadata": {},
   "source": [
    "# Résolution des sudokus 4x4"
   ]
  },
  {
   "cell_type": "markdown",
   "metadata": {},
   "source": [
    "## Modélisation\n",
    "\n",
    "- Une grille (potentiellement incomplète) va être représentée par une liste de 16 nombres.\n",
    "- On stocke les cases par ligne puis colonne.\n",
    "- Si une case est remplie on stocke son nombre\n",
    "- Sinon on stocke l'opposé de son indice."
   ]
  },
  {
   "cell_type": "markdown",
   "metadata": {},
   "source": [
    "**Remarque** on utilise l'opposé des indices pour que si une répétition a lieu sur une ligne/colonne/cellule on est sûr que le problème viennent de nombre déjà rempli et pas de case vide."
   ]
  },
  {
   "cell_type": "markdown",
   "metadata": {},
   "source": [
    "## Exercice\n",
    "\n",
    "- implémenter une fonction `pas_de_repetition`\n",
    "- implémenter une fonction `verification_lignes`\n",
    "- implémenter une fonction `verification_colonnes`\n",
    "- implémenter une fonction `verification_cellules`\n",
    "- implémenter une fonction `grille_suivante` (prenant une liste de grilles progressivement remplies).\n",
    "- implémenter une fonction `grille_complete`"
   ]
  },
  {
   "cell_type": "code",
   "execution_count": 1,
   "metadata": {},
   "outputs": [],
   "source": [
    "def repetition(liste):\n",
    "    \"\"\"Teste si au moins une valeur est répétée dans la liste\"\"\"\n",
    "    for ind1, e1 in enumerate(liste):\n",
    "        for ind2, e2 in enumerate(liste):\n",
    "            if ind1 != ind2 and e1 == e2:\n",
    "                return True\n",
    "    return False"
   ]
  },
  {
   "cell_type": "code",
   "execution_count": 2,
   "metadata": {},
   "outputs": [
    {
     "name": "stdout",
     "output_type": "stream",
     "text": [
      "Faux :  False\n",
      "Vrai :  True\n"
     ]
    }
   ],
   "source": [
    "print(\"Faux : \", repetition([1, 2, 3, 4]))\n",
    "print(\"Vrai : \", repetition([1, 2, 3, 4, 1]))"
   ]
  },
  {
   "cell_type": "code",
   "execution_count": 3,
   "metadata": {},
   "outputs": [
    {
     "name": "stdout",
     "output_type": "stream",
     "text": [
      "Faux :  False\n",
      "Vrai :  True\n"
     ]
    }
   ],
   "source": [
    "print(\"Faux : \", repetition(\"abcde\"))\n",
    "print(\"Vrai : \", repetition(\"abcdedcba\"))"
   ]
  },
  {
   "cell_type": "code",
   "execution_count": 4,
   "metadata": {},
   "outputs": [],
   "source": [
    "def verification_lignes(grille):\n",
    "    \"\"\"Vérifie qu'il n'y a pas de doublon sur aucune des lignes\n",
    "    de la grille de sudoku 4x4\n",
    "    \"\"\"\n",
    "    for debut in range(0, 16, 4):\n",
    "        if repetition(grille[debut: debut+4]):\n",
    "            return False\n",
    "    return True\n",
    "        "
   ]
  },
  {
   "cell_type": "code",
   "execution_count": 5,
   "metadata": {},
   "outputs": [
    {
     "name": "stdout",
     "output_type": "stream",
     "text": [
      "[0, 1, 2, 3, 4, 5, 6, 7, 8, 9, 10, 11, 12, 13, 14, 15]\n",
      "Vrai :  True\n",
      "[0, 1, 2, 0, 4, 5, 6, 7, 8, 9, 10, 11, 12, 13, 14, 15]\n",
      "Faux :  False\n"
     ]
    }
   ],
   "source": [
    "entree = list(range(0, 16))\n",
    "print(entree)\n",
    "print(\"Vrai : \", verification_lignes(entree))\n",
    "entree[3] = 0\n",
    "print(entree)\n",
    "print(\"Faux : \", verification_lignes(entree))"
   ]
  },
  {
   "cell_type": "code",
   "execution_count": 6,
   "metadata": {},
   "outputs": [],
   "source": [
    "def verification_colonnes(grille):\n",
    "    \"\"\"Vérifie qu'il n'y a pas de doublon sur aucune des colonnes\n",
    "    de la grille de sudoku 4x4\n",
    "    \"\"\"\n",
    "    for debut in range(0, 4):\n",
    "        fin = debut + 16\n",
    "        if repetition(grille[debut:fin:4]):\n",
    "            return False\n",
    "    return True"
   ]
  },
  {
   "cell_type": "code",
   "execution_count": 7,
   "metadata": {},
   "outputs": [
    {
     "name": "stdout",
     "output_type": "stream",
     "text": [
      "[0, 1, 2, 3, 4, 5, 6, 7, 8, 9, 10, 11, 12, 13, 14, 15]\n",
      "Vrai :  True\n",
      "[0, 1, 2, 3, 4, 5, 6, 7, 0, 9, 10, 11, 12, 13, 14, 15]\n",
      "Faux :  False\n"
     ]
    }
   ],
   "source": [
    "entree = list(range(0, 16))\n",
    "print(entree)\n",
    "print(\"Vrai : \", verification_colonnes(entree))\n",
    "entree[8] = 0\n",
    "print(entree)\n",
    "print(\"Faux : \", verification_colonnes(entree))"
   ]
  },
  {
   "cell_type": "markdown",
   "metadata": {},
   "source": [
    "**ATTENTION** on essaye de choisir les noms de variables et de fonctions pour décrire leur contenu/action de façon à ce qu'on ait l'impression de lire du pseudocode à leur utilisation."
   ]
  },
  {
   "cell_type": "code",
   "execution_count": 8,
   "metadata": {},
   "outputs": [],
   "source": [
    "def  verification_cellules(grille):\n",
    "    \"\"\"Verifie qu'il n'y ait pas de repetition dans les sous grilles\n",
    "    2x2 de la grille de sudoku 4x4\n",
    "    \"\"\"\n",
    "    base = 2\n",
    "    if len(grille) != base ** 4:\n",
    "        raise ValueError(\"La grille ne fait pas la bonne taille\")\n",
    "    for jj in range(0, base ** 4, base ** 3):\n",
    "        for ii in range(0, base ** 2, base ** 1):\n",
    "            if repetition(\n",
    "                [\n",
    "                    grille[ii + jj + i + j] \n",
    "                    for j in range(0, base ** 3, base ** 2) \n",
    "                    for i in range(0, base ** 1, base ** 0)\n",
    "                ]\n",
    "            ):\n",
    "                return False\n",
    "    return True"
   ]
  },
  {
   "cell_type": "code",
   "execution_count": 9,
   "metadata": {},
   "outputs": [
    {
     "name": "stdout",
     "output_type": "stream",
     "text": [
      "[0, 1, 2, 3, 4, 5, 6, 7, 8, 9, 10, 11, 12, 13, 14, 15]\n",
      "Vrai :  True\n",
      "[0, 1, 2, 3, 4, 5, 6, 7, 8, 9, 10, 11, 12, 13, 14, 10]\n",
      "Faux :  False\n"
     ]
    }
   ],
   "source": [
    "entree = list(range(0, 16))\n",
    "print(entree)\n",
    "print(\"Vrai : \", verification_cellules(entree))\n",
    "entree[15] = 10\n",
    "print(entree)\n",
    "print(\"Faux : \", verification_cellules(entree))"
   ]
  },
  {
   "cell_type": "markdown",
   "metadata": {},
   "source": [
    "## implémentation alternative\n",
    "\n",
    "plus lisible moins facilement généralisable"
   ]
  },
  {
   "cell_type": "code",
   "execution_count": 10,
   "metadata": {},
   "outputs": [],
   "source": [
    "def verification(grille, liste_indices):\n",
    "    \"\"\"Vérification de manière brutale\"\"\"\n",
    "    for indices in liste_indices:\n",
    "        if repetition([grille[indice] for indice in indices]):\n",
    "            return False\n",
    "    return True"
   ]
  },
  {
   "cell_type": "code",
   "execution_count": 11,
   "metadata": {},
   "outputs": [],
   "source": [
    "regle_cellules =  [\n",
    "    (0, 1, 4, 5), \n",
    "    (2, 3, 6, 7), \n",
    "    (8, 9, 12, 13),\n",
    "    (10, 11, 14, 15),\n",
    "]\n",
    "regle_lignes = [\n",
    "    (0, 1, 2, 3),\n",
    "    (4, 5, 6, 7),\n",
    "    (8, 9, 10, 11),\n",
    "    (12, 13, 14, 15),\n",
    "]\n",
    "regle_colonnes = [\n",
    "    (0, 4, 8, 12),\n",
    "    (1, 5, 9, 13),\n",
    "    (2, 6, 10, 14),\n",
    "    (3, 7, 11, 15),\n",
    "]"
   ]
  },
  {
   "cell_type": "markdown",
   "metadata": {},
   "source": [
    "## Implémenter le solveur de sudoku"
   ]
  },
  {
   "cell_type": "code",
   "execution_count": 12,
   "metadata": {},
   "outputs": [],
   "source": [
    "def est_valide(grille):\n",
    "    \"\"\"Fonction de validation d'une grille intermédiaire\"\"\"\n",
    "    if not verification_lignes(grille):\n",
    "        return False\n",
    "    if not verification_colonnes(grille):\n",
    "        return False\n",
    "    if not verification_cellules(grille):\n",
    "        return False\n",
    "    return True"
   ]
  },
  {
   "cell_type": "code",
   "execution_count": 13,
   "metadata": {},
   "outputs": [],
   "source": [
    "def case_suivante(grille):\n",
    "    \"\"\"Retourne l'indice de la prochaine case à remplir\n",
    "    \"\"\"\n",
    "    for indice_case, contenu_case in enumerate(grille):\n",
    "        if contenu_case <= 0:\n",
    "            return indice_case\n",
    "    return None"
   ]
  },
  {
   "cell_type": "code",
   "execution_count": 83,
   "metadata": {},
   "outputs": [],
   "source": [
    "def solveur(grille_depart):\n",
    "    \"\"\"Solveur de sudoku 4x4. Premier jet.\n",
    "    \"\"\"\n",
    "    grille_courante = grille_depart[:]\n",
    "    cases_modifiees = list()\n",
    "    drapeau = True\n",
    "    while True:\n",
    "        if drapeau and est_valide(grille_courante):\n",
    "            indice_prochaine_case = case_suivante(grille_courante)\n",
    "            if indice_prochaine_case is not None:\n",
    "                grille_courante[indice_prochaine_case] = 1\n",
    "                cases_modifiees.append(indice_prochaine_case)\n",
    "            else:\n",
    "                return grille_courante\n",
    "        else:\n",
    "            drapeau = True\n",
    "            if cases_modifiees:\n",
    "                indice_derniere_case = cases_modifiees.pop()\n",
    "                if grille[indice_derniere_case] == 4:\n",
    "                    grille[indice_derniere_cases] = -indice_derniere_case\n",
    "                    drapeau = False\n",
    "                else:\n",
    "                    grille[indice_derniere_case] = grille[indice_derniere_case] + 1\n",
    "            else:\n",
    "                raise ValueError(\"Grille de départ sans solution\")\n",
    "                #return None"
   ]
  },
  {
   "cell_type": "markdown",
   "metadata": {},
   "source": [
    "## Exercice\n",
    "\n",
    "- Tester sur quelques cas la fonction précédente (terminaison? validité?)\n",
    "- Coder le sudoku 9x9\n",
    "- Modifier le code pour renvoyer toutes les solutions\n"
   ]
  },
  {
   "cell_type": "code",
   "execution_count": 84,
   "metadata": {},
   "outputs": [],
   "source": [
    "def affichage(grille):\n",
    "    \"\"\"Genere une version plus lisible de la grille de sudoku sous forme de chaine de caractères\"\"\"\n",
    "    filtree = list()\n",
    "    for nbr in grille:\n",
    "        if nbr > 0:\n",
    "            filtree.append(nbr)\n",
    "        else:\n",
    "            filtree.append(\" \")\n",
    "    return \"\"\"\n",
    "_________________\n",
    "| {} | {} | {} | {} |\n",
    "-----------------\n",
    "| {} | {} | {} | {} |\n",
    "-----------------\n",
    "| {} | {} | {} | {} |\n",
    "-----------------\n",
    "| {} | {} | {} | {} |\n",
    "-----------------\n",
    "    \"\"\".format(*filtree)"
   ]
  },
  {
   "cell_type": "code",
   "execution_count": 85,
   "metadata": {},
   "outputs": [
    {
     "name": "stdout",
     "output_type": "stream",
     "text": [
      "\n",
      "_________________\n",
      "| 1 | 2 | 3 | 4 |\n",
      "-----------------\n",
      "| 3 | 4 | 1 | 2 |\n",
      "-----------------\n",
      "| 2 | 1 | 4 | 3 |\n",
      "-----------------\n",
      "| 4 | 3 | 2 | 1 |\n",
      "-----------------\n",
      "    \n",
      "True\n"
     ]
    }
   ],
   "source": [
    "complete = [1, 2, 3, 4, 3, 4, 1, 2, 2, 1, 4, 3, 4, 3, 2, 1]\n",
    "print(affichage(complete))\n",
    "print(est_valide(complete))"
   ]
  },
  {
   "cell_type": "code",
   "execution_count": 86,
   "metadata": {},
   "outputs": [
    {
     "name": "stdout",
     "output_type": "stream",
     "text": [
      "\n",
      "_________________\n",
      "|   | 2 | 3 | 4 |\n",
      "-----------------\n",
      "| 3 | 4 | 1 | 2 |\n",
      "-----------------\n",
      "| 2 | 1 | 4 | 3 |\n",
      "-----------------\n",
      "| 4 | 3 | 2 | 1 |\n",
      "-----------------\n",
      "    \n",
      "\n",
      "_________________\n",
      "| 1 | 2 | 3 | 4 |\n",
      "-----------------\n",
      "| 3 | 4 | 1 | 2 |\n",
      "-----------------\n",
      "| 2 | 1 | 4 | 3 |\n",
      "-----------------\n",
      "| 4 | 3 | 2 | 1 |\n",
      "-----------------\n",
      "    \n"
     ]
    }
   ],
   "source": [
    "essai1 = complete[:]\n",
    "for indice in (0,):\n",
    "    essai1[indice] = -indice\n",
    "print(affichage(essai1))\n",
    "print(affichage(solveur(essai1)))"
   ]
  },
  {
   "cell_type": "code",
   "execution_count": 87,
   "metadata": {},
   "outputs": [
    {
     "name": "stdout",
     "output_type": "stream",
     "text": [
      "\n",
      "_________________\n",
      "|   | 2 | 3 |   |\n",
      "-----------------\n",
      "| 3 | 4 | 1 | 2 |\n",
      "-----------------\n",
      "| 2 | 1 | 4 | 3 |\n",
      "-----------------\n",
      "| 4 | 3 | 2 | 1 |\n",
      "-----------------\n",
      "    \n"
     ]
    },
    {
     "ename": "NameError",
     "evalue": "name 'grille' is not defined",
     "output_type": "error",
     "traceback": [
      "\u001b[1;31m---------------------------------------------------------------------------\u001b[0m",
      "\u001b[1;31mNameError\u001b[0m                                 Traceback (most recent call last)",
      "\u001b[1;32m<ipython-input-87-0b3afeb91005>\u001b[0m in \u001b[0;36m<module>\u001b[1;34m()\u001b[0m\n\u001b[0;32m      3\u001b[0m     \u001b[0messai1\u001b[0m\u001b[1;33m[\u001b[0m\u001b[0mindice\u001b[0m\u001b[1;33m]\u001b[0m \u001b[1;33m=\u001b[0m \u001b[1;33m-\u001b[0m\u001b[0mindice\u001b[0m\u001b[1;33m\u001b[0m\u001b[0m\n\u001b[0;32m      4\u001b[0m \u001b[0mprint\u001b[0m\u001b[1;33m(\u001b[0m\u001b[0maffichage\u001b[0m\u001b[1;33m(\u001b[0m\u001b[0messai1\u001b[0m\u001b[1;33m)\u001b[0m\u001b[1;33m)\u001b[0m\u001b[1;33m\u001b[0m\u001b[0m\n\u001b[1;32m----> 5\u001b[1;33m \u001b[0mprint\u001b[0m\u001b[1;33m(\u001b[0m\u001b[0maffichage\u001b[0m\u001b[1;33m(\u001b[0m\u001b[0msolveur\u001b[0m\u001b[1;33m(\u001b[0m\u001b[0messai1\u001b[0m\u001b[1;33m)\u001b[0m\u001b[1;33m)\u001b[0m\u001b[1;33m)\u001b[0m\u001b[1;33m\u001b[0m\u001b[0m\n\u001b[0m",
      "\u001b[1;32m<ipython-input-83-775e5cec030c>\u001b[0m in \u001b[0;36msolveur\u001b[1;34m(grille_depart)\u001b[0m\n\u001b[0;32m     17\u001b[0m             \u001b[1;32mif\u001b[0m \u001b[0mcases_modifiees\u001b[0m\u001b[1;33m:\u001b[0m\u001b[1;33m\u001b[0m\u001b[0m\n\u001b[0;32m     18\u001b[0m                 \u001b[0mindice_derniere_case\u001b[0m \u001b[1;33m=\u001b[0m \u001b[0mcases_modifiees\u001b[0m\u001b[1;33m.\u001b[0m\u001b[0mpop\u001b[0m\u001b[1;33m(\u001b[0m\u001b[1;33m)\u001b[0m\u001b[1;33m\u001b[0m\u001b[0m\n\u001b[1;32m---> 19\u001b[1;33m                 \u001b[1;32mif\u001b[0m \u001b[0mgrille\u001b[0m\u001b[1;33m[\u001b[0m\u001b[0mindice_derniere_case\u001b[0m\u001b[1;33m]\u001b[0m \u001b[1;33m==\u001b[0m \u001b[1;36m4\u001b[0m\u001b[1;33m:\u001b[0m\u001b[1;33m\u001b[0m\u001b[0m\n\u001b[0m\u001b[0;32m     20\u001b[0m                     \u001b[0mgrille\u001b[0m\u001b[1;33m[\u001b[0m\u001b[0mindice_derniere_cases\u001b[0m\u001b[1;33m]\u001b[0m \u001b[1;33m=\u001b[0m \u001b[1;33m-\u001b[0m\u001b[0mindice_derniere_case\u001b[0m\u001b[1;33m\u001b[0m\u001b[0m\n\u001b[0;32m     21\u001b[0m                     \u001b[0mdrapeau\u001b[0m \u001b[1;33m=\u001b[0m \u001b[1;32mFalse\u001b[0m\u001b[1;33m\u001b[0m\u001b[0m\n",
      "\u001b[1;31mNameError\u001b[0m: name 'grille' is not defined"
     ]
    }
   ],
   "source": [
    "essai1 = complete[:]\n",
    "for indice in (0, 3):\n",
    "    essai1[indice] = -indice\n",
    "print(affichage(essai1))\n",
    "print(affichage(solveur(essai1)))"
   ]
  },
  {
   "cell_type": "markdown",
   "metadata": {},
   "source": [
    "On a trouvé une faute de frappe, modifiée dans la version suivante"
   ]
  },
  {
   "cell_type": "code",
   "execution_count": 92,
   "metadata": {},
   "outputs": [],
   "source": [
    "def solveur(grille_depart):\n",
    "    \"\"\"Solveur de sudoku 4x4\n",
    "    Version faute de frappe corrigée, print de débugage ajoutés.\n",
    "    \"\"\"\n",
    "    grille_courante = grille_depart[:]\n",
    "    cases_modifiees = list()\n",
    "    drapeau = True\n",
    "    while True:\n",
    "        print(\"grille courante : \", grille_courante)\n",
    "        print(\"case modifiees : \", cases_modifiees)\n",
    "        print(\"drapeau : \", drapeau)\n",
    "        print()\n",
    "        if drapeau and est_valide(grille_courante):\n",
    "            indice_prochaine_case = case_suivante(grille_courante)\n",
    "            if indice_prochaine_case is not None:\n",
    "                grille_courante[indice_prochaine_case] = 1\n",
    "                cases_modifiees.append(indice_prochaine_case)\n",
    "            else:\n",
    "                return grille_courante\n",
    "        else:\n",
    "            drapeau = True\n",
    "            if cases_modifiees:\n",
    "                indice_derniere_case = cases_modifiees.pop()\n",
    "                if grille_courante[indice_derniere_case] == 4:\n",
    "                    grille_courante[indice_derniere_cases] = -indice_derniere_case\n",
    "                    drapeau = False\n",
    "                else:\n",
    "                    grille_courante[indice_derniere_case] = grille_courante[indice_derniere_case] + 1\n",
    "            else:\n",
    "                raise ValueError(\"Grille de départ sans solution\")\n",
    "                #return None"
   ]
  },
  {
   "cell_type": "code",
   "execution_count": 93,
   "metadata": {},
   "outputs": [
    {
     "name": "stdout",
     "output_type": "stream",
     "text": [
      "\n",
      "_________________\n",
      "|   | 2 | 3 |   |\n",
      "-----------------\n",
      "| 3 | 4 | 1 | 2 |\n",
      "-----------------\n",
      "| 2 | 1 | 4 | 3 |\n",
      "-----------------\n",
      "| 4 | 3 | 2 | 1 |\n",
      "-----------------\n",
      "    \n",
      "grille courante :  [0, 2, 3, -3, 3, 4, 1, 2, 2, 1, 4, 3, 4, 3, 2, 1]\n",
      "case modifiees :  []\n",
      "drapeau :  True\n",
      "\n",
      "grille courante :  [1, 2, 3, -3, 3, 4, 1, 2, 2, 1, 4, 3, 4, 3, 2, 1]\n",
      "case modifiees :  [0]\n",
      "drapeau :  True\n",
      "\n",
      "grille courante :  [1, 2, 3, 1, 3, 4, 1, 2, 2, 1, 4, 3, 4, 3, 2, 1]\n",
      "case modifiees :  [0, 3]\n",
      "drapeau :  True\n",
      "\n",
      "grille courante :  [1, 2, 3, 2, 3, 4, 1, 2, 2, 1, 4, 3, 4, 3, 2, 1]\n",
      "case modifiees :  [0]\n",
      "drapeau :  True\n",
      "\n",
      "grille courante :  [2, 2, 3, 2, 3, 4, 1, 2, 2, 1, 4, 3, 4, 3, 2, 1]\n",
      "case modifiees :  []\n",
      "drapeau :  True\n",
      "\n"
     ]
    },
    {
     "ename": "ValueError",
     "evalue": "Grille de départ sans solution",
     "output_type": "error",
     "traceback": [
      "\u001b[1;31m---------------------------------------------------------------------------\u001b[0m",
      "\u001b[1;31mValueError\u001b[0m                                Traceback (most recent call last)",
      "\u001b[1;32m<ipython-input-93-0b3afeb91005>\u001b[0m in \u001b[0;36m<module>\u001b[1;34m()\u001b[0m\n\u001b[0;32m      3\u001b[0m     \u001b[0messai1\u001b[0m\u001b[1;33m[\u001b[0m\u001b[0mindice\u001b[0m\u001b[1;33m]\u001b[0m \u001b[1;33m=\u001b[0m \u001b[1;33m-\u001b[0m\u001b[0mindice\u001b[0m\u001b[1;33m\u001b[0m\u001b[0m\n\u001b[0;32m      4\u001b[0m \u001b[0mprint\u001b[0m\u001b[1;33m(\u001b[0m\u001b[0maffichage\u001b[0m\u001b[1;33m(\u001b[0m\u001b[0messai1\u001b[0m\u001b[1;33m)\u001b[0m\u001b[1;33m)\u001b[0m\u001b[1;33m\u001b[0m\u001b[0m\n\u001b[1;32m----> 5\u001b[1;33m \u001b[0mprint\u001b[0m\u001b[1;33m(\u001b[0m\u001b[0maffichage\u001b[0m\u001b[1;33m(\u001b[0m\u001b[0msolveur\u001b[0m\u001b[1;33m(\u001b[0m\u001b[0messai1\u001b[0m\u001b[1;33m)\u001b[0m\u001b[1;33m)\u001b[0m\u001b[1;33m)\u001b[0m\u001b[1;33m\u001b[0m\u001b[0m\n\u001b[0m",
      "\u001b[1;32m<ipython-input-92-376b30f5e612>\u001b[0m in \u001b[0;36msolveur\u001b[1;34m(grille_depart)\u001b[0m\n\u001b[0;32m     28\u001b[0m                     \u001b[0mgrille_courante\u001b[0m\u001b[1;33m[\u001b[0m\u001b[0mindice_derniere_case\u001b[0m\u001b[1;33m]\u001b[0m \u001b[1;33m=\u001b[0m \u001b[0mgrille_courante\u001b[0m\u001b[1;33m[\u001b[0m\u001b[0mindice_derniere_case\u001b[0m\u001b[1;33m]\u001b[0m \u001b[1;33m+\u001b[0m \u001b[1;36m1\u001b[0m\u001b[1;33m\u001b[0m\u001b[0m\n\u001b[0;32m     29\u001b[0m             \u001b[1;32melse\u001b[0m\u001b[1;33m:\u001b[0m\u001b[1;33m\u001b[0m\u001b[0m\n\u001b[1;32m---> 30\u001b[1;33m                 \u001b[1;32mraise\u001b[0m \u001b[0mValueError\u001b[0m\u001b[1;33m(\u001b[0m\u001b[1;34m\"Grille de départ sans solution\"\u001b[0m\u001b[1;33m)\u001b[0m\u001b[1;33m\u001b[0m\u001b[0m\n\u001b[0m\u001b[0;32m     31\u001b[0m                 \u001b[1;31m#return None\u001b[0m\u001b[1;33m\u001b[0m\u001b[1;33m\u001b[0m\u001b[0m\n",
      "\u001b[1;31mValueError\u001b[0m: Grille de départ sans solution"
     ]
    }
   ],
   "source": [
    "essai1 = complete[:]\n",
    "for indice in (0, 3):\n",
    "    essai1[indice] = -indice\n",
    "print(affichage(essai1))\n",
    "print(affichage(solveur(essai1)))"
   ]
  },
  {
   "cell_type": "markdown",
   "metadata": {},
   "source": [
    "Problème sur l'implémentation la grille ayant une solution. Résolu grâce au print."
   ]
  },
  {
   "cell_type": "code",
   "execution_count": 94,
   "metadata": {},
   "outputs": [],
   "source": [
    "def solveur(grille_depart):\n",
    "    \"\"\"Solveur de sudoku 4x4\n",
    "    Version complète.\n",
    "    \"\"\"\n",
    "    grille_courante = grille_depart[:]\n",
    "    cases_modifiees = list()\n",
    "    drapeau = True\n",
    "    while True:\n",
    "        print(\"grille courante : \", grille_courante)\n",
    "        print(\"case modifiees : \", cases_modifiees)\n",
    "        print(\"drapeau : \", drapeau)\n",
    "        print()\n",
    "        if drapeau and est_valide(grille_courante):\n",
    "            indice_prochaine_case = case_suivante(grille_courante)\n",
    "            if indice_prochaine_case is not None:\n",
    "                grille_courante[indice_prochaine_case] = 1\n",
    "                cases_modifiees.append(indice_prochaine_case)\n",
    "            else:\n",
    "                return grille_courante\n",
    "        else:\n",
    "            drapeau = True\n",
    "            if cases_modifiees:\n",
    "                indice_derniere_case = cases_modifiees.pop()\n",
    "                if grille_courante[indice_derniere_case] == 4:\n",
    "                    grille_courante[indice_derniere_cases] = -indice_derniere_case\n",
    "                    drapeau = False\n",
    "                else:\n",
    "                    grille_courante[indice_derniere_case] = grille_courante[indice_derniere_case] + 1\n",
    "                    cases_modifiees.append(indice_derniere_case)\n",
    "            else:\n",
    "                raise ValueError(\"Grille de départ sans solution\")\n",
    "                #return None"
   ]
  },
  {
   "cell_type": "code",
   "execution_count": 95,
   "metadata": {},
   "outputs": [
    {
     "name": "stdout",
     "output_type": "stream",
     "text": [
      "\n",
      "_________________\n",
      "|   | 2 | 3 |   |\n",
      "-----------------\n",
      "| 3 | 4 | 1 |   |\n",
      "-----------------\n",
      "| 2 | 1 | 4 | 3 |\n",
      "-----------------\n",
      "| 4 | 3 | 2 | 1 |\n",
      "-----------------\n",
      "    \n",
      "grille courante :  [0, 2, 3, -3, 3, 4, 1, -7, 2, 1, 4, 3, 4, 3, 2, 1]\n",
      "case modifiees :  []\n",
      "drapeau :  True\n",
      "\n",
      "grille courante :  [1, 2, 3, -3, 3, 4, 1, -7, 2, 1, 4, 3, 4, 3, 2, 1]\n",
      "case modifiees :  [0]\n",
      "drapeau :  True\n",
      "\n",
      "grille courante :  [1, 2, 3, 1, 3, 4, 1, -7, 2, 1, 4, 3, 4, 3, 2, 1]\n",
      "case modifiees :  [0, 3]\n",
      "drapeau :  True\n",
      "\n",
      "grille courante :  [1, 2, 3, 2, 3, 4, 1, -7, 2, 1, 4, 3, 4, 3, 2, 1]\n",
      "case modifiees :  [0, 3]\n",
      "drapeau :  True\n",
      "\n",
      "grille courante :  [1, 2, 3, 3, 3, 4, 1, -7, 2, 1, 4, 3, 4, 3, 2, 1]\n",
      "case modifiees :  [0, 3]\n",
      "drapeau :  True\n",
      "\n",
      "grille courante :  [1, 2, 3, 4, 3, 4, 1, -7, 2, 1, 4, 3, 4, 3, 2, 1]\n",
      "case modifiees :  [0, 3]\n",
      "drapeau :  True\n",
      "\n",
      "grille courante :  [1, 2, 3, 4, 3, 4, 1, 1, 2, 1, 4, 3, 4, 3, 2, 1]\n",
      "case modifiees :  [0, 3, 7]\n",
      "drapeau :  True\n",
      "\n",
      "grille courante :  [1, 2, 3, 4, 3, 4, 1, 2, 2, 1, 4, 3, 4, 3, 2, 1]\n",
      "case modifiees :  [0, 3, 7]\n",
      "drapeau :  True\n",
      "\n",
      "\n",
      "_________________\n",
      "| 1 | 2 | 3 | 4 |\n",
      "-----------------\n",
      "| 3 | 4 | 1 | 2 |\n",
      "-----------------\n",
      "| 2 | 1 | 4 | 3 |\n",
      "-----------------\n",
      "| 4 | 3 | 2 | 1 |\n",
      "-----------------\n",
      "    \n"
     ]
    }
   ],
   "source": [
    "essai1 = complete[:]\n",
    "for indice in (0, 3, 7):\n",
    "    essai1[indice] = -indice\n",
    "print(affichage(essai1))\n",
    "print(affichage(solveur(essai1)))"
   ]
  },
  {
   "cell_type": "code",
   "execution_count": 96,
   "metadata": {},
   "outputs": [
    {
     "name": "stdout",
     "output_type": "stream",
     "text": [
      "\n",
      "_________________\n",
      "|   | 2 | 3 |   |\n",
      "-----------------\n",
      "| 3 | 4 | 1 |   |\n",
      "-----------------\n",
      "| 2 | 1 | 4 | 3 |\n",
      "-----------------\n",
      "|   | 3 | 2 |   |\n",
      "-----------------\n",
      "    \n",
      "grille courante :  [0, 2, 3, -3, 3, 4, 1, -7, 2, 1, 4, 3, -12, 3, 2, -15]\n",
      "case modifiees :  []\n",
      "drapeau :  True\n",
      "\n",
      "grille courante :  [1, 2, 3, -3, 3, 4, 1, -7, 2, 1, 4, 3, -12, 3, 2, -15]\n",
      "case modifiees :  [0]\n",
      "drapeau :  True\n",
      "\n",
      "grille courante :  [1, 2, 3, 1, 3, 4, 1, -7, 2, 1, 4, 3, -12, 3, 2, -15]\n",
      "case modifiees :  [0, 3]\n",
      "drapeau :  True\n",
      "\n",
      "grille courante :  [1, 2, 3, 2, 3, 4, 1, -7, 2, 1, 4, 3, -12, 3, 2, -15]\n",
      "case modifiees :  [0, 3]\n",
      "drapeau :  True\n",
      "\n",
      "grille courante :  [1, 2, 3, 3, 3, 4, 1, -7, 2, 1, 4, 3, -12, 3, 2, -15]\n",
      "case modifiees :  [0, 3]\n",
      "drapeau :  True\n",
      "\n",
      "grille courante :  [1, 2, 3, 4, 3, 4, 1, -7, 2, 1, 4, 3, -12, 3, 2, -15]\n",
      "case modifiees :  [0, 3]\n",
      "drapeau :  True\n",
      "\n",
      "grille courante :  [1, 2, 3, 4, 3, 4, 1, 1, 2, 1, 4, 3, -12, 3, 2, -15]\n",
      "case modifiees :  [0, 3, 7]\n",
      "drapeau :  True\n",
      "\n",
      "grille courante :  [1, 2, 3, 4, 3, 4, 1, 2, 2, 1, 4, 3, -12, 3, 2, -15]\n",
      "case modifiees :  [0, 3, 7]\n",
      "drapeau :  True\n",
      "\n",
      "grille courante :  [1, 2, 3, 4, 3, 4, 1, 2, 2, 1, 4, 3, 1, 3, 2, -15]\n",
      "case modifiees :  [0, 3, 7, 12]\n",
      "drapeau :  True\n",
      "\n",
      "grille courante :  [1, 2, 3, 4, 3, 4, 1, 2, 2, 1, 4, 3, 2, 3, 2, -15]\n",
      "case modifiees :  [0, 3, 7, 12]\n",
      "drapeau :  True\n",
      "\n",
      "grille courante :  [1, 2, 3, 4, 3, 4, 1, 2, 2, 1, 4, 3, 3, 3, 2, -15]\n",
      "case modifiees :  [0, 3, 7, 12]\n",
      "drapeau :  True\n",
      "\n",
      "grille courante :  [1, 2, 3, 4, 3, 4, 1, 2, 2, 1, 4, 3, 4, 3, 2, -15]\n",
      "case modifiees :  [0, 3, 7, 12]\n",
      "drapeau :  True\n",
      "\n",
      "grille courante :  [1, 2, 3, 4, 3, 4, 1, 2, 2, 1, 4, 3, 4, 3, 2, 1]\n",
      "case modifiees :  [0, 3, 7, 12, 15]\n",
      "drapeau :  True\n",
      "\n",
      "\n",
      "_________________\n",
      "| 1 | 2 | 3 | 4 |\n",
      "-----------------\n",
      "| 3 | 4 | 1 | 2 |\n",
      "-----------------\n",
      "| 2 | 1 | 4 | 3 |\n",
      "-----------------\n",
      "| 4 | 3 | 2 | 1 |\n",
      "-----------------\n",
      "    \n"
     ]
    }
   ],
   "source": [
    "essai1 = complete[:]\n",
    "for indice in (0, 3, 7, 12, 15):\n",
    "    essai1[indice] = -indice\n",
    "print(affichage(essai1))\n",
    "print(affichage(solveur(essai1)))"
   ]
  },
  {
   "cell_type": "code",
   "execution_count": null,
   "metadata": {},
   "outputs": [],
   "source": []
  }
 ],
 "metadata": {
  "kernelspec": {
   "display_name": "Python 3",
   "language": "python",
   "name": "python3"
  },
  "language_info": {
   "codemirror_mode": {
    "name": "ipython",
    "version": 3
   },
   "file_extension": ".py",
   "mimetype": "text/x-python",
   "name": "python",
   "nbconvert_exporter": "python",
   "pygments_lexer": "ipython3",
   "version": "3.6.5"
  }
 },
 "nbformat": 4,
 "nbformat_minor": 2
}
