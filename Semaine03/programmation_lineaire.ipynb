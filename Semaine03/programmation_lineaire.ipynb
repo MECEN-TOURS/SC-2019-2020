{
 "cells": [
  {
   "cell_type": "markdown",
   "metadata": {},
   "source": [
    "# Motivation"
   ]
  },
  {
   "cell_type": "markdown",
   "metadata": {},
   "source": [
    "## Description problème 1\n",
    "\n",
    "- Une entreprise possède $n$ types de produits différents.  \n",
    "- Les quantités produites pour chaque produit seront notées $p_1,\\ldots, p_n$. \n",
    "- Le produit $i$ a un tarif de vente à l'unité $t_i$.  \n",
    "- La production d'une unité de type $i$ nécessite $a_{j,i}$ ressource de type $j$ ($1\\leq j \\leq m$).  \n",
    "- Sachant qu'on a un total $R_j$ de la ressource de type $j$ comment maximiser son revenu?  "
   ]
  },
  {
   "cell_type": "markdown",
   "metadata": {},
   "source": [
    "## Modélisation problème 1\n",
    "\n",
    "Le revenu à maximisé est $\\sum_{i=1}^n t_i p_i$.  \n",
    "La contrainte sur la ressource $j$ est\n",
    "$$\\forall j\\in \\{1,\\ldots,m\\},\\qquad\\sum_{i=1}^n a_{j,i} p_i \\leq R_j.$$\n",
    "La production est positive\n",
    "$$\\forall i\\in \\{1,\\ldots,n\\},\\qquad p_i\\geq 0.$$"
   ]
  },
  {
   "cell_type": "markdown",
   "metadata": {},
   "source": [
    "## Conclusion 1\n",
    "\n",
    "On maximise une fonction linéaire sous des contraintes linéaires."
   ]
  },
  {
   "cell_type": "markdown",
   "metadata": {},
   "source": [
    "## Problème 2\n",
    "\n",
    "- Un certain produit est dans $n$ centre de distributions en quantité  $p_1,\\ldots, p_n$.  \n",
    "- On a $m$ clients à qui il faut fournir $c_1,\\ldots,c_m$ quantité du produit.  \n",
    "- On paye un coup unitaire $a_{i,j}$ pour envoyer le produit du centre $i$ au client $j$.  \n",
    "- Comment minimiser le cout total?\n"
   ]
  },
  {
   "cell_type": "markdown",
   "metadata": {},
   "source": [
    "## Modélisation 2\n",
    "\n",
    "- On note $q_{i,j}$ la quantité de produit envoyé du centre $i$ au client $j$. On sait\n",
    "$$\\forall i,j,\\qquad q_{i,j}\\geq 0.$$\n",
    "- On ne peut pas expédier plus depuis le centre $i$ que ce qui y est stocké donc\n",
    "$$\\forall i,\\qquad \\sum_{j=1}^m q_{i,j} \\leq p_i.$$\n",
    "- Chaque client doit recevoir la quantité commandée donc\n",
    "$$\\forall j,\\qquad \\sum_{i=1}^n q_{i,j} = c_j.$$\n",
    "- On minimise le cout total de transport c'est à dire  la quantité\n",
    "$$\\sum_{i=1}^n \\sum_{j=1}^m a_{i,j} q_{i,j}.$$"
   ]
  },
  {
   "cell_type": "markdown",
   "metadata": {},
   "source": [
    "## Conclusion 2\n",
    "\n",
    "On minimise une fonction linéaire sous des contraintes linéaires."
   ]
  },
  {
   "cell_type": "markdown",
   "metadata": {},
   "source": [
    "## Remarque\n",
    "\n",
    "Doit-on considérer les variables réelles ou entières?"
   ]
  },
  {
   "cell_type": "markdown",
   "metadata": {},
   "source": [
    "# Généralités"
   ]
  },
  {
   "cell_type": "markdown",
   "metadata": {},
   "source": [
    "- On cherche donc à résoudre un problème de type\n",
    "$$ \\max C x\\qquad Ax\\geq a,\\quad Bx = b$$\n",
    "Avec $x\\in \\mathbb{R}^n$, $C\\in \\mathcal{M}_{1, n}$, $A\\in \\mathcal{M}_{m, n}$, $B\\in \\mathcal{M}_{p, n}$, $a\\in\\mathbb{R}^m$ et $b\\in \\mathbb{R}^p$"
   ]
  },
  {
   "cell_type": "markdown",
   "metadata": {},
   "source": [
    "- On peut en fait toujours mettre le problème précédent sous la forme dite standard.\n",
    "$$ \\max D y\\text{ pour }  y \\geq 0,\\quad My = m $$\n",
    "avec $y\\in \\mathbb{R}^d$, $D\\in \\mathcal{M}_{1, d}$, $M\\in \\mathcal{M}_{p, d}$, $m\\in \\mathbb{R}^p$"
   ]
  },
  {
   "cell_type": "markdown",
   "metadata": {},
   "source": [
    "- La première idée  est d'utiliser l'équivalence\n",
    "$$Ax\\geq a \\Leftrightarrow \n",
    "\\begin{cases}\n",
    "Ax - z = a\\\\\n",
    "z\\geq 0\n",
    "\\end{cases}\n",
    "$$\n",
    "puis de prendre $y=(x_1,\\ldots,x_n,z_1,\\ldots,z_m)$.\n",
    "- On notera également qu'un nombre quelconque est différence de deux nombres positifs. "
   ]
  },
  {
   "cell_type": "markdown",
   "metadata": {},
   "source": [
    "\n",
    "\n",
    "- On distinguera la question de l'existence de solution au problème (problème sur contraint ou au contraire pas assez et donc les min/max $-\\infty$/$+\\infty$) de leur calcul explicite qui sera l'objectif ici.\n",
    "- Géométriquement imposer **une** inégalité linéaire correspond à découper l'espace en deux selon un hyperplan et n'en gardez qu'un côté."
   ]
  },
  {
   "cell_type": "markdown",
   "metadata": {},
   "source": [
    "# Algèbre linéaire"
   ]
  },
  {
   "cell_type": "markdown",
   "metadata": {},
   "source": [
    "## Exercice\n",
    "\n",
    "- Echelonner mécaniquement\n",
    "$$\n",
    "\\begin{pmatrix}\n",
    "1 & 2 & 3 & 4 \\\\\n",
    "2 & 3 & 4 & 5 \\\\\n",
    "3 & 4 & 5 & 6\n",
    "\\end{pmatrix}\n",
    "$$\n",
    "- Implémenter l'algorithme sur une liste de listes."
   ]
  },
  {
   "cell_type": "markdown",
   "metadata": {},
   "source": [
    "## Solution\n",
    "\n",
    "On fait \n",
    "- l2' = l2 - 2 l1, l3' = l3 - 3 l1\n",
    "- l2' = l2 / (-1)\n",
    "- l3' = l3 -(-2)l2\n",
    "- l1' = l1 - 2 l2\n",
    "\n",
    "Et on obtient\n",
    "$$\n",
    "\\begin{pmatrix}\n",
    "1 & 0 & -1 & -2 \\\\\n",
    "0 & 1 & 2 & 3 \\\\\n",
    "0 & 0 & 0 & 0\n",
    "\\end{pmatrix}\n",
    "$$\n",
    "Au passage comme il n'y a pas de pivot dans la dernière colonne on sait que le système suivant est résolubble\n",
    "$$\n",
    "\\begin{cases}\n",
    "x+2y+3z=4\\\\\n",
    "2x+3y+4z=5\\\\\n",
    "3x+4y+5z=6\n",
    "\\end{cases}\n",
    "$$"
   ]
  },
  {
   "cell_type": "code",
   "execution_count": 1,
   "metadata": {},
   "outputs": [],
   "source": [
    "def echelonnement(matrice):\n",
    "    \"\"\"Algorithme d'échelonnement pour une matrice sous forme de liste de listes\n",
    "    \"\"\"\n",
    "    ..."
   ]
  },
  {
   "cell_type": "code",
   "execution_count": null,
   "metadata": {},
   "outputs": [],
   "source": []
  }
 ],
 "metadata": {
  "kernelspec": {
   "display_name": "Python 3",
   "language": "python",
   "name": "python3"
  },
  "language_info": {
   "codemirror_mode": {
    "name": "ipython",
    "version": 3
   },
   "file_extension": ".py",
   "mimetype": "text/x-python",
   "name": "python",
   "nbconvert_exporter": "python",
   "pygments_lexer": "ipython3",
   "version": "3.7.3"
  }
 },
 "nbformat": 4,
 "nbformat_minor": 4
}
