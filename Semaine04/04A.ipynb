{
 "cells": [
  {
   "cell_type": "markdown",
   "metadata": {},
   "source": [
    "# Exercice\n",
    "\n",
    "- Coder une fonction qui inverse une matrice\n",
    "- La transformer en fonction qui échelonne une matrice\n",
    "- On commencera par réfléchir à haut niveau en déléguant à des fonctions qui restent à implémenter."
   ]
  },
  {
   "cell_type": "code",
   "execution_count": 1,
   "metadata": {},
   "outputs": [],
   "source": [
    "def inversion(matrice_entree):\n",
    "    \"\"\"Retourne l'inverse de la matrice argument.\n",
    "    Les matrices sont ici des listes de listes :\n",
    "    les sous listes sont les lignes.\n",
    "    On utilise l'algorithme du pivot de Gauss.\n",
    "    \"\"\"\n",
    "    matrice = [ligne[:] for ligne in matrice_entree]\n",
    "    n, m  = recupere_dimensions(matrice)\n",
    "    for j in range(m):\n",
    "        indice_pivot = recupere_pivot(matrice, j)\n",
    "        if indice_pivot is None:\n",
    "            raise ValueError(\"La matrice n'est pas inversible\")\n",
    "        elif indice_pivot > j:\n",
    "            echange_ligne(matrice, j, indice_pivot)\n",
    "        else:\n",
    "            pass\n",
    "        normalise_ligne(matrice, j)\n",
    "        for i in range(j+1, n):\n",
    "            coef = -matrice[i][j]\n",
    "            combine_lignes(matrice, i, j, coef)\n",
    "        for i in range(j):\n",
    "            coef = -matrice[i][j]\n",
    "            combine_lignes(matrice, i, j, coef)\n",
    "            \n",
    "    return matrice\n",
    "        \n",
    "        \n",
    "        "
   ]
  },
  {
   "cell_type": "code",
   "execution_count": 2,
   "metadata": {},
   "outputs": [],
   "source": [
    "def recupere_dimensions(matrice):\n",
    "    \"\"\"renvoit nombre de lignes, nombre de colonnes\"\"\"\n",
    "    return len(matrice), len(matrice[0])"
   ]
  },
  {
   "cell_type": "code",
   "execution_count": 3,
   "metadata": {},
   "outputs": [
    {
     "data": {
      "text/plain": [
       "(3, 4)"
      ]
     },
     "execution_count": 3,
     "metadata": {},
     "output_type": "execute_result"
    }
   ],
   "source": [
    "test = [\n",
    "    [1, 2, 3, 4],\n",
    "    [2, 3, 4, 5],\n",
    "    [3, 4, 5, 6]\n",
    "]\n",
    "recupere_dimensions(test)"
   ]
  },
  {
   "cell_type": "code",
   "execution_count": 4,
   "metadata": {},
   "outputs": [],
   "source": [
    "def recupere_pivot(matrice, j):\n",
    "    \"\"\"Renvoit l'indice de la première ligne à partir de j\n",
    "    avec un coefficient non nul. Renvoit None s'il n'y en a pas.\n",
    "    \"\"\"\n",
    "    n, m = recupere_dimensions(matrice)\n",
    "    for i in range(j, n):\n",
    "        if matrice[i][j] != 0:\n",
    "            return i\n",
    "    return None"
   ]
  },
  {
   "cell_type": "code",
   "execution_count": 5,
   "metadata": {},
   "outputs": [
    {
     "data": {
      "text/plain": [
       "2"
      ]
     },
     "execution_count": 5,
     "metadata": {},
     "output_type": "execute_result"
    }
   ],
   "source": [
    "test = [\n",
    "    [1, 2, 3],\n",
    "    [1, 0, 2],\n",
    "    [0, 1, 2]\n",
    "]\n",
    "recupere_pivot(test, 1)"
   ]
  },
  {
   "cell_type": "code",
   "execution_count": 6,
   "metadata": {},
   "outputs": [],
   "source": [
    "def echange_ligne(matrice, i1, i2):\n",
    "    \"\"\"Echange les lignes dans la matrice\"\"\"\n",
    "    matrice[i1], matrice[i2] = matrice[i2], matrice[i1]"
   ]
  },
  {
   "cell_type": "code",
   "execution_count": 7,
   "metadata": {},
   "outputs": [
    {
     "name": "stdout",
     "output_type": "stream",
     "text": [
      "[[1, 2, 3], [1, 0, 2], [0, 1, 2]]\n",
      "[[0, 1, 2], [1, 0, 2], [1, 2, 3]]\n"
     ]
    }
   ],
   "source": [
    "test = [\n",
    "    [1, 2, 3],\n",
    "    [1, 0, 2],\n",
    "    [0, 1, 2]\n",
    "]\n",
    "print(test)\n",
    "echange_ligne(test, 0, 2)\n",
    "print(test)"
   ]
  },
  {
   "cell_type": "code",
   "execution_count": 8,
   "metadata": {},
   "outputs": [],
   "source": [
    "def normalise_ligne(matrice, indice):\n",
    "    \"\"\"Multiplie la ligne correspondant à l'indice de telle façon à \n",
    "    avoir un 1 sur la colonne correspondant à l'indice\n",
    "    \"\"\"\n",
    "    coef = matrice[indice][indice]\n",
    "    matrice[indice] = [element / coef for element in matrice[indice]]\n",
    "    "
   ]
  },
  {
   "cell_type": "code",
   "execution_count": 9,
   "metadata": {},
   "outputs": [
    {
     "name": "stdout",
     "output_type": "stream",
     "text": [
      "[[1, 2, 3], [1, 0, 2], [0, 1, 2]]\n",
      "[[1, 2, 3], [1, 0, 2], [0.0, 0.5, 1.0]]\n"
     ]
    }
   ],
   "source": [
    "test = [\n",
    "    [1, 2, 3],\n",
    "    [1, 0, 2],\n",
    "    [0, 1, 2]\n",
    "]\n",
    "print(test)\n",
    "normalise_ligne(test, 2)\n",
    "print(test)"
   ]
  },
  {
   "cell_type": "code",
   "execution_count": 10,
   "metadata": {},
   "outputs": [],
   "source": [
    "def combine_lignes(matrice, ind1, ind2, coeff):\n",
    "    \"\"\"Effectue ligne ind1 = ligne ind1 + coef * ligne ind2\n",
    "    dans la matrice\n",
    "    \"\"\"\n",
    "    matrice[ind1] = [\n",
    "        e1 + coeff * e2 \n",
    "        for e1, e2 in zip(matrice[ind1], matrice[ind2])\n",
    "    ]"
   ]
  },
  {
   "cell_type": "code",
   "execution_count": 11,
   "metadata": {},
   "outputs": [
    {
     "name": "stdout",
     "output_type": "stream",
     "text": [
      "[[1, 2, 3], [1, 0, 2], [0, 1, 2]]\n",
      "[[1, 2, 3], [2, 2, 5], [0, 1, 2]]\n"
     ]
    }
   ],
   "source": [
    "test = [\n",
    "    [1, 2, 3],\n",
    "    [1, 0, 2],\n",
    "    [0, 1, 2]\n",
    "]\n",
    "print(test)\n",
    "combine_lignes(test, 1, 0, 1)\n",
    "print(test)"
   ]
  },
  {
   "cell_type": "code",
   "execution_count": 12,
   "metadata": {},
   "outputs": [
    {
     "data": {
      "text/plain": [
       "[[1.0, 0.0, 0.0], [-0.0, 1.0, 0.0], [0.0, 0.0, 1.0]]"
      ]
     },
     "execution_count": 12,
     "metadata": {},
     "output_type": "execute_result"
    }
   ],
   "source": [
    "test = [\n",
    "    [1, 2, 3],\n",
    "    [1, 0, 2],\n",
    "    [0, 1, 2]\n",
    "]\n",
    "inversion(test)"
   ]
  },
  {
   "cell_type": "code",
   "execution_count": 13,
   "metadata": {},
   "outputs": [],
   "source": [
    "def echelonnement(matrice_entree):\n",
    "    \"\"\"Retourne la version echelonne de la matrice d'entree.\n",
    "    Les matrices sont ici des listes de listes :\n",
    "    les sous listes sont les lignes.\n",
    "    On utilise l'algorithme du pivot de Gauss.\n",
    "    \"\"\"\n",
    "    matrice = [ligne[:] for ligne in matrice_entree]\n",
    "    n, m  = recupere_dimensions(matrice)\n",
    "    for j in range(m):\n",
    "        indice_pivot = recupere_pivot(matrice, j)\n",
    "        if indice_pivot is None:\n",
    "            continue\n",
    "        elif indice_pivot > j:\n",
    "            echange_ligne(matrice, j, indice_pivot)\n",
    "        else:\n",
    "            pass\n",
    "        normalise_ligne(matrice, j)\n",
    "        for i in range(j+1, n):\n",
    "            coef = -matrice[i][j]\n",
    "            combine_lignes(matrice, i, j, coef)\n",
    "        for i in range(j):\n",
    "            coef = -matrice[i][j]\n",
    "            combine_lignes(matrice, i, j, coef)\n",
    "            \n",
    "    return matrice"
   ]
  },
  {
   "cell_type": "code",
   "execution_count": 14,
   "metadata": {},
   "outputs": [
    {
     "name": "stdout",
     "output_type": "stream",
     "text": [
      "[[1.0, 0.0, -1.0, -2.0], [-0.0, 1.0, 2.0, 3.0], [0.0, 0.0, 0.0, 0.0]]\n"
     ]
    }
   ],
   "source": [
    "E1 = [\n",
    "    [1, 2, 3, 4],\n",
    "    [2, 3, 4, 5],\n",
    "    [3, 4, 5, 6]\n",
    "]\n",
    "print(echelonnement(E1))\n",
    "R1 = [\n",
    "    [1, 0, -1, -2],\n",
    "    [0, 1, 2, 3],\n",
    "    [0, 0, 0, 0]\n",
    "]"
   ]
  },
  {
   "cell_type": "markdown",
   "metadata": {},
   "source": [
    "# Exercice\n",
    "\n",
    "- Ecrire d'autres test\n",
    "- Trouver et corriger le bug restant"
   ]
  },
  {
   "cell_type": "code",
   "execution_count": 15,
   "metadata": {},
   "outputs": [
    {
     "name": "stdout",
     "output_type": "stream",
     "text": [
      "[[1.0, 1.0, 0.0], [0.0, 0.0, 0.0], [-0.0, -0.0, 1.0]]\n"
     ]
    }
   ],
   "source": [
    "test = [\n",
    "    [1, 1, 1],\n",
    "    [1, 1, 1],\n",
    "    [1, 1, 0]\n",
    "]\n",
    "print(echelonnement(test))"
   ]
  },
  {
   "cell_type": "code",
   "execution_count": 16,
   "metadata": {},
   "outputs": [],
   "source": [
    "def recupere_pivot_bis(matrice, j, p):\n",
    "    \"\"\"Renvoit l'indice de la première ligne à partir de p\n",
    "    avec un coefficient non nul sur la j-eme colone.\n",
    "    Renvoit None s'il n'y en a pas.\n",
    "    \"\"\"\n",
    "    n, m = recupere_dimensions(matrice)\n",
    "    for i in range(p, n):\n",
    "        if matrice[i][j] != 0:\n",
    "            return i\n",
    "    return None"
   ]
  },
  {
   "cell_type": "code",
   "execution_count": 17,
   "metadata": {},
   "outputs": [],
   "source": [
    "def normalise_ligne_bis(matrice, j, p):\n",
    "    \"\"\"Normalise la ligne p pour avoir un 1 sur ligne p colonne j\n",
    "    \"\"\"\n",
    "    coef = matrice[p][j]\n",
    "    matrice[p] = [element / coef for element in matrice[p]]"
   ]
  },
  {
   "cell_type": "code",
   "execution_count": 18,
   "metadata": {},
   "outputs": [],
   "source": [
    "def echelonnement_bis(matrice_entree):\n",
    "    \"\"\"Retourne la version echelonne de la matrice d'entree.\n",
    "    Les matrices sont ici des listes de listes :\n",
    "    les sous listes sont les lignes.\n",
    "    On utilise l'algorithme du pivot de Gauss.\n",
    "    \"\"\"\n",
    "    matrice = [ligne[:] for ligne in matrice_entree]\n",
    "    n, m  = recupere_dimensions(matrice)\n",
    "    ligne_pivot = 0\n",
    "    for j in range(m):\n",
    "        indice_pivot = recupere_pivot_bis(matrice, j, ligne_pivot)\n",
    "        if indice_pivot is None:\n",
    "            continue\n",
    "        elif indice_pivot > ligne_pivot:\n",
    "            echange_ligne(matrice, ligne_pivot, indice_pivot)\n",
    "        else:\n",
    "            pass\n",
    "        normalise_ligne_bis(matrice, j, ligne_pivot)\n",
    "        for i in range(ligne_pivot+1, n):\n",
    "            coef = -matrice[i][j]\n",
    "            combine_lignes(matrice, i, ligne_pivot, coef)\n",
    "        for i in range(ligne_pivot):\n",
    "            coef = -matrice[i][j]\n",
    "            combine_lignes(matrice, i, ligne_pivot, coef)\n",
    "        ligne_pivot += 1\n",
    "    return matrice\n",
    "    "
   ]
  },
  {
   "cell_type": "code",
   "execution_count": 19,
   "metadata": {},
   "outputs": [
    {
     "name": "stdout",
     "output_type": "stream",
     "text": [
      "[[1.0, 1.0, 0.0], [-0.0, -0.0, 1.0], [0.0, 0.0, 0.0]]\n"
     ]
    }
   ],
   "source": [
    "test = [\n",
    "    [1, 1, 1],\n",
    "    [1, 1, 1],\n",
    "    [1, 1, 0]\n",
    "]\n",
    "print(echelonnement_bis(test))"
   ]
  },
  {
   "cell_type": "code",
   "execution_count": null,
   "metadata": {},
   "outputs": [],
   "source": []
  }
 ],
 "metadata": {
  "kernelspec": {
   "display_name": "Python 3",
   "language": "python",
   "name": "python3"
  },
  "language_info": {
   "codemirror_mode": {
    "name": "ipython",
    "version": 3
   },
   "file_extension": ".py",
   "mimetype": "text/x-python",
   "name": "python",
   "nbconvert_exporter": "python",
   "pygments_lexer": "ipython3",
   "version": "3.7.3"
  }
 },
 "nbformat": 4,
 "nbformat_minor": 4
}
