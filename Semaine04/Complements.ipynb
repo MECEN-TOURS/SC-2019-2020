{
 "cells": [
  {
   "cell_type": "markdown",
   "metadata": {},
   "source": [
    "# Remarque\n",
    "\n",
    "Autoriser une fonction à modifier ses arguments est généralement considéré comme une conduite à risque.\n",
    "\n",
    "- risque d'introduire facilement des bugs\n",
    "- risque de complexifier le code\n",
    "- risque de complexifier la généralisation du code\n",
    "\n",
    "On a tendance plutôt à laisser aux méthodes la responsabilité de modifier l'objet qui les appelé, on va donc adapter le code d'échelonnement à ce paradigme."
   ]
  },
  {
   "cell_type": "code",
   "execution_count": 6,
   "metadata": {},
   "outputs": [],
   "source": [
    "def recupere_pivot(matrice, j, p):\n",
    "    \"\"\"Renvoit l'indice de la première ligne à partir de p\n",
    "    avec un coefficient non nul sur la j-eme colone.\n",
    "    Renvoit None s'il n'y en a pas.\n",
    "    \"\"\"\n",
    "    for i in range(p, len(matrice)):\n",
    "        if matrice[i][j] != 0:\n",
    "            return i\n",
    "    return None"
   ]
  },
  {
   "cell_type": "code",
   "execution_count": 21,
   "metadata": {},
   "outputs": [],
   "source": [
    "class Matrice:\n",
    "    def __init__(self, lignes):\n",
    "        self.lignes = lignes\n",
    "        self.nb_lignes = len(lignes)\n",
    "        self.nb_colonnes = len(lignes[0])\n",
    "        \n",
    "    def echange_ligne(self, i1, i2):\n",
    "        \"\"\"Méthode permettant d'échanger les lignes d'indices i1 et i2\"\"\"\n",
    "        self.lignes[i1], self.lignes[i2] = self.lignes[i2], self.lignes[i1] \n",
    "        \n",
    "    def normalise_ligne(self, i, j):\n",
    "        \"\"\"Normalise la ligne i par rapport au coefficient de la colonne j\"\"\"\n",
    "        coeff = self.lignes[i][j]\n",
    "        self.lignes[i] = [el / coeff for el in self.lignes[i]]\n",
    "        \n",
    "    def combine_lignes(self, i1, alpha, i2):\n",
    "        \"\"\"Effectue l[i1] = l[i1] + alpha * l[i2]\"\"\"\n",
    "        self.lignes[i1] = [e1 + alpha * e2 for e1, e2 in zip(self.lignes[i1], self.lignes[i2])]\n",
    "    "
   ]
  },
  {
   "cell_type": "code",
   "execution_count": 22,
   "metadata": {},
   "outputs": [],
   "source": [
    "def echelonnement(matrice_entree):\n",
    "    \"\"\"Retourne la version echelonnée de la matrice d'entrée\n",
    "    La matrice est une liste de listes, les sous listes étant les lignes.\n",
    "    On utilise l'algorithme du pivot de Gauss.\n",
    "    \"\"\"\n",
    "    matrice = Matrice([ligne[:] for ligne in matrice_entree])\n",
    "    ligne_pivot = 0\n",
    "    for j in range(matrice.nb_colonnes):\n",
    "        indice_premier_non_nul = recupere_pivot(matrice.lignes, j, ligne_pivot)\n",
    "        if indice_premier_non_nul is None:\n",
    "            continue\n",
    "        elif indice_premier_non_nul > ligne_pivot:\n",
    "            matrice.echange_ligne(ligne_pivot, indice_premier_non_nul)\n",
    "        else:\n",
    "            pass\n",
    "        matrice.normalise_ligne(ligne_pivot, j)\n",
    "        for i in range(matrice.nb_lignes):\n",
    "            if i != ligne_pivot:\n",
    "                coef = -matrice.lignes[i][j]\n",
    "                matrice.combine_lignes(i, coef, ligne_pivot)\n",
    "        ligne_pivot += 1\n",
    "    return matrice.lignes"
   ]
  },
  {
   "cell_type": "code",
   "execution_count": 23,
   "metadata": {},
   "outputs": [
    {
     "name": "stdout",
     "output_type": "stream",
     "text": [
      "[[1, 2, 3, 4], [2, 3, 4, 5], [3, 4, 5, 6]]\n",
      "[[1.0, 0.0, -1.0, -2.0], [-0.0, 1.0, 2.0, 3.0], [0.0, 0.0, 0.0, 0.0]]\n"
     ]
    }
   ],
   "source": [
    "test = [\n",
    "    [1, 2, 3, 4],\n",
    "    [2, 3, 4, 5],\n",
    "    [3, 4, 5, 6]\n",
    "]\n",
    "print(test)\n",
    "print(echelonnement(test))"
   ]
  },
  {
   "cell_type": "code",
   "execution_count": 24,
   "metadata": {},
   "outputs": [
    {
     "name": "stdout",
     "output_type": "stream",
     "text": [
      "[[1, 1, 1], [1, 1, 1], [1, 1, 0]]\n",
      "[[1.0, 1.0, 0.0], [-0.0, -0.0, 1.0], [0.0, 0.0, 0.0]]\n"
     ]
    }
   ],
   "source": [
    "test = [\n",
    "    [1, 1, 1],\n",
    "    [1, 1, 1],\n",
    "    [1, 1, 0]\n",
    "]\n",
    "print(test)\n",
    "print(echelonnement(test))"
   ]
  }
 ],
 "metadata": {
  "kernelspec": {
   "display_name": "Python 3",
   "language": "python",
   "name": "python3"
  },
  "language_info": {
   "codemirror_mode": {
    "name": "ipython",
    "version": 3
   },
   "file_extension": ".py",
   "mimetype": "text/x-python",
   "name": "python",
   "nbconvert_exporter": "python",
   "pygments_lexer": "ipython3",
   "version": "3.7.3"
  }
 },
 "nbformat": 4,
 "nbformat_minor": 4
}
