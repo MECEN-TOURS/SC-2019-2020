{
 "cells": [
  {
   "cell_type": "markdown",
   "metadata": {},
   "source": [
    "# Définitions\n",
    "\n",
    "- On dit qu'un sous ensemble $C$ de $\\mathbb{R}^d$ est convexe lorsque \n",
    "$$\n",
    "\\forall (x,y)\\in C^2,\\quad \\forall \\theta\\in [0,1],\\quad \\theta x + (1-\\theta)y \\in C.\n",
    "$$\n",
    "- On dit qu'un point $x$ d'un convexe $C$ est extrémal lorsque si on a $y,z \\in C^2$ et $\\theta \\in]0,1[$ tels que \n",
    "$$ \\theta y + (1-\\theta)z = x$$\n",
    "alors forcément \n",
    "$$x=y=z.$$"
   ]
  },
  {
   "cell_type": "markdown",
   "metadata": {},
   "source": [
    "# Exercice\n",
    "\n",
    "On se donne une matrice $A=(a_{i,j})_{1\\leq i \\leq d,\\ 1\\leq j \\leq m}$ et un vecteur $b\\in \\mathbb{R}^d$.  On appelle $F_1,\\ldots,F_m$ les colonnes de $A$.\n",
    "1. Montrer que l'ensemble\n",
    "$$\n",
    "S :=\\{ x\\in \\mathbb{R}_+^d\\ :\\ Ax=b\\}\n",
    "$$\n",
    "est convexe\n",
    "2. On montrer que $x\\in S$ est extrémal si et seulement si la famille\n",
    "$$\n",
    "(F_j)_{j\\in J(x)} \\text{ est libre }\n",
    "$$\n",
    "avec \n",
    "$$\n",
    "J(x):=\\{ j \\in \\{1,\\ldots,m\\}\\ :\\ x_j\\neq 0\\}.\n",
    "$$\n",
    "3. Coder une fonction générant toutes les sous listes croissantes de `[0,1,...,m-1]` à $d$ éléments.\n",
    "4. Coder une fonction prenant une matrice $A$ un vecteur $b$ et une liste d'indices de colonnes et renvoyant la solution de $Ax=b$ avec les composantes non nulles dans la liste d'indices.\n",
    "5. En déduire une fonction python prenant des tableaux numpy $A$ et $b$ et renvoyant la liste des sommets. (On pourra faire l'hypothèse que $A$ est de rang $d$)"
   ]
  },
  {
   "cell_type": "markdown",
   "metadata": {},
   "source": [
    "**Indication**  On pourra commencer avec\n",
    "$$\n",
    "A:=\n",
    "\\begin{pmatrix}\n",
    "1 & 2 & 1 & 0 & 0\\\\\n",
    "1 & 1 & 0 & 1 & 0\\\\\n",
    "2 & 1 & 0 & 0 & 1\n",
    "\\end{pmatrix}\n",
    "\\text{ et }\n",
    "b=\n",
    "\\begin{pmatrix}\n",
    "8\\\\5\\\\8\n",
    "\\end{pmatrix}\n",
    "$$"
   ]
  },
  {
   "cell_type": "code",
   "execution_count": 1,
   "metadata": {},
   "outputs": [],
   "source": [
    "import sympy as sp"
   ]
  },
  {
   "cell_type": "code",
   "execution_count": 2,
   "metadata": {},
   "outputs": [],
   "source": [
    "import numpy as np"
   ]
  },
  {
   "cell_type": "code",
   "execution_count": 3,
   "metadata": {},
   "outputs": [],
   "source": [
    "import matplotlib.pyplot as plt"
   ]
  },
  {
   "cell_type": "code",
   "execution_count": 4,
   "metadata": {},
   "outputs": [],
   "source": [
    "%matplotlib inline"
   ]
  },
  {
   "cell_type": "code",
   "execution_count": 5,
   "metadata": {},
   "outputs": [],
   "source": [
    "plt.rcParams[\"figure.figsize\"] = (12, 8)"
   ]
  },
  {
   "cell_type": "code",
   "execution_count": 6,
   "metadata": {},
   "outputs": [],
   "source": [
    "def genere_indices(m, d):\n",
    "    \"\"\"Fonctions renvoyant la liste des suites croissantes de d éléments entre 0 et m-1.\"\"\"\n",
    "    if d == 1:\n",
    "        return [[x] for x in range(m)]\n",
    "    if d == m:\n",
    "        return [list(range(m))]\n",
    "    resultat = genere_indices(m - 1, d)\n",
    "    intermediaires = genere_indices(m - 1, d - 1)\n",
    "    for suite in intermediaires:\n",
    "        suite.append(m-1)\n",
    "    resultat.extend(intermediaires)\n",
    "    return resultat"
   ]
  },
  {
   "cell_type": "code",
   "execution_count": 7,
   "metadata": {},
   "outputs": [
    {
     "data": {
      "text/plain": [
       "[[0], [1], [2], [3], [4]]"
      ]
     },
     "execution_count": 7,
     "metadata": {},
     "output_type": "execute_result"
    }
   ],
   "source": [
    "genere_indices(5, 1)"
   ]
  },
  {
   "cell_type": "code",
   "execution_count": 8,
   "metadata": {},
   "outputs": [
    {
     "data": {
      "text/plain": [
       "[[0, 1, 2, 3, 4]]"
      ]
     },
     "execution_count": 8,
     "metadata": {},
     "output_type": "execute_result"
    }
   ],
   "source": [
    "genere_indices(5, 5)"
   ]
  },
  {
   "cell_type": "code",
   "execution_count": 9,
   "metadata": {},
   "outputs": [
    {
     "data": {
      "text/plain": [
       "[[0, 1, 2, 3], [0, 1, 2, 4], [0, 1, 3, 4], [0, 2, 3, 4], [1, 2, 3, 4]]"
      ]
     },
     "execution_count": 9,
     "metadata": {},
     "output_type": "execute_result"
    }
   ],
   "source": [
    "genere_indices(5, 4)"
   ]
  },
  {
   "cell_type": "code",
   "execution_count": 10,
   "metadata": {},
   "outputs": [
    {
     "data": {
      "text/plain": [
       "[[0, 1, 2],\n",
       " [0, 1, 3],\n",
       " [0, 2, 3],\n",
       " [1, 2, 3],\n",
       " [0, 1, 4],\n",
       " [0, 2, 4],\n",
       " [1, 2, 4],\n",
       " [0, 3, 4],\n",
       " [1, 3, 4],\n",
       " [2, 3, 4]]"
      ]
     },
     "execution_count": 10,
     "metadata": {},
     "output_type": "execute_result"
    }
   ],
   "source": [
    "genere_indices(5, 3)"
   ]
  },
  {
   "cell_type": "markdown",
   "metadata": {},
   "source": [
    "**Indication pour 2.**"
   ]
  },
  {
   "cell_type": "code",
   "execution_count": 11,
   "metadata": {},
   "outputs": [
    {
     "data": {
      "text/plain": [
       "array([[-1, -2,  2,  4],\n",
       "       [ 1,  3, -2, -1],\n",
       "       [ 1,  1,  3,  3]])"
      ]
     },
     "execution_count": 11,
     "metadata": {},
     "output_type": "execute_result"
    }
   ],
   "source": [
    "M = np.random.randint(-5, 5, size=(3, 4))\n",
    "M"
   ]
  },
  {
   "cell_type": "code",
   "execution_count": 12,
   "metadata": {},
   "outputs": [
    {
     "data": {
      "text/plain": [
       "array([[-1, -2,  4],\n",
       "       [ 1,  3, -1],\n",
       "       [ 1,  1,  3]])"
      ]
     },
     "execution_count": 12,
     "metadata": {},
     "output_type": "execute_result"
    }
   ],
   "source": [
    "M[: , [0, 1, 3]]"
   ]
  },
  {
   "cell_type": "code",
   "execution_count": 13,
   "metadata": {},
   "outputs": [],
   "source": [
    "def resolution(A, b, indices):\n",
    "    \"\"\"Renvoit la solution de Ax=b dont les composantes non nulles sont dans indices.\"\"\"\n",
    "    d, m = A.shape\n",
    "    resultat = np.zeros(m)\n",
    "    resultat[indices] = np.linalg.solve(A[:, indices], b)\n",
    "    return resultat"
   ]
  },
  {
   "cell_type": "code",
   "execution_count": 14,
   "metadata": {},
   "outputs": [],
   "source": [
    "A = np.array([[1, 2, 1, 0, 0], [1, 1, 0, 1, 0], [2, 1, 0, 0, 1]])\n",
    "b = np.array([8, 5, 8])"
   ]
  },
  {
   "cell_type": "code",
   "execution_count": 15,
   "metadata": {},
   "outputs": [
    {
     "data": {
      "text/plain": [
       "array([0., 0., 8., 5., 8.])"
      ]
     },
     "execution_count": 15,
     "metadata": {},
     "output_type": "execute_result"
    }
   ],
   "source": [
    "resolution(A, b, [2, 3, 4])"
   ]
  },
  {
   "cell_type": "code",
   "execution_count": 16,
   "metadata": {},
   "outputs": [],
   "source": [
    "def genere_sommets(A, b):\n",
    "    \"\"\"Renvoit la liste des sommets du polygone de contrainte Ax=b avec x à composantes positives.\"\"\"\n",
    "    resultat = list()\n",
    "    d, m = A.shape\n",
    "    for indices in genere_indices(m, d):\n",
    "        try:\n",
    "            sol = resolution(A, b, indices)\n",
    "        except np.linalg.LinAlgError:\n",
    "            continue\n",
    "        if np.all(sol >= 0):\n",
    "            resultat.append(sol)\n",
    "            \n",
    "    return resultat"
   ]
  },
  {
   "cell_type": "code",
   "execution_count": 17,
   "metadata": {},
   "outputs": [
    {
     "data": {
      "text/plain": [
       "[array([3., 2., 1., 0., 0.]),\n",
       " array([4., 0., 4., 1., 0.]),\n",
       " array([2., 3., 0., 0., 1.]),\n",
       " array([0., 4., 0., 1., 4.]),\n",
       " array([0., 0., 8., 5., 8.])]"
      ]
     },
     "execution_count": 17,
     "metadata": {},
     "output_type": "execute_result"
    }
   ],
   "source": [
    "genere_sommets(A, b)"
   ]
  },
  {
   "cell_type": "markdown",
   "metadata": {},
   "source": [
    "## Remarque\n",
    "\n",
    "Comme on a un nombre fini de sommets, on peut résoudre le problème de maximisation de la séance précédente en évaluant la fonctionnelle au sommet puis en sélectionnant la plus grande valeur."
   ]
  },
  {
   "cell_type": "code",
   "execution_count": 18,
   "metadata": {},
   "outputs": [
    {
     "name": "stdout",
     "output_type": "stream",
     "text": [
      "[3. 2. 1. 0. 0.]  :  12.0\n",
      "[4. 0. 4. 1. 0.]  :  8.0\n",
      "[2. 3. 0. 0. 1.]  :  13.0\n",
      "[0. 4. 0. 1. 4.]  :  12.0\n",
      "[0. 0. 8. 5. 8.]  :  0.0\n"
     ]
    }
   ],
   "source": [
    "c = np.array([2, 3, 0, 0, 0])\n",
    "for sommet in genere_sommets(A, b):\n",
    "    print(sommet, \" : \", np.dot(c, sommet))"
   ]
  },
  {
   "cell_type": "markdown",
   "metadata": {},
   "source": [
    "# Exercice\n",
    "Déterminer les sommets de l'ensemble de contrainte\n",
    "$$\n",
    "\\begin{cases}\n",
    "x-y \\geq -1\\\\\n",
    "2x+y \\leq 8\\\\\n",
    "x+y\\leq 5\\\\\n",
    "x\\geq 0\\\\\n",
    "y\\geq 0\n",
    "\\end{cases}\n",
    "$$\n",
    "à la fois géométriquement et avec la fonction précédente"
   ]
  },
  {
   "cell_type": "code",
   "execution_count": 19,
   "metadata": {},
   "outputs": [],
   "source": [
    "x, y = sp.symbols(\"x y\")"
   ]
  },
  {
   "cell_type": "code",
   "execution_count": 20,
   "metadata": {},
   "outputs": [
    {
     "data": {
      "image/png": "[encoded data removed]",
      "text/plain": [
       "<Figure size 864x576 with 1 Axes>"
      ]
     },
     "metadata": {
      "needs_background": "light"
     },
     "output_type": "display_data"
    }
   ],
   "source": [
    "p = sp.plot_implicit(sp.Eq(x - y, -1), show=False)\n",
    "p.extend(sp.plot_implicit(sp.Eq(2*x+y, 8), show=False))\n",
    "p.extend(sp.plot_implicit(sp.Eq(x + y, 5), show=False))\n",
    "p.show()"
   ]
  },
  {
   "cell_type": "code",
   "execution_count": 23,
   "metadata": {},
   "outputs": [
    {
     "data": {
      "image/png": "[encoded data removed]",
      "text/plain": [
       "<Figure size 864x576 with 1 Axes>"
      ]
     },
     "metadata": {
      "needs_background": "light"
     },
     "output_type": "display_data"
    },
    {
     "data": {
      "text/plain": [
       "<sympy.plotting.plot.Plot at 0x7f266ea14978>"
      ]
     },
     "execution_count": 23,
     "metadata": {},
     "output_type": "execute_result"
    }
   ],
   "source": [
    "e1 = x > 0\n",
    "e2 = y > 0\n",
    "e3 = x - y > -1\n",
    "e4 = 2 * x + y < 8\n",
    "e5 = x + y < 6\n",
    "sp.plot_implicit(sp.And(e1, e2, e3, e4, e5))"
   ]
  }
 ],
 "metadata": {
  "kernelspec": {
   "display_name": "Python 3",
   "language": "python",
   "name": "python3"
  },
  "language_info": {
   "codemirror_mode": {
    "name": "ipython",
    "version": 3
   },
   "file_extension": ".py",
   "mimetype": "text/x-python",
   "name": "python",
   "nbconvert_exporter": "python",
   "pygments_lexer": "ipython3",
   "version": "3.7.3"
  }
 },
 "nbformat": 4,
 "nbformat_minor": 4
}
