{
 "cells": [
  {
   "cell_type": "markdown",
   "metadata": {},
   "source": [
    "# Exercice 1 : les crabes"
   ]
  },
  {
   "cell_type": "markdown",
   "metadata": {},
   "source": [
    "## Modélisation en terme de programmation linéaire\n",
    "\n",
    "- On note $d$, $n$ et $r$ les quantités pechées respectives de crabes dungeness, des neiges ou royaux.\n",
    "- On sait que les quantités sont positives\n",
    "$$d,n,r\\geq 0.$$\n",
    "- On sait déjà que la quantité totale est inférieure à $1000$\n",
    "$$d + n + r \\leq 1000.$$\n",
    "- Le conditionnonement après tri doit être inférieur à $900$ donc\n",
    "$$0.9 \\times d + 0.95\\times n + 0.8\\times r \\leq 900.$$\n",
    "- Le respect de l'équilibre des espèces assure\n",
    "$$\n",
    "\\begin{cases}\n",
    "d + n \\leq r + 100\\\\\n",
    "r \\leq d + n + 100.\n",
    "\\end{cases}\n",
    "$$\n",
    "- Finalement on cherche à maximiser la quantité\n",
    "$$R = 7.78 \\times 0.9 \\times d + 8.42 \\times 0.95 \\times n + 12.5 \\times 0.8 \\times r.$$ "
   ]
  },
  {
   "cell_type": "markdown",
   "metadata": {},
   "source": [
    "## Solution du programme linéaire    "
   ]
  },
  {
   "cell_type": "markdown",
   "metadata": {},
   "source": [
    "### Mise sous forme normale\n",
    "\n",
    "On peut adjoindre des nouvelles variables $c_1$, $c_2$, $c_3$ et $c_4$ pour mettre les contraintes sous la forme\n",
    "$$\n",
    "\\begin{cases}\n",
    "d,n,r,c_1,c_2,c_3\\geq 0\\\\\n",
    "d + n + r + c_1 = 1000\\\\\n",
    "0.9 \\times d + 0.95\\times n + 0.8\\times r  + c_2 = 900\\\\\n",
    "d+n - r + c_3 = 100\\\\\n",
    "-d -n + r + c_4 = 100\n",
    "\\end{cases}\n",
    "$$"
   ]
  },
  {
   "cell_type": "markdown",
   "metadata": {},
   "source": [
    "### Notation\n",
    "\n",
    "On peut réécrire les 3 égalités ci-dessus sous forme matricielle  \n",
    "$$\n",
    "\\begin{pmatrix}\n",
    "1 & 1 & 1 & 1 & 0 & 0 & 0\\\\ \n",
    "0.9 & 0.95 & 0.8 & 0 & 1 & 0 & 0\\\\ \n",
    "1 & 1 & -1 & 0 & 0 & 1 & 0\\\\ \n",
    "-1 & -1 & 1 & 0 & 0 & 0 & 1\n",
    "\\end{pmatrix}\n",
    "\\begin{pmatrix}\n",
    "d \\\\ n \\\\ r \\\\ c_1 \\\\ c_2\\\\ c_3 \\\\ c_4\n",
    "\\end{pmatrix}\n",
    "=\n",
    "\\begin{pmatrix}\n",
    "1000 \\\\ 900 \\\\ 100 \\\\ 100\n",
    "\\end{pmatrix}\n",
    "$$\n",
    "et en introduisant les colonnes $f_1,\\ldots,f_7$ de la matrice et $b$ le seconde membre, on a aussi la formulation vectorielle\n",
    "$$\n",
    "d \\times f_1 + n \\times f_2 + r \\times f_3 + c_1 \\times f_4 + c_2 \\times f_5 + c_3 \\times f_6 + c_4 \\times f_7 = b\n",
    "$$"
   ]
  },
  {
   "cell_type": "markdown",
   "metadata": {},
   "source": [
    "### Résolution\n",
    "\n",
    "- **Premier Sommet**  \n",
    "La solution dont on part va être $(0, 0, 0, 1000, 900, 100, 100)$ correspondant à l'égalité vectorielle\n",
    "$$\n",
    "1000 f_4 + 900 f_5 + 100 f_6 + 100 f_7 = b\n",
    "$$\n",
    "qui est bien un sommet du polyèdre de contrainte car $f_4$, $f_5$, $f_6$ et $f_7$ forment une base de $\\mathbb{R}^4$.  \n",
    "La valeur de la fonction à maximiser en ce point est\n",
    "$$\n",
    "R = 0.$$\n",
    "On peut trouver les expressions de $f_1$, $f_2$ et $f_3$ dans la base du sommet en cours\n",
    "$$\n",
    "f_1 = f_4 + 0.9 \\times f_5 + f_6 - f_7\n",
    "$$\n",
    "$$\n",
    "f_2 = f_4 + 0.95 \\times f_5 + f_6 - f_7\n",
    "$$\n",
    "$$\n",
    "f_3 = f_4 + 0.8 \\times f_5 - f_6 + f_7\n",
    "$$\n",
    "En introduisant $f_1$ dans l'égalité de l'étape 1 on aboutit à la nouvelle égalité vectorielle\n",
    "$$\n",
    "100 f_1 + 900 f_4 + 810 f_5 + 200f_7 = b \\qquad\\text{ où } R = 700.2\n",
    "$$\n",
    "En introduisant $f_2$ on a\n",
    "$$\n",
    "100 f_2 + 900 f_4 + 805 f_5 + 200f_7 = b \\qquad\\text{ où } R = 799.9\n",
    "$$\n",
    "En introduisant $f_3$ on a\n",
    "$$\n",
    "100 f_3 + 900 f_4 + 820 f_5 + 200f_6 = b \\qquad\\text{ où } R = 1000\n",
    "$$"
   ]
  },
  {
   "cell_type": "code",
   "execution_count": 4,
   "metadata": {},
   "outputs": [
    {
     "name": "stdout",
     "output_type": "stream",
     "text": [
      "700.2\n",
      "799.9\n",
      "1000.0\n"
     ]
    }
   ],
   "source": [
    "print(7.78 * 0.9 * 100)\n",
    "print(8.42 * 0.95 * 100)\n",
    "print(12.5 * 0.8 * 100)"
   ]
  },
  {
   "cell_type": "markdown",
   "metadata": {},
   "source": [
    "- **Deuxième Sommet**  \n",
    "On part de \n",
    "$$\n",
    "100 f_3 + 900 f_4 + 820 f_5 + 200f_6 = b \\qquad\\text{ où } R = 1000\n",
    "$$\n",
    "On cherche les expressions de $f_1$, $f_2$ et $f_7$ dans la base formée des vecteurs $f_3$, $f_4$, $f_5$ et $f_6$.\n",
    "1. En introduisant $f_1$ on a \n",
    "$$f_1 = -f_3 + 2 f_4 + 1.7 f_5$$\n",
    "ce qui fournit le nouveau sommet\n",
    "$$\n",
    "450 f_1 + 550 f_3 + 55 f_5 + 200 f_6 = b,\\qquad \\text{ où } R=8351.1\n",
    "$$\n",
    "2. En introduisant $f_2$ on a \n",
    "$$f_2 = -f_3 + 2 f_4 + 1.1875 f_5$$\n",
    "ce qui fournit le nouveau sommet\n",
    "$$\n",
    "450 f_2 + 550 f_3 + 285.625 f_5 + 200 f_6 = b,\\qquad \\text{ où } R=8899.45\n",
    "$$\n",
    "3. En introduisant $f_7$\n",
    "$$\n",
    "f_3 - f_4 - 0.8 \\times f_5 + f_6 = f_7\n",
    "$$\n",
    "on a le sommet\n",
    "$$\n",
    "1000 f_4 + 900 f_5 + 100 f_6 + 100 f_7 = b,\\qquad \\text{ où } R=0\n",
    "$$"
   ]
  },
  {
   "cell_type": "code",
   "execution_count": 10,
   "metadata": {},
   "outputs": [
    {
     "name": "stdout",
     "output_type": "stream",
     "text": [
      "482.3529411764706\n",
      "765.0\n",
      "8351.1\n",
      "1.1875\n",
      "285.625\n",
      "8899.45\n"
     ]
    }
   ],
   "source": [
    "print(820 / 1.7)\n",
    "print(1.7 * 450)\n",
    "print(7.78 * 0.9 * 550 + 12.5 * 0.8 * 450)\n",
    "print(95/80)\n",
    "print(820 - 1.1875 * 450)\n",
    "print(8.42 * 0.95 * 550 + 12.5 * 0.8 * 450)"
   ]
  },
  {
   "cell_type": "markdown",
   "metadata": {},
   "source": [
    "- **Troisième Sommet**  \n",
    "On part de \n",
    "$$\n",
    "450 f_2 + 550 f_3 + 285.625 f_5 + 200 f_6 = b,\\qquad \\text{ où } R=8899.45\n",
    "$$\n",
    "On va chercher à introduire $f_1$, $f_4$ ou $f_7$. (en fait on vient de $f_4$ donc celui là n'est pas forcément utile)\n",
    "- En inroduisant $f_1$ on a\n",
    "$$\n",
    "f_1 = f_2 - 0.05 f_5.\n",
    "$$"
   ]
  }
 ],
 "metadata": {
  "kernelspec": {
   "display_name": "Python 3",
   "language": "python",
   "name": "python3"
  },
  "language_info": {
   "codemirror_mode": {
    "name": "ipython",
    "version": 3
   },
   "file_extension": ".py",
   "mimetype": "text/x-python",
   "name": "python",
   "nbconvert_exporter": "python",
   "pygments_lexer": "ipython3",
   "version": "3.7.3"
  }
 },
 "nbformat": 4,
 "nbformat_minor": 4
}
