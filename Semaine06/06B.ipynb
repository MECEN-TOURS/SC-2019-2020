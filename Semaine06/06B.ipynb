{
 "cells": [
  {
   "cell_type": "code",
   "execution_count": 3,
   "metadata": {},
   "outputs": [],
   "source": [
    "import numpy as np"
   ]
  },
  {
   "cell_type": "markdown",
   "metadata": {},
   "source": [
    "# Exercice 1 : les crabes"
   ]
  },
  {
   "cell_type": "markdown",
   "metadata": {},
   "source": [
    "## Modélisation en terme de programmation linéaire\n",
    "\n",
    "- On note $d$, $n$ et $r$ les quantités pechées respectives de crabes dungeness, des neiges ou royaux.\n",
    "- On sait que les quantités sont positives\n",
    "$$d,n,r\\geq 0.$$\n",
    "- On sait déjà que la quantité totale est inférieure à $1000$\n",
    "$$d + n + r \\leq 1000.$$\n",
    "- Le conditionnonement après tri doit être inférieur à $900$ donc\n",
    "$$0.9 \\times d + 0.95\\times n + 0.8\\times r \\leq 900.$$\n",
    "- Le respect de l'équilibre des espèces assure\n",
    "$$\n",
    "\\begin{cases}\n",
    "d + n \\leq r + 100\\\\\n",
    "r \\leq d + n + 100.\n",
    "\\end{cases}\n",
    "$$\n",
    "- Finalement on cherche à maximiser la quantité\n",
    "$$R = 7.78 \\times 0.9 \\times d + 8.42 \\times 0.95 \\times n + 12.5 \\times 0.8 \\times r.$$ "
   ]
  },
  {
   "cell_type": "markdown",
   "metadata": {},
   "source": [
    "## Solution du programme linéaire    "
   ]
  },
  {
   "cell_type": "markdown",
   "metadata": {},
   "source": [
    "### Mise sous forme normale\n",
    "\n",
    "On peut adjoindre des nouvelles variables $c_1$, $c_2$, $c_3$ et $c_4$ pour mettre les contraintes sous la forme\n",
    "$$\n",
    "\\begin{cases}\n",
    "d,n,r,c_1,c_2,c_3\\geq 0\\\\\n",
    "d + n + r + c_1 = 1000\\\\\n",
    "0.9 \\times d + 0.95\\times n + 0.8\\times r  + c_2 = 900\\\\\n",
    "d+n - r + c_3 = 100\\\\\n",
    "-d -n + r + c_4 = 100\n",
    "\\end{cases}\n",
    "$$"
   ]
  },
  {
   "cell_type": "markdown",
   "metadata": {},
   "source": [
    "### Notation\n",
    "\n",
    "On peut réécrire les 3 égalités ci-dessus sous forme matricielle\n",
    "$$\n",
    "\\begin{pmatrix}\n",
    "1 & 1 & 1 & 1 & 0 & 0 & 0\\\\\n",
    "0.9 & 0.95 & 0.8 & 0 & 1 & 0 & 0\\\\\n",
    "1 & 1 & -1 & 0 & 0 & 1 & 0\\\\\n",
    "-1 & -1 & 1 & 0 & 0 & 0 & 1\n",
    "\\end{pmatrix}\n",
    "\\begin{pmatrix}\n",
    "d \\\\n \\\\r \\\\c_1 \\\\c_2\\\\ c_3\\\\ c_4\n",
    "\\end{pmatrix}\n",
    "=\n",
    "\\begin{pmatrix}\n",
    "1000 \\\\900 \\\\ 100\\\\ 100\n",
    "\\end{pmatrix}\n",
    "$$\n",
    "et en introduisant les colonnes $f_1,\\ldots,f_7$ de la matrice et $b$ le seconde membre, on a aussi la formulation vectorielle\n",
    "$$\n",
    "d \\times f_1 + n \\times f_2 + r \\times f_3 + c_1 \\times f_4 + c_2 \\times f_5 + c_3 \\times f_6 + c_4 \\times f_7 = b\n",
    "$$"
   ]
  },
  {
   "cell_type": "code",
   "execution_count": 4,
   "metadata": {},
   "outputs": [
    {
     "data": {
      "text/plain": [
       "array([[ 1.  ,  1.  ,  1.  ,  1.  ,  0.  ,  0.  ,  0.  ],\n",
       "       [ 0.9 ,  0.95,  0.8 ,  0.  ,  1.  ,  0.  ,  0.  ],\n",
       "       [ 1.  ,  1.  , -1.  ,  0.  ,  0.  ,  1.  ,  0.  ],\n",
       "       [-1.  , -1.  ,  1.  ,  0.  ,  0.  ,  0.  ,  1.  ]])"
      ]
     },
     "execution_count": 4,
     "metadata": {},
     "output_type": "execute_result"
    }
   ],
   "source": [
    "A = np.array([\n",
    "    [1, 1, 1, 1, 0, 0, 0],\n",
    "    [0.9, 0.95, 0.8, 0, 1, 0, 0],\n",
    "    [1, 1, -1, 0, 0, 1, 0],\n",
    "    [-1, -1, 1, 0, 0, 0, 1]\n",
    "])\n",
    "A"
   ]
  },
  {
   "cell_type": "code",
   "execution_count": 5,
   "metadata": {},
   "outputs": [
    {
     "data": {
      "text/plain": [
       "array([1000,  900,  100,  100])"
      ]
     },
     "execution_count": 5,
     "metadata": {},
     "output_type": "execute_result"
    }
   ],
   "source": [
    "b = np.array([1000, 900, 100, 100])\n",
    "b"
   ]
  },
  {
   "cell_type": "markdown",
   "metadata": {},
   "source": [
    "### Résolution\n",
    "\n",
    "- **Premier Sommet**  \n",
    "La solution dont on part va être $(0, 0, 0, 1000, 900, 100, 100)$ correspondant à l'égalité vectorielle\n",
    "$$\n",
    "1000 f_4 + 900 f_5 + 100 f_6 + 100 f_7 = b\n",
    "$$\n",
    "qui est bien un sommet du polyèdre de contrainte car $f_4$, $f_5$, $f_6$ et $f_7$ forment une base de $\\mathbb{R}^4$.  \n",
    "La valeur de la fonction à maximiser en ce point est\n",
    "$$R = 0.$$\n",
    "On peut trouver les expressions de $f_1$, $f_2$ et $f_3$ dans la base du sommet en cours\n",
    "$$\n",
    "f_1 = f_4 + 0.9 \\times f_5 + f_6 - f_7\n",
    "$$\n",
    "$$\n",
    "f_2 = f_4 + 0.95 \\times f_5 + f_6 - f_7\n",
    "$$\n",
    "$$\n",
    "f_3 = f_4 + 0.8 \\times f_5 - f_6 + f_7\n",
    "$$\n",
    "En introduisant $f_1$ dans l'égalité de l'étape 1 on aboutit à la nouvelle égalité vectorielle\n",
    "$$\n",
    "100 f_1 + 900 f_4 + 810 f_5 + 200f_7 = b \\qquad\\text{ où } R = 700.2\n",
    "$$\n",
    "En introduisant $f_2$ on a\n",
    "$$\n",
    "100 f_2 + 900 f_4 + 805 f_5 + 200f_7 = b \\qquad\\text{ où } R = 799.9\n",
    "$$\n",
    "En introduisant $f_3$ on a\n",
    "$$\n",
    "100 f_3 + 900 f_4 + 820 f_5 + 200f_6 = b \\qquad\\text{ où } R = 1000\n",
    "$$"
   ]
  },
  {
   "cell_type": "code",
   "execution_count": 13,
   "metadata": {},
   "outputs": [
    {
     "data": {
      "text/plain": [
       "array([ 1. ,  0.9,  1. , -1. ])"
      ]
     },
     "execution_count": 13,
     "metadata": {},
     "output_type": "execute_result"
    }
   ],
   "source": [
    "np.linalg.solve(A[:, [3, 4, 5, 6]], A[:, 0])"
   ]
  },
  {
   "cell_type": "code",
   "execution_count": 14,
   "metadata": {},
   "outputs": [
    {
     "data": {
      "text/plain": [
       "array([ 1.  ,  0.95,  1.  , -1.  ])"
      ]
     },
     "execution_count": 14,
     "metadata": {},
     "output_type": "execute_result"
    }
   ],
   "source": [
    "np.linalg.solve(A[:, [3, 4, 5, 6]], A[:, 1])"
   ]
  },
  {
   "cell_type": "code",
   "execution_count": 15,
   "metadata": {},
   "outputs": [
    {
     "data": {
      "text/plain": [
       "array([ 1. ,  0.8, -1. ,  1. ])"
      ]
     },
     "execution_count": 15,
     "metadata": {},
     "output_type": "execute_result"
    }
   ],
   "source": [
    "np.linalg.solve(A[:, [3, 4, 5, 6]], A[:, 2])"
   ]
  },
  {
   "cell_type": "code",
   "execution_count": 1,
   "metadata": {},
   "outputs": [
    {
     "name": "stdout",
     "output_type": "stream",
     "text": [
      "700.2\n",
      "799.9\n",
      "1000.0\n"
     ]
    }
   ],
   "source": [
    "print(7.78 * 0.9 * 100)\n",
    "print(8.42 * 0.95 * 100)\n",
    "print(12.5 * 0.8 * 100)"
   ]
  },
  {
   "cell_type": "markdown",
   "metadata": {},
   "source": [
    "- **Deuxième Sommet**  \n",
    "On part de \n",
    "$$\n",
    "100 f_3 + 900 f_4 + 820 f_5 + 200f_6 = b \\qquad\\text{ où } R = 1000\n",
    "$$\n",
    "On cherche les expressions de $f_1$, $f_2$ et $f_7$ dans la base formée des vecteurs $f_3$, $f_4$, $f_5$ et $f_6$.\n",
    "1. En introduisant $f_1$ on a \n",
    "$$f_1 = -f_3 + 2 f_4 + 1.7 f_5$$\n",
    "ce qui fournit le nouveau sommet\n",
    "$$\n",
    "450 f_1 + 550 f_3 + 55 f_5 + 200 f_6 = b,\\qquad \\text{ où } R=8650\n",
    "$$\n",
    "2. En introduisant $f_2$ on a \n",
    "$$f_2 = -f_3 + 2 f_4 + 1.75 f_5$$\n",
    "ce qui fournit le nouveau sommet\n",
    "$$\n",
    "450 f_2 + 550 f_3 + 32.5 f_5 + 200 f_6 = b,\\qquad \\text{ où } R=9099.55\n",
    "$$\n",
    "3. En introduisant $f_7$\n",
    "$$\n",
    "f_3 - f_4 - 0.8 \\times f_5 + f_6 = f_7\n",
    "$$\n",
    "on a le sommet\n",
    "$$\n",
    "1000 f_4 + 900 f_5 + 100 f_6 + 100 f_7 = b,\\qquad \\text{ où } R=0\n",
    "$$"
   ]
  },
  {
   "cell_type": "code",
   "execution_count": 16,
   "metadata": {},
   "outputs": [
    {
     "data": {
      "text/plain": [
       "array([-1. ,  2. ,  1.7,  0. ])"
      ]
     },
     "execution_count": 16,
     "metadata": {},
     "output_type": "execute_result"
    }
   ],
   "source": [
    "np.linalg.solve(A[:, [2, 3, 4, 5]], A[:, 0])"
   ]
  },
  {
   "cell_type": "code",
   "execution_count": 17,
   "metadata": {},
   "outputs": [
    {
     "data": {
      "text/plain": [
       "array([-1.  ,  2.  ,  1.75,  0.  ])"
      ]
     },
     "execution_count": 17,
     "metadata": {},
     "output_type": "execute_result"
    }
   ],
   "source": [
    "np.linalg.solve(A[:, [2, 3, 4, 5]], A[:, 1])"
   ]
  },
  {
   "cell_type": "code",
   "execution_count": 18,
   "metadata": {},
   "outputs": [
    {
     "data": {
      "text/plain": [
       "array([ 1. , -1. , -0.8,  1. ])"
      ]
     },
     "execution_count": 18,
     "metadata": {},
     "output_type": "execute_result"
    }
   ],
   "source": [
    "np.linalg.solve(A[:, [2, 3, 4, 5]], A[:, 6])"
   ]
  },
  {
   "cell_type": "code",
   "execution_count": 25,
   "metadata": {},
   "outputs": [
    {
     "name": "stdout",
     "output_type": "stream",
     "text": [
      "482.3529411764706\n",
      "765.0\n",
      "8650.9\n",
      "1.1875\n",
      "32.5\n",
      "9099.55\n"
     ]
    }
   ],
   "source": [
    "print(820 / 1.7)\n",
    "print(1.7 * 450)\n",
    "print(7.78 * 0.9 * 450 + 12.5 * 0.8 * 550)\n",
    "print(95/80)\n",
    "print(820 - 1.75 * 450)\n",
    "print(8.42 * 0.95 * 450 + 12.5 * 0.8 * 550)"
   ]
  },
  {
   "cell_type": "markdown",
   "metadata": {},
   "source": [
    "- **Troisième Sommet**  \n",
    "On part de \n",
    "$$\n",
    "450 f_2 + 550 f_3 + 32.5 f_5 + 200 f_6 = b,\\qquad \\text{ où } R=9099.55\n",
    "$$\n",
    "On va chercher à introduire $f_1$, $f_4$ ou $f_7$. (en fait on vient de $f_4$ donc celui là n'est pas forcément utile)"
   ]
  },
  {
   "cell_type": "code",
   "execution_count": 7,
   "metadata": {},
   "outputs": [
    {
     "data": {
      "text/plain": [
       "array([ 1.  , -0.  , -0.05,  0.  ])"
      ]
     },
     "execution_count": 7,
     "metadata": {},
     "output_type": "execute_result"
    }
   ],
   "source": [
    "np.linalg.solve(A[:, [1, 2, 4, 5]], A[:, 0])"
   ]
  },
  {
   "cell_type": "code",
   "execution_count": 8,
   "metadata": {},
   "outputs": [
    {
     "data": {
      "text/plain": [
       "array([ 0.5  ,  0.5  , -0.875,  0.   ])"
      ]
     },
     "execution_count": 8,
     "metadata": {},
     "output_type": "execute_result"
    }
   ],
   "source": [
    "np.linalg.solve(A[:, [1, 2, 4, 5]], A[:, 3])"
   ]
  },
  {
   "cell_type": "code",
   "execution_count": 9,
   "metadata": {},
   "outputs": [
    {
     "data": {
      "text/plain": [
       "array([-0.5  ,  0.5  ,  0.075,  1.   ])"
      ]
     },
     "execution_count": 9,
     "metadata": {},
     "output_type": "execute_result"
    }
   ],
   "source": [
    "np.linalg.solve(A[:, [1, 2, 4, 5]], A[:, 6])"
   ]
  },
  {
   "cell_type": "markdown",
   "metadata": {},
   "source": [
    "- En introduisant $f_1$ on a\n",
    "$$\n",
    "f_1 = f_2 - 0.05 f_5.\n",
    "$$\n",
    "on récupère le nouveau sommet\n",
    "$$\n",
    "450 f_1 + 550 f_3+ 55 f_5 + 200 f_6 = b,\\quad \\text{ et } R=8650\n",
    "$$\n",
    "- En inroduisant $f_4$ on a\n",
    "$$\n",
    "f_4 = 0.5 f_2 + 0.5 f_3 - 0.875 f_5.\n",
    "$$\n",
    "on a le nouveau sommet\n",
    "$$\n",
    "100 f_3 + 900 f_4 + 820 f_5 + 200f_6 = b \\qquad\\text{ où } R = 1000\n",
    "$$\n",
    "- En introduisant $f_7$ on a\n",
    "$$\n",
    "f_7 = -0.5 f_2 + 0.5 f_3 - 0.75 f_5 + f_6.\n",
    "$$\n",
    "on a le nouveau sommet\n",
    "$$\n",
    "550 f_2 + 450 f_3 + 182.5 f_5 + 200 f_7 = b \\qquad\\text{ où } R = 8899.45\n",
    "$$"
   ]
  },
  {
   "cell_type": "markdown",
   "metadata": {},
   "source": [
    "**Conclusion** on est arrivé au maximum"
   ]
  },
  {
   "cell_type": "code",
   "execution_count": 20,
   "metadata": {},
   "outputs": [
    {
     "name": "stdout",
     "output_type": "stream",
     "text": [
      "55.0\n"
     ]
    }
   ],
   "source": [
    "print(32.5 + 0.05 * 450)"
   ]
  },
  {
   "cell_type": "code",
   "execution_count": 22,
   "metadata": {},
   "outputs": [
    {
     "name": "stdout",
     "output_type": "stream",
     "text": [
      "550.0\n",
      "450.0\n",
      "182.5\n"
     ]
    }
   ],
   "source": [
    "print(450 + 0.5 * 200)\n",
    "print(550 - 0.5 * 200)\n",
    "print(32.5 + 0.75 * 200)"
   ]
  },
  {
   "cell_type": "code",
   "execution_count": 23,
   "metadata": {},
   "outputs": [
    {
     "name": "stdout",
     "output_type": "stream",
     "text": [
      "8899.45\n"
     ]
    }
   ],
   "source": [
    "print(8.42 * 0.95 * 550 + 12.5 * 0.8 * 450)"
   ]
  },
  {
   "cell_type": "markdown",
   "metadata": {},
   "source": [
    "## Vérification alternative"
   ]
  },
  {
   "cell_type": "code",
   "execution_count": 26,
   "metadata": {},
   "outputs": [],
   "source": [
    "from scipy.optimize import linprog"
   ]
  },
  {
   "cell_type": "code",
   "execution_count": 27,
   "metadata": {},
   "outputs": [
    {
     "data": {
      "text/plain": [
       "\u001b[1;31mSignature:\u001b[0m \u001b[0mlinprog\u001b[0m\u001b[1;33m(\u001b[0m\u001b[0mc\u001b[0m\u001b[1;33m,\u001b[0m \u001b[0mA_ub\u001b[0m\u001b[1;33m=\u001b[0m\u001b[1;32mNone\u001b[0m\u001b[1;33m,\u001b[0m \u001b[0mb_ub\u001b[0m\u001b[1;33m=\u001b[0m\u001b[1;32mNone\u001b[0m\u001b[1;33m,\u001b[0m \u001b[0mA_eq\u001b[0m\u001b[1;33m=\u001b[0m\u001b[1;32mNone\u001b[0m\u001b[1;33m,\u001b[0m \u001b[0mb_eq\u001b[0m\u001b[1;33m=\u001b[0m\u001b[1;32mNone\u001b[0m\u001b[1;33m,\u001b[0m \u001b[0mbounds\u001b[0m\u001b[1;33m=\u001b[0m\u001b[1;32mNone\u001b[0m\u001b[1;33m,\u001b[0m \u001b[0mmethod\u001b[0m\u001b[1;33m=\u001b[0m\u001b[1;34m'simplex'\u001b[0m\u001b[1;33m,\u001b[0m \u001b[0mcallback\u001b[0m\u001b[1;33m=\u001b[0m\u001b[1;32mNone\u001b[0m\u001b[1;33m,\u001b[0m \u001b[0moptions\u001b[0m\u001b[1;33m=\u001b[0m\u001b[1;32mNone\u001b[0m\u001b[1;33m)\u001b[0m\u001b[1;33m\u001b[0m\u001b[0m\n",
       "\u001b[1;31mDocstring:\u001b[0m\n",
       "Minimize a linear objective function subject to linear\n",
       "equality and inequality constraints.\n",
       "\n",
       "Linear Programming is intended to solve the following problem form::\n",
       "\n",
       "    Minimize:     c^T * x\n",
       "\n",
       "    Subject to:   A_ub * x <= b_ub\n",
       "                  A_eq * x == b_eq\n",
       "\n",
       "Parameters\n",
       "----------\n",
       "c : array_like\n",
       "    Coefficients of the linear objective function to be minimized.\n",
       "A_ub : array_like, optional\n",
       "    2-D array which, when matrix-multiplied by ``x``, gives the values of\n",
       "    the upper-bound inequality constraints at ``x``.\n",
       "b_ub : array_like, optional\n",
       "    1-D array of values representing the upper-bound of each inequality\n",
       "    constraint (row) in ``A_ub``.\n",
       "A_eq : array_like, optional\n",
       "    2-D array which, when matrix-multiplied by ``x``, gives the values of\n",
       "    the equality constraints at ``x``.\n",
       "b_eq : array_like, optional\n",
       "    1-D array of values representing the RHS of each equality constraint\n",
       "    (row) in ``A_eq``.\n",
       "bounds : sequence, optional\n",
       "    ``(min, max)`` pairs for each element in ``x``, defining\n",
       "    the bounds on that parameter. Use None for one of ``min`` or\n",
       "    ``max`` when there is no bound in that direction. By default\n",
       "    bounds are ``(0, None)`` (non-negative)\n",
       "    If a sequence containing a single tuple is provided, then ``min`` and\n",
       "    ``max`` will be applied to all variables in the problem.\n",
       "method : str, optional\n",
       "    Type of solver.  :ref:`'simplex' <optimize.linprog-simplex>`\n",
       "    and :ref:`'interior-point' <optimize.linprog-interior-point>`\n",
       "    are supported.\n",
       "callback : callable, optional (simplex only)\n",
       "    If a callback function is provide, it will be called within each\n",
       "    iteration of the simplex algorithm. The callback must have the\n",
       "    signature ``callback(xk, **kwargs)`` where ``xk`` is the current\n",
       "    solution vector and ``kwargs`` is a dictionary containing the\n",
       "    following::\n",
       "\n",
       "        \"tableau\" : The current Simplex algorithm tableau\n",
       "        \"nit\" : The current iteration.\n",
       "        \"pivot\" : The pivot (row, column) used for the next iteration.\n",
       "        \"phase\" : Whether the algorithm is in Phase 1 or Phase 2.\n",
       "        \"basis\" : The indices of the columns of the basic variables.\n",
       "\n",
       "options : dict, optional\n",
       "    A dictionary of solver options. All methods accept the following\n",
       "    generic options:\n",
       "\n",
       "        maxiter : int\n",
       "            Maximum number of iterations to perform.\n",
       "        disp : bool\n",
       "            Set to True to print convergence messages.\n",
       "\n",
       "    For method-specific options, see :func:`show_options('linprog')`.\n",
       "\n",
       "Returns\n",
       "-------\n",
       "A `scipy.optimize.OptimizeResult` consisting of the following fields:\n",
       "\n",
       "    x : ndarray\n",
       "        The independent variable vector which optimizes the linear\n",
       "        programming problem.\n",
       "    fun : float\n",
       "        Value of the objective function.\n",
       "    slack : ndarray\n",
       "        The values of the slack variables.  Each slack variable corresponds\n",
       "        to an inequality constraint.  If the slack is zero, then the\n",
       "        corresponding constraint is active.\n",
       "    success : bool\n",
       "        Returns True if the algorithm succeeded in finding an optimal\n",
       "        solution.\n",
       "    status : int\n",
       "        An integer representing the exit status of the optimization::\n",
       "\n",
       "             0 : Optimization terminated successfully\n",
       "             1 : Iteration limit reached\n",
       "             2 : Problem appears to be infeasible\n",
       "             3 : Problem appears to be unbounded\n",
       "\n",
       "    nit : int\n",
       "        The number of iterations performed.\n",
       "    message : str\n",
       "        A string descriptor of the exit status of the optimization.\n",
       "\n",
       "See Also\n",
       "--------\n",
       "show_options : Additional options accepted by the solvers\n",
       "\n",
       "Notes\n",
       "-----\n",
       "This section describes the available solvers that can be selected by the\n",
       "'method' parameter. The default method\n",
       "is :ref:`Simplex <optimize.linprog-simplex>`.\n",
       ":ref:`Interior point <optimize.linprog-interior-point>` is also available.\n",
       "\n",
       "Method *simplex* uses the simplex algorithm (as it relates to linear\n",
       "programming, NOT the Nelder-Mead simplex) [1]_, [2]_. This algorithm\n",
       "should be reasonably reliable and fast for small problems.\n",
       "\n",
       ".. versionadded:: 0.15.0\n",
       "\n",
       "Method *interior-point* uses the primal-dual path following algorithm\n",
       "as outlined in [4]_. This algorithm is intended to provide a faster\n",
       "and more reliable alternative to *simplex*, especially for large,\n",
       "sparse problems. Note, however, that the solution returned may be slightly\n",
       "less accurate than that of the simplex method and may not correspond with a\n",
       "vertex of the polytope defined by the constraints.\n",
       "\n",
       "References\n",
       "----------\n",
       ".. [1] Dantzig, George B., Linear programming and extensions. Rand\n",
       "       Corporation Research Study Princeton Univ. Press, Princeton, NJ,\n",
       "       1963\n",
       ".. [2] Hillier, S.H. and Lieberman, G.J. (1995), \"Introduction to\n",
       "       Mathematical Programming\", McGraw-Hill, Chapter 4.\n",
       ".. [3] Bland, Robert G. New finite pivoting rules for the simplex method.\n",
       "       Mathematics of Operations Research (2), 1977: pp. 103-107.\n",
       ".. [4] Andersen, Erling D., and Knud D. Andersen. \"The MOSEK interior point\n",
       "       optimizer for linear programming: an implementation of the\n",
       "       homogeneous algorithm.\" High performance optimization. Springer US,\n",
       "       2000. 197-232.\n",
       ".. [5] Andersen, Erling D. \"Finding all linearly dependent rows in\n",
       "       large-scale linear programming.\" Optimization Methods and Software\n",
       "       6.3 (1995): 219-227.\n",
       ".. [6] Freund, Robert M. \"Primal-Dual Interior-Point Methods for Linear\n",
       "       Programming based on Newton's Method.\" Unpublished Course Notes,\n",
       "       March 2004. Available 2/25/2017 at\n",
       "       https://ocw.mit.edu/courses/sloan-school-of-management/15-084j-nonlinear-programming-spring-2004/lecture-notes/lec14_int_pt_mthd.pdf\n",
       ".. [7] Fourer, Robert. \"Solving Linear Programs by Interior-Point Methods.\"\n",
       "       Unpublished Course Notes, August 26, 2005. Available 2/25/2017 at\n",
       "       http://www.4er.org/CourseNotes/Book%20B/B-III.pdf\n",
       ".. [8] Andersen, Erling D., and Knud D. Andersen. \"Presolving in linear\n",
       "       programming.\" Mathematical Programming 71.2 (1995): 221-245.\n",
       ".. [9] Bertsimas, Dimitris, and J. Tsitsiklis. \"Introduction to linear\n",
       "       programming.\" Athena Scientific 1 (1997): 997.\n",
       ".. [10] Andersen, Erling D., et al. Implementation of interior point\n",
       "        methods for large scale linear programming. HEC/Universite de\n",
       "        Geneve, 1996.\n",
       "\n",
       "Examples\n",
       "--------\n",
       "Consider the following problem:\n",
       "\n",
       "Minimize: f = -1*x[0] + 4*x[1]\n",
       "\n",
       "Subject to: -3*x[0] + 1*x[1] <= 6\n",
       "             1*x[0] + 2*x[1] <= 4\n",
       "                        x[1] >= -3\n",
       "\n",
       "where:  -inf <= x[0] <= inf\n",
       "\n",
       "This problem deviates from the standard linear programming problem.\n",
       "In standard form, linear programming problems assume the variables x are\n",
       "non-negative.  Since the variables don't have standard bounds where\n",
       "0 <= x <= inf, the bounds of the variables must be explicitly set.\n",
       "\n",
       "There are two upper-bound constraints, which can be expressed as\n",
       "\n",
       "dot(A_ub, x) <= b_ub\n",
       "\n",
       "The input for this problem is as follows:\n",
       "\n",
       ">>> c = [-1, 4]\n",
       ">>> A = [[-3, 1], [1, 2]]\n",
       ">>> b = [6, 4]\n",
       ">>> x0_bounds = (None, None)\n",
       ">>> x1_bounds = (-3, None)\n",
       ">>> from scipy.optimize import linprog\n",
       ">>> res = linprog(c, A_ub=A, b_ub=b, bounds=(x0_bounds, x1_bounds),\n",
       "...               options={\"disp\": True})\n",
       "Optimization terminated successfully.\n",
       "     Current function value: -22.000000\n",
       "     Iterations: 1\n",
       ">>> print(res)\n",
       "     fun: -22.0\n",
       " message: 'Optimization terminated successfully.'\n",
       "     nit: 1\n",
       "   slack: array([39.,  0.])\n",
       "  status: 0\n",
       " success: True\n",
       "       x: array([10., -3.])\n",
       "\n",
       "Note the actual objective value is 11.428571.  In this case we minimized\n",
       "the negative of the objective function.\n",
       "\u001b[1;31mFile:\u001b[0m      c:\\programdata\\anaconda3\\lib\\site-packages\\scipy\\optimize\\_linprog.py\n",
       "\u001b[1;31mType:\u001b[0m      function\n"
      ]
     },
     "metadata": {},
     "output_type": "display_data"
    }
   ],
   "source": [
    "linprog?"
   ]
  },
  {
   "cell_type": "markdown",
   "metadata": {},
   "source": [
    "### Du problème sous forme normale"
   ]
  },
  {
   "cell_type": "code",
   "execution_count": 28,
   "metadata": {},
   "outputs": [
    {
     "data": {
      "text/plain": [
       "     fun: -9099.55\n",
       " message: 'Optimization terminated successfully.'\n",
       "     nit: 5\n",
       "   slack: array([], dtype=float64)\n",
       "  status: 0\n",
       " success: True\n",
       "       x: array([  0. , 450. , 550. ,   0. ,  32.5, 200. ,   0. ])"
      ]
     },
     "execution_count": 28,
     "metadata": {},
     "output_type": "execute_result"
    }
   ],
   "source": [
    "A = np.array([\n",
    "    [1, 1, 1, 1, 0, 0, 0],\n",
    "    [0.9, 0.95, 0.8, 0, 1, 0, 0],\n",
    "    [1, 1, -1, 0, 0, 1, 0],\n",
    "    [-1, -1, 1, 0, 0, 0, 1]\n",
    "])\n",
    "b = np.array([1000, 900, 100, 100])\n",
    "c = -np.array([7.78 * 0.9, 8.42 * 0.95, 12.5 * 0.8, 0, 0, 0, 0])\n",
    "linprog(c, A_eq=A, b_eq=b)"
   ]
  },
  {
   "cell_type": "code",
   "execution_count": 29,
   "metadata": {},
   "outputs": [
    {
     "data": {
      "text/plain": [
       "     con: array([1.22464598e-08, 1.10212568e-08, 1.21065113e-09, 1.22463462e-09])\n",
       "     fun: -9099.54999988529\n",
       " message: 'Optimization terminated successfully.'\n",
       "     nit: 6\n",
       "   slack: array([], dtype=float64)\n",
       "  status: 0\n",
       " success: True\n",
       "       x: array([1.93565078e-09, 4.50000000e+02, 5.50000000e+02, 1.48151921e-10,\n",
       "       3.25000000e+01, 2.00000000e+02, 1.04632804e-11])"
      ]
     },
     "execution_count": 29,
     "metadata": {},
     "output_type": "execute_result"
    }
   ],
   "source": [
    "linprog(c, A_eq=A, b_eq=b, method=\"interior-point\")"
   ]
  },
  {
   "cell_type": "markdown",
   "metadata": {},
   "source": [
    "### Du problème après modélisation"
   ]
  },
  {
   "cell_type": "markdown",
   "metadata": {},
   "source": [
    "Le problème originale a les contraintes\n",
    "$$\n",
    "\\begin{pmatrix}\n",
    "1 & 1 & 1 \\\\\n",
    "0.9 & 0.95 & 0.8 \\\\\n",
    "1 & 1 & -1 \\\\\n",
    "-1 & -1 & 1\n",
    "\\end{pmatrix}\n",
    "\\begin{pmatrix}\n",
    "d \\\\ n \\\\ r\n",
    "\\end{pmatrix}\n",
    "\\leq \n",
    "\\begin{pmatrix}\n",
    "1000 \\\\ 900 \\\\ 100 \\\\ 100\n",
    "\\end{pmatrix}\n",
    "$$"
   ]
  },
  {
   "cell_type": "code",
   "execution_count": 30,
   "metadata": {},
   "outputs": [
    {
     "data": {
      "text/plain": [
       "     fun: -9099.55\n",
       " message: 'Optimization terminated successfully.'\n",
       "     nit: 2\n",
       "   slack: array([  0. ,  32.5, 200. ,   0. ])\n",
       "  status: 0\n",
       " success: True\n",
       "       x: array([  0., 450., 550.])"
      ]
     },
     "execution_count": 30,
     "metadata": {},
     "output_type": "execute_result"
    }
   ],
   "source": [
    "Au = np.array([\n",
    "    [1, 1, 1],\n",
    "    [0.9, 0.95, 0.8],\n",
    "    [1, 1, -1],\n",
    "    [-1, -1, 1]\n",
    "])\n",
    "bu = np.array([1000, 900, 100, 100])\n",
    "cu = -np.array([7.78 * 0.9, 8.42 * 0.95, 12.5 * 0.8])\n",
    "linprog(c=cu, A_ub=Au, b_ub=bu)"
   ]
  },
  {
   "cell_type": "code",
   "execution_count": 31,
   "metadata": {},
   "outputs": [
    {
     "data": {
      "text/plain": [
       "     con: array([], dtype=float64)\n",
       "     fun: -9099.54999988529\n",
       " message: 'Optimization terminated successfully.'\n",
       "     nit: 6\n",
       "   slack: array([1.23945938e-08, 3.25000000e+01, 2.00000000e+02, 1.23509381e-09])\n",
       "  status: 0\n",
       " success: True\n",
       "       x: array([1.93565078e-09, 4.50000000e+02, 5.50000000e+02])"
      ]
     },
     "execution_count": 31,
     "metadata": {},
     "output_type": "execute_result"
    }
   ],
   "source": [
    "linprog(c=cu, A_ub=Au, b_ub=bu, method=\"interior-point\")"
   ]
  },
  {
   "cell_type": "markdown",
   "metadata": {},
   "source": [
    "## Question supplémentaire\n",
    "\n",
    "Que se passe-t-il si on ne garde qu'une des deux contraintes sur l'équilibre des espèces?"
   ]
  },
  {
   "cell_type": "markdown",
   "metadata": {},
   "source": [
    "### Sans règle du tout, puis avec une seule "
   ]
  },
  {
   "cell_type": "code",
   "execution_count": 32,
   "metadata": {},
   "outputs": [
    {
     "data": {
      "text/plain": [
       "     fun: -10000.0\n",
       " message: 'Optimization terminated successfully.'\n",
       "     nit: 1\n",
       "   slack: array([  0., 100.])\n",
       "  status: 0\n",
       " success: True\n",
       "       x: array([   0.,    0., 1000.])"
      ]
     },
     "execution_count": 32,
     "metadata": {},
     "output_type": "execute_result"
    }
   ],
   "source": [
    "Au = np.array([\n",
    "    [1, 1, 1],\n",
    "    [0.9, 0.95, 0.8],\n",
    "])\n",
    "bu = np.array([1000, 900])\n",
    "cu = -np.array([7.78 * 0.9, 8.42 * 0.95, 12.5 * 0.8])\n",
    "linprog(c=cu, A_ub=Au, b_ub=bu)"
   ]
  },
  {
   "cell_type": "code",
   "execution_count": 33,
   "metadata": {},
   "outputs": [
    {
     "data": {
      "text/plain": [
       "     fun: -10000.0\n",
       " message: 'Optimization terminated successfully.'\n",
       "     nit: 1\n",
       "   slack: array([   0.,  100., 1100.])\n",
       "  status: 0\n",
       " success: True\n",
       "       x: array([   0.,    0., 1000.])"
      ]
     },
     "execution_count": 33,
     "metadata": {},
     "output_type": "execute_result"
    }
   ],
   "source": [
    "Au = np.array([\n",
    "    [1, 1, 1],\n",
    "    [0.9, 0.95, 0.8],\n",
    "    [1, 1, -1],\n",
    "])\n",
    "bu = np.array([1000, 900, 100])\n",
    "cu = -np.array([7.78 * 0.9, 8.42 * 0.95, 12.5 * 0.8])\n",
    "linprog(c=cu, A_ub=Au, b_ub=bu)"
   ]
  },
  {
   "cell_type": "code",
   "execution_count": 34,
   "metadata": {},
   "outputs": [
    {
     "data": {
      "text/plain": [
       "     fun: -9099.55\n",
       " message: 'Optimization terminated successfully.'\n",
       "     nit: 2\n",
       "   slack: array([ 0. , 32.5,  0. ])\n",
       "  status: 0\n",
       " success: True\n",
       "       x: array([  0., 450., 550.])"
      ]
     },
     "execution_count": 34,
     "metadata": {},
     "output_type": "execute_result"
    }
   ],
   "source": [
    "Au = np.array([\n",
    "    [1, 1, 1],\n",
    "    [0.9, 0.95, 0.8],\n",
    "    [-1, -1, 1],\n",
    "])\n",
    "bu = np.array([1000, 900, 100])\n",
    "cu = -np.array([7.78 * 0.9, 8.42 * 0.95, 12.5 * 0.8])\n",
    "linprog(c=cu, A_ub=Au, b_ub=bu)"
   ]
  },
  {
   "cell_type": "markdown",
   "metadata": {},
   "source": [
    "# Exercice 2"
   ]
  },
  {
   "cell_type": "markdown",
   "metadata": {},
   "source": [
    "- On introduit les quantités produites $p_1$ et $p_2$ de chaque produit.\n",
    "- Les quantités sont forcément positives\n",
    "$$p_1,p_2 \\geq 0 $$\n",
    "- Pour la machine A on a \n",
    "$$0 p_1 + 3p_2 \\leq 39$$\n",
    "- Pour la machine B on a \n",
    "$$1.5 p_1 + 4 p_2 \\leq 60$$\n",
    "- Pour la machine C on a \n",
    "$$2 p_1 + 3 p_2 \\leq 57$$\n",
    "- Pour la machine D on a \n",
    "$$3 p_1 + 2 p_2 \\leq 70$$\n",
    "- Pour la machine E on a \n",
    "$$3 p_1 + 0 p_2 \\leq 75$$\n",
    "- On cherche à maximiser $1700 p_1 + 3200 p_2$.\n",
    "\n"
   ]
  },
  {
   "cell_type": "code",
   "execution_count": 35,
   "metadata": {},
   "outputs": [
    {
     "name": "stdout",
     "output_type": "stream",
     "text": [
      "[[0.  3. ]\n",
      " [1.5 4. ]\n",
      " [2.  3. ]\n",
      " [3.  2. ]\n",
      " [3.  0. ]]\n",
      "[39 60 57 70 75]\n",
      "[-1700 -3200]\n"
     ]
    }
   ],
   "source": [
    "Au = np.array([\n",
    "    [0, 3],\n",
    "    [1.5, 4],\n",
    "    [2, 3],\n",
    "    [3, 2],\n",
    "    [3, 0],\n",
    "])\n",
    "print(Au)\n",
    "bu = np.array([39, 60, 57, 70, 75])\n",
    "print(bu)\n",
    "c = -np.array([1700, 3200])\n",
    "print(c)"
   ]
  },
  {
   "cell_type": "code",
   "execution_count": 36,
   "metadata": {},
   "outputs": [
    {
     "data": {
      "text/plain": [
       "     fun: -54857.142857142855\n",
       " message: 'Optimization terminated successfully.'\n",
       "     nit: 3\n",
       "   slack: array([ 9.42857143,  0.        ,  0.        ,  9.14285714, 33.85714286])\n",
       "  status: 0\n",
       " success: True\n",
       "       x: array([13.71428571,  9.85714286])"
      ]
     },
     "execution_count": 36,
     "metadata": {},
     "output_type": "execute_result"
    }
   ],
   "source": [
    "linprog(c, A_ub=Au, b_ub=bu)"
   ]
  },
  {
   "cell_type": "markdown",
   "metadata": {},
   "source": [
    "On voit que la marge maximale est $54857.14$ pour des valeurs $p_1=13.71$ et $p_2=9.85$."
   ]
  },
  {
   "cell_type": "markdown",
   "metadata": {},
   "source": [
    "On a de plus maintenant des contraintes venant des fournitures\n",
    "- pour $F_1$\n",
    "$$0 p_1 + 5 p_2 \\leq 55$$\n",
    "- pour $F_2$\n",
    "$$12 p_1 + 36 p_2 \\leq 432$$\n",
    "- pour $F_3$\n",
    "$$8 p_1 + 0 p_ 2 \\leq 136$$"
   ]
  },
  {
   "cell_type": "code",
   "execution_count": 37,
   "metadata": {},
   "outputs": [
    {
     "name": "stdout",
     "output_type": "stream",
     "text": [
      "[[ 0.   3. ]\n",
      " [ 1.5  4. ]\n",
      " [ 2.   3. ]\n",
      " [ 3.   2. ]\n",
      " [ 3.   0. ]\n",
      " [ 0.   5. ]\n",
      " [12.  36. ]\n",
      " [ 8.   0. ]]\n",
      "[ 39  60  57  70  75  55 432 136]\n",
      "[-1700 -3200]\n"
     ]
    }
   ],
   "source": [
    "Au = np.array([\n",
    "    [0, 3],\n",
    "    [1.5, 4],\n",
    "    [2, 3],\n",
    "    [3, 2],\n",
    "    [3, 0],\n",
    "    [0, 5],\n",
    "    [12, 36],\n",
    "    [8, 0],\n",
    "])\n",
    "print(Au)\n",
    "bu = np.array([39, 60, 57, 70, 75, 55, 432, 136])\n",
    "print(bu)\n",
    "c = -np.array([1700, 3200])\n",
    "print(c)"
   ]
  },
  {
   "cell_type": "code",
   "execution_count": 38,
   "metadata": {},
   "outputs": [
    {
     "data": {
      "text/plain": [
       "     fun: -49166.66666666667\n",
       " message: 'Optimization terminated successfully.'\n",
       "     nit: 3\n",
       "   slack: array([20.        ,  9.16666667,  4.        ,  6.33333333, 24.        ,\n",
       "       23.33333333,  0.        ,  0.        ])\n",
       "  status: 0\n",
       " success: True\n",
       "       x: array([17.        ,  6.33333333])"
      ]
     },
     "execution_count": 38,
     "metadata": {},
     "output_type": "execute_result"
    }
   ],
   "source": [
    "linprog(c, A_ub=Au, b_ub=bu)"
   ]
  },
  {
   "cell_type": "markdown",
   "metadata": {},
   "source": [
    "On voit que la marge maximale est $49166.66$ pour des valeurs $p_1=17$ et $p_2=6.33$."
   ]
  },
  {
   "cell_type": "markdown",
   "metadata": {},
   "source": [
    "# Exercice 3\n",
    "\n",
    "Les variables sont les $c_{i,j}$ et on voit alors les contraintes\n",
    "- les quantités sont positives\n",
    "$$ c_{i,j}\\geq 0,$$\n",
    "- On ne peut prendre plus de $8$ dans le dépot 1\n",
    "$$c_{1, 1}+c_{1, 2}+c_{1, 3} \\leq 8.$$\n",
    "- On ne peut prendre plus de $9$ dans le dépot 2\n",
    "$$c_{2, 1}+c_{2, 2}+c_{2, 3} \\leq 9.$$\n",
    "- Le client 1 doit recevoir 4 unites\n",
    "$$c_{1, 1} + c_{2, 1} = 4.$$\n",
    "- Le client 2 doit recevoir 4 unites\n",
    "$$c_{1, 2} + c_{2, 2} = 5.$$\n",
    "- Le client 3 doit recevoir 4 unites\n",
    "$$c_{1, 3} + c_{2, 3} = 8.$$\n",
    "- On cherche à minimiser\n",
    "$$5 c_{1, 1} + 3 c_{1, 2} + 4 c_{1, 3} + 6 c_{2, 1} + 7 c_{2, 2} + 2 c_{2, 3}$$"
   ]
  },
  {
   "cell_type": "code",
   "execution_count": 39,
   "metadata": {},
   "outputs": [
    {
     "data": {
      "text/plain": [
       "     fun: 52.0\n",
       " message: 'Optimization terminated successfully.'\n",
       "     nit: 7\n",
       "   slack: array([0., 0.])\n",
       "  status: 0\n",
       " success: True\n",
       "       x: array([3., 5., 0., 1., 0., 8.])"
      ]
     },
     "execution_count": 39,
     "metadata": {},
     "output_type": "execute_result"
    }
   ],
   "source": [
    "Au = np.array([\n",
    "    [1, 1, 1, 0, 0, 0],\n",
    "    [0, 0, 0, 1, 1, 1],\n",
    "])\n",
    "bu = np.array([8, 9])\n",
    "Ae = np.array([\n",
    "    [1, 0, 0, 1, 0, 0],\n",
    "    [0, 1, 0, 0, 1, 0],\n",
    "    [0, 0, 1, 0, 0, 1],\n",
    "])\n",
    "be = np.array([4, 5, 8])\n",
    "c = np.array([5, 3, 4, 6, 7, 2])\n",
    "linprog(c, A_eq=Ae, A_ub=Au, b_eq=be, b_ub=bu)"
   ]
  },
  {
   "cell_type": "markdown",
   "metadata": {},
   "source": [
    "Le cout minimal est de $52$ pour des valeurs\n",
    "$$c_{1, 1} = 3,\\quad c_{1, 2} = 5,\\quad c_{1, 3} = 0,\\quad c_{2, 1} = 1,\\quad c_{2, 2} = 8,\\quad c_{2, 3} = 8.$$ "
   ]
  },
  {
   "cell_type": "code",
   "execution_count": null,
   "metadata": {},
   "outputs": [],
   "source": []
  }
 ],
 "metadata": {
  "kernelspec": {
   "display_name": "Python 3",
   "language": "python",
   "name": "python3"
  },
  "language_info": {
   "codemirror_mode": {
    "name": "ipython",
    "version": 3
   },
   "file_extension": ".py",
   "mimetype": "text/x-python",
   "name": "python",
   "nbconvert_exporter": "python",
   "pygments_lexer": "ipython3",
   "version": "3.6.5"
  }
 },
 "nbformat": 4,
 "nbformat_minor": 2
}
