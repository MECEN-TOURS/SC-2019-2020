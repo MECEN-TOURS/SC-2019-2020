{
 "cells": [
  {
   "cell_type": "markdown",
   "metadata": {},
   "source": [
    "# Exercice\n",
    "\n",
    "- Adapter les structures représentant un graphe dans les premières séances (couple sommets/arretes ou dictionnaire de voisinage) pour représenter un graphe pondéré.\n",
    "- Adapter BFS/DFS pour coder Dijkstra."
   ]
  },
  {
   "cell_type": "code",
   "execution_count": 10,
   "metadata": {},
   "outputs": [],
   "source": [
    "SOMMETS = list(\"ADabcd\")\n",
    "ARRETES = [\n",
    "    (\"D\", \"a\", 1),\n",
    "    (\"a\", \"D\", 1),\n",
    "    (\"b\", \"a\", 1),\n",
    "    (\"a\", \"b\", 1),\n",
    "    (\"D\", \"b\", 6),\n",
    "    (\"b\", \"D\", 6),\n",
    "    (\"D\", \"c\", 1),\n",
    "    (\"c\", \"D\", 1),\n",
    "    (\"c\", \"d\", 2),\n",
    "    (\"d\", \"c\", 2),\n",
    "    (\"b\", \"d\", 3),\n",
    "    (\"d\", \"b\", 3),\n",
    "    (\"b\", \"A\", 1),\n",
    "    (\"A\", \"b\", 1),\n",
    "    (\"d\", \"A\", 4),\n",
    "    (\"A\", \"d\", 4),\n",
    "]\n",
    "VOISINAGE = {\n",
    "    \"D\": [(\"a\", 1), (\"b\", 6), (\"c\", 1)],\n",
    "    \"a\": [(\"D\", 1), (\"b\", 1)],\n",
    "    \"b\": [(\"a\", 1), (\"D\", 6), (\"d\", 3), (\"A\", 1)],\n",
    "    \"c\": [(\"D\", 1) ,(\"d\", 2)],\n",
    "    \"d\": [(\"c\", 2), (\"b\", 3), (\"A\", 4)],\n",
    "    \"A\": [(\"d\", 4), (\"b\", 1)],\n",
    "}"
   ]
  },
  {
   "cell_type": "code",
   "execution_count": 11,
   "metadata": {},
   "outputs": [],
   "source": [
    "def transformation_voisinage(sommets, arretes):\n",
    "    resultat = dict()\n",
    "    for sommet in sommets:\n",
    "        resultat[sommet] = list()\n",
    "    for sommet1, sommet2, poids in arretes:\n",
    "        resultat[sommet1].append((sommet2, poids))\n",
    "    return resultat"
   ]
  },
  {
   "cell_type": "code",
   "execution_count": 12,
   "metadata": {},
   "outputs": [
    {
     "name": "stdout",
     "output_type": "stream",
     "text": [
      "D\n",
      "Calculé :  [('a', 1), ('b', 6), ('c', 1)]\n",
      "Attendu :  [('a', 1), ('b', 6), ('c', 1)]\n",
      "a\n",
      "Calculé :  [('D', 1), ('b', 1)]\n",
      "Attendu :  [('D', 1), ('b', 1)]\n",
      "b\n",
      "Calculé :  [('a', 1), ('D', 6), ('d', 3), ('A', 1)]\n",
      "Attendu :  [('a', 1), ('D', 6), ('d', 3), ('A', 1)]\n",
      "c\n",
      "Calculé :  [('D', 1), ('d', 2)]\n",
      "Attendu :  [('D', 1), ('d', 2)]\n",
      "d\n",
      "Calculé :  [('c', 2), ('b', 3), ('A', 4)]\n",
      "Attendu :  [('c', 2), ('b', 3), ('A', 4)]\n",
      "A\n",
      "Calculé :  [('b', 1), ('d', 4)]\n",
      "Attendu :  [('d', 4), ('b', 1)]\n"
     ]
    }
   ],
   "source": [
    "resultat_voisinage = transformation_voisinage(SOMMETS, ARRETES)\n",
    "for sommet in VOISINAGE:\n",
    "    print(sommet)\n",
    "    print(\"Calculé : \", resultat_voisinage[sommet])\n",
    "    print(\"Attendu : \", VOISINAGE[sommet])\n",
    "    "
   ]
  },
  {
   "cell_type": "code",
   "execution_count": 13,
   "metadata": {},
   "outputs": [],
   "source": [
    "def transformation_ensemble(voisinage):\n",
    "    sommets = list()\n",
    "    arretes = list()\n",
    "    for sommet, voisins in voisinage.items():\n",
    "        sommets.append(sommet)\n",
    "        for voisin, poids in voisins:\n",
    "            arretes.append((sommet, voisin, poids))\n",
    "    return sommets, arretes"
   ]
  },
  {
   "cell_type": "code",
   "execution_count": 15,
   "metadata": {},
   "outputs": [],
   "source": [
    "sommets, arretes = transformation_ensemble(VOISINAGE)\n",
    "assert sorted(sommets) == sorted(SOMMETS)\n",
    "assert sorted(arretes) == sorted(ARRETES)"
   ]
  },
  {
   "cell_type": "code",
   "execution_count": 16,
   "metadata": {},
   "outputs": [],
   "source": [
    "def clef_plus_petite_valeur(dico):\n",
    "    val_min = float(\"inf\")\n",
    "    clef_min = None\n",
    "    for clef, val in dico.items():\n",
    "        if val < val_min:\n",
    "            val_min = val\n",
    "            clef_min = clef\n",
    "            \n",
    "    return clef_min"
   ]
  },
  {
   "cell_type": "code",
   "execution_count": 19,
   "metadata": {},
   "outputs": [],
   "source": [
    "def dijkstra(voisinage, depart):\n",
    "    visites = dict()\n",
    "    vus = dict()\n",
    "    vus[depart] = 0\n",
    "    while vus:\n",
    "        noeud_courant = clef_plus_petite_valeur(vus)\n",
    "        visites[noeud_courant] = vus[noeud_courant]\n",
    "        vus.pop(noeud_courant) # a enlever\n",
    "        for voisin, poids in voisinage[noeud_courant]:\n",
    "            if voisin not in visites:\n",
    "                total = poids + visites[noeud_courant]\n",
    "                if voisin not in vus:\n",
    "                    vus[voisin] = total\n",
    "                else:\n",
    "                    vus[voisin] = min(vus[voisin], total)\n",
    "    \n",
    "    return visites\n",
    "    "
   ]
  },
  {
   "cell_type": "markdown",
   "metadata": {},
   "source": [
    "## Tester et débugguer le cas échéant"
   ]
  },
  {
   "cell_type": "code",
   "execution_count": 20,
   "metadata": {},
   "outputs": [
    {
     "data": {
      "text/plain": [
       "{'D': 0, 'a': 1, 'c': 1, 'b': 2, 'd': 3, 'A': 3}"
      ]
     },
     "execution_count": 20,
     "metadata": {},
     "output_type": "execute_result"
    }
   ],
   "source": [
    "dijkstra(VOISINAGE, \"D\")"
   ]
  },
  {
   "cell_type": "markdown",
   "metadata": {},
   "source": [
    "## Calculer les distances depuis c"
   ]
  },
  {
   "cell_type": "code",
   "execution_count": 21,
   "metadata": {},
   "outputs": [
    {
     "data": {
      "text/plain": [
       "{'c': 0, 'D': 1, 'd': 2, 'a': 2, 'b': 3, 'A': 4}"
      ]
     },
     "execution_count": 21,
     "metadata": {},
     "output_type": "execute_result"
    }
   ],
   "source": [
    "dijkstra(VOISINAGE, \"c\")"
   ]
  },
  {
   "cell_type": "markdown",
   "metadata": {},
   "source": [
    "# Implémenter remonte arbre"
   ]
  },
  {
   "cell_type": "code",
   "execution_count": 22,
   "metadata": {},
   "outputs": [
    {
     "data": {
      "text/plain": [
       "Ellipsis"
      ]
     },
     "execution_count": 22,
     "metadata": {},
     "output_type": "execute_result"
    }
   ],
   "source": [
    "..."
   ]
  },
  {
   "cell_type": "code",
   "execution_count": null,
   "metadata": {},
   "outputs": [],
   "source": []
  }
 ],
 "metadata": {
  "kernelspec": {
   "display_name": "Python 3",
   "language": "python",
   "name": "python3"
  },
  "language_info": {
   "codemirror_mode": {
    "name": "ipython",
    "version": 3
   },
   "file_extension": ".py",
   "mimetype": "text/x-python",
   "name": "python",
   "nbconvert_exporter": "python",
   "pygments_lexer": "ipython3",
   "version": "3.6.5"
  }
 },
 "nbformat": 4,
 "nbformat_minor": 2
}
